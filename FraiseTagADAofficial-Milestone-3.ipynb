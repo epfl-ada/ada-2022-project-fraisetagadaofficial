{
 "cells": [
  {
   "cell_type": "markdown",
   "id": "39b2bd3f-5af7-4f1c-a70a-cf11d91fc6d9",
   "metadata": {},
   "source": [
    "# YouNiverse - Understanding the YouTube algorithm\n",
    "## By Corentin Tissier, Wissam Pheng, Sander Miesen and Pierugo Pace"
   ]
  },
  {
   "cell_type": "code",
   "execution_count": 1,
   "id": "1c131df5-0cac-4985-ae04-4de6daf11a7f",
   "metadata": {},
   "outputs": [],
   "source": [
    "import pandas as pd\n",
    "import matplotlib.pyplot as plt\n",
    "import os\n",
    "import os.path as op\n",
    "import pickle\n",
    "import numpy as np\n",
    "import seaborn as sns\n",
    "import gc\n",
    "from datetime import date\n",
    "from scipy import stats"
   ]
  },
  {
   "cell_type": "code",
   "execution_count": 8,
   "id": "277e6fb6-c6ce-4a83-a5fe-490c8b7033b2",
   "metadata": {},
   "outputs": [],
   "source": [
    "DATA = op.join(os.getcwd(), \"../Dataset\")"
   ]
  },
  {
   "cell_type": "code",
   "execution_count": 3,
   "id": "399ee730-af65-4e9e-bc55-4246b50a87c3",
   "metadata": {},
   "outputs": [],
   "source": [
    "# Importing the dataframes from the preprocessed (containing english channels) files\n",
    "df_channels       = pd.read_csv(op.join(DATA,\"df_channels_en.tsv.gz\"), sep=\"\\t\", index_col=\"channel\")\n",
    "df_num_comments   = pd.read_csv(op.join(DATA,\"num_comments.tsv.gz\"),sep=\"\\t\")\n",
    "df_timeseries     = pd.read_csv(op.join(DATA,\"df_timeseries_en.tsv.gz\"),sep=\"\\t\")\n",
    "df_metadata       = pd.read_parquet(op.join(DATA, \"df_metadata_feather.parquet.gzip\"), engine=\"fastparquet\")"
   ]
  },
  {
   "cell_type": "markdown",
   "id": "a3fa4e5e",
   "metadata": {},
   "source": [
    "# I. Looking at the data, and what can we do with it ?\n",
    "\n",
    "In this section, we look at multiple aspects of the data : what each data frame looks like and each feature's type, missing data, distributions and correlations between some features from each data frame. We also try to see whether some of the features can be transformed or discretized, and whether new ones can be created.\n",
    "\n",
    "## i. Looking at the individual data frames and features\n",
    "\n",
    "### 1. channels_en"
   ]
  },
  {
   "cell_type": "code",
   "execution_count": 6,
   "id": "eaa5e691",
   "metadata": {},
   "outputs": [
    {
     "data": {
      "text/html": [
       "<div>\n",
       "<style scoped>\n",
       "    .dataframe tbody tr th:only-of-type {\n",
       "        vertical-align: middle;\n",
       "    }\n",
       "\n",
       "    .dataframe tbody tr th {\n",
       "        vertical-align: top;\n",
       "    }\n",
       "\n",
       "    .dataframe thead th {\n",
       "        text-align: right;\n",
       "    }\n",
       "</style>\n",
       "<table border=\"1\" class=\"dataframe\">\n",
       "  <thead>\n",
       "    <tr style=\"text-align: right;\">\n",
       "      <th></th>\n",
       "      <th>category_cc</th>\n",
       "      <th>join_date</th>\n",
       "      <th>name_cc</th>\n",
       "      <th>subscribers_cc</th>\n",
       "      <th>videos_cc</th>\n",
       "      <th>subscriber_rank_sb</th>\n",
       "      <th>weights</th>\n",
       "    </tr>\n",
       "    <tr>\n",
       "      <th>channel</th>\n",
       "      <th></th>\n",
       "      <th></th>\n",
       "      <th></th>\n",
       "      <th></th>\n",
       "      <th></th>\n",
       "      <th></th>\n",
       "      <th></th>\n",
       "    </tr>\n",
       "  </thead>\n",
       "  <tbody>\n",
       "    <tr>\n",
       "      <th>UC-lHJZR3Gqxm24_Vd_AJ5Yw</th>\n",
       "      <td>Gaming</td>\n",
       "      <td>2010-04-29</td>\n",
       "      <td>PewDiePie</td>\n",
       "      <td>101000000</td>\n",
       "      <td>3956</td>\n",
       "      <td>3.0</td>\n",
       "      <td>2.087</td>\n",
       "    </tr>\n",
       "    <tr>\n",
       "      <th>UCbCmjCuTUZos6Inko4u57UQ</th>\n",
       "      <td>Education</td>\n",
       "      <td>2006-09-01</td>\n",
       "      <td>Cocomelon - Nursery ...</td>\n",
       "      <td>60100000</td>\n",
       "      <td>458</td>\n",
       "      <td>7.0</td>\n",
       "      <td>2.087</td>\n",
       "    </tr>\n",
       "    <tr>\n",
       "      <th>UCpEhnqL0y41EpW2TvWAHD7Q</th>\n",
       "      <td>Entertainment</td>\n",
       "      <td>2006-09-20</td>\n",
       "      <td>SET India</td>\n",
       "      <td>56018869</td>\n",
       "      <td>32661</td>\n",
       "      <td>8.0</td>\n",
       "      <td>2.087</td>\n",
       "    </tr>\n",
       "    <tr>\n",
       "      <th>UC295-Dw_tDNtZXFeAPAW6Aw</th>\n",
       "      <td>Howto &amp; Style</td>\n",
       "      <td>2016-11-15</td>\n",
       "      <td>5-Minute Crafts</td>\n",
       "      <td>60600000</td>\n",
       "      <td>3591</td>\n",
       "      <td>9.0</td>\n",
       "      <td>2.087</td>\n",
       "    </tr>\n",
       "    <tr>\n",
       "      <th>UCJ5v_MCY6GNUBTO8-D3XoAg</th>\n",
       "      <td>Sports</td>\n",
       "      <td>2007-05-11</td>\n",
       "      <td>WWE</td>\n",
       "      <td>48400000</td>\n",
       "      <td>43421</td>\n",
       "      <td>11.0</td>\n",
       "      <td>2.087</td>\n",
       "    </tr>\n",
       "  </tbody>\n",
       "</table>\n",
       "</div>"
      ],
      "text/plain": [
       "                            category_cc   join_date                  name_cc  \\\n",
       "channel                                                                        \n",
       "UC-lHJZR3Gqxm24_Vd_AJ5Yw         Gaming  2010-04-29                PewDiePie   \n",
       "UCbCmjCuTUZos6Inko4u57UQ      Education  2006-09-01  Cocomelon - Nursery ...   \n",
       "UCpEhnqL0y41EpW2TvWAHD7Q  Entertainment  2006-09-20                SET India   \n",
       "UC295-Dw_tDNtZXFeAPAW6Aw  Howto & Style  2016-11-15          5-Minute Crafts   \n",
       "UCJ5v_MCY6GNUBTO8-D3XoAg         Sports  2007-05-11                      WWE   \n",
       "\n",
       "                          subscribers_cc  videos_cc  subscriber_rank_sb  \\\n",
       "channel                                                                   \n",
       "UC-lHJZR3Gqxm24_Vd_AJ5Yw       101000000       3956                 3.0   \n",
       "UCbCmjCuTUZos6Inko4u57UQ        60100000        458                 7.0   \n",
       "UCpEhnqL0y41EpW2TvWAHD7Q        56018869      32661                 8.0   \n",
       "UC295-Dw_tDNtZXFeAPAW6Aw        60600000       3591                 9.0   \n",
       "UCJ5v_MCY6GNUBTO8-D3XoAg        48400000      43421                11.0   \n",
       "\n",
       "                          weights  \n",
       "channel                            \n",
       "UC-lHJZR3Gqxm24_Vd_AJ5Yw    2.087  \n",
       "UCbCmjCuTUZos6Inko4u57UQ    2.087  \n",
       "UCpEhnqL0y41EpW2TvWAHD7Q    2.087  \n",
       "UC295-Dw_tDNtZXFeAPAW6Aw    2.087  \n",
       "UCJ5v_MCY6GNUBTO8-D3XoAg    2.087  "
      ]
     },
     "execution_count": 6,
     "metadata": {},
     "output_type": "execute_result"
    }
   ],
   "source": [
    "df_channels.head()"
   ]
  },
  {
   "cell_type": "code",
   "execution_count": 7,
   "id": "b04866f4",
   "metadata": {},
   "outputs": [
    {
     "data": {
      "text/plain": [
       "category_cc            object\n",
       "join_date              object\n",
       "name_cc                object\n",
       "subscribers_cc          int64\n",
       "videos_cc               int64\n",
       "subscriber_rank_sb    float64\n",
       "weights               float64\n",
       "dtype: object"
      ]
     },
     "execution_count": 7,
     "metadata": {},
     "output_type": "execute_result"
    }
   ],
   "source": [
    "df_channels.dtypes"
   ]
  },
  {
   "cell_type": "markdown",
   "id": "00c4ca79",
   "metadata": {},
   "source": [
    "This data frame contains information relative to channels, which each have a unique id (stored in the index of the data frame), and are categorized by their, from left to right : \n",
    "- category of the channel, can be \"Gaming\", \"Education\", \"Sports\" etc...\n",
    "- join date in the format yyyy-mm-dd, this format might be a problem when trying to compare different dates, but this will be dealt with later\n",
    "- name of the channel\n",
    "- subscriber number\n",
    "- video number\n",
    "- subscriber rank : we saw that some channels are missing (for example, the #1 channel) and that this value is of type float, which can be converted to type int as they are whole numbers\n",
    "- weights, the derivation of which is detailed in the [paper corresponding to the data](https://arxiv.org/abs/2012.10378)"
   ]
  },
  {
   "cell_type": "code",
   "execution_count": 8,
   "id": "2846f3fd",
   "metadata": {},
   "outputs": [
    {
     "name": "stdout",
     "output_type": "stream",
     "text": [
      "The number of rows in the data frame is 136470 and the number of unique ids contained in it is 136470. \n",
      "This means that all rows contain data for a specific channel, and that this dataframe contains data of 136470 channels.\n"
     ]
    }
   ],
   "source": [
    "print(\"The number of rows in the data frame is \" + str(len(df_channels)) + \n",
    "      \" and the number of unique ids contained in it is \" + str(len(df_channels.index.unique())) + \".\", \"\\n\"\n",
    "      \"This means that all rows contain data for a specific channel, and that this dataframe contains data of \" + \n",
    "      str(len(df_channels)) + \" channels.\")"
   ]
  },
  {
   "cell_type": "markdown",
   "id": "9644ebc8",
   "metadata": {},
   "source": [
    "### 2. num_comments"
   ]
  },
  {
   "cell_type": "code",
   "execution_count": 9,
   "id": "05849dd3",
   "metadata": {},
   "outputs": [
    {
     "data": {
      "text/html": [
       "<div>\n",
       "<style scoped>\n",
       "    .dataframe tbody tr th:only-of-type {\n",
       "        vertical-align: middle;\n",
       "    }\n",
       "\n",
       "    .dataframe tbody tr th {\n",
       "        vertical-align: top;\n",
       "    }\n",
       "\n",
       "    .dataframe thead th {\n",
       "        text-align: right;\n",
       "    }\n",
       "</style>\n",
       "<table border=\"1\" class=\"dataframe\">\n",
       "  <thead>\n",
       "    <tr style=\"text-align: right;\">\n",
       "      <th></th>\n",
       "      <th>display_id</th>\n",
       "      <th>num_comms</th>\n",
       "    </tr>\n",
       "  </thead>\n",
       "  <tbody>\n",
       "    <tr>\n",
       "      <th>0</th>\n",
       "      <td>SBqSc91Hn9g</td>\n",
       "      <td>0.0</td>\n",
       "    </tr>\n",
       "    <tr>\n",
       "      <th>1</th>\n",
       "      <td>UuugEl86ESY</td>\n",
       "      <td>0.0</td>\n",
       "    </tr>\n",
       "    <tr>\n",
       "      <th>2</th>\n",
       "      <td>oB4c-yvnbjs</td>\n",
       "      <td>48.0</td>\n",
       "    </tr>\n",
       "    <tr>\n",
       "      <th>3</th>\n",
       "      <td>ZaV-gTCMV8E</td>\n",
       "      <td>6.0</td>\n",
       "    </tr>\n",
       "    <tr>\n",
       "      <th>4</th>\n",
       "      <td>cGvL7AvMfM0</td>\n",
       "      <td>5.0</td>\n",
       "    </tr>\n",
       "  </tbody>\n",
       "</table>\n",
       "</div>"
      ],
      "text/plain": [
       "    display_id  num_comms\n",
       "0  SBqSc91Hn9g        0.0\n",
       "1  UuugEl86ESY        0.0\n",
       "2  oB4c-yvnbjs       48.0\n",
       "3  ZaV-gTCMV8E        6.0\n",
       "4  cGvL7AvMfM0        5.0"
      ]
     },
     "execution_count": 9,
     "metadata": {},
     "output_type": "execute_result"
    }
   ],
   "source": [
    "df_num_comments.head()"
   ]
  },
  {
   "cell_type": "code",
   "execution_count": 10,
   "id": "4199b4d9",
   "metadata": {},
   "outputs": [
    {
     "data": {
      "text/plain": [
       "display_id     object\n",
       "num_comms     float64\n",
       "dtype: object"
      ]
     },
     "execution_count": 10,
     "metadata": {},
     "output_type": "execute_result"
    }
   ],
   "source": [
    "df_num_comments.dtypes"
   ]
  },
  {
   "cell_type": "markdown",
   "id": "b585516e",
   "metadata": {},
   "source": [
    "This data frame contains some comment information for each video. From left to right the features are :\n",
    "- the video id \n",
    "- the number of comments, this could be converted to the int type, due to the fact that the number of comments is a whole number"
   ]
  },
  {
   "cell_type": "code",
   "execution_count": 11,
   "id": "439bb22a",
   "metadata": {},
   "outputs": [
    {
     "name": "stdout",
     "output_type": "stream",
     "text": [
      "The number of rows of the data frame is 72924794 and the number of unique ids contained in it is 72924794. \n",
      "This means that all rows contain data for a specific comment, and that this dataframe contains data of 72924794 comments.\n"
     ]
    }
   ],
   "source": [
    "print(\"The number of rows of the data frame is \" + str(len(df_num_comments)) + \n",
    "      \" and the number of unique ids contained in it is \" + str(len(df_num_comments[\"display_id\"].unique())) + \".\", \"\\n\"  \n",
    "      \"This means that all rows contain data for a specific comment, and that this dataframe contains data of \" + \n",
    "      str(len(df_num_comments)) + \" comments.\")"
   ]
  },
  {
   "cell_type": "markdown",
   "id": "4855c8bc",
   "metadata": {},
   "source": [
    "### 3. timeseries "
   ]
  },
  {
   "cell_type": "code",
   "execution_count": 12,
   "id": "2a91aa03",
   "metadata": {},
   "outputs": [
    {
     "data": {
      "text/html": [
       "<div>\n",
       "<style scoped>\n",
       "    .dataframe tbody tr th:only-of-type {\n",
       "        vertical-align: middle;\n",
       "    }\n",
       "\n",
       "    .dataframe tbody tr th {\n",
       "        vertical-align: top;\n",
       "    }\n",
       "\n",
       "    .dataframe thead th {\n",
       "        text-align: right;\n",
       "    }\n",
       "</style>\n",
       "<table border=\"1\" class=\"dataframe\">\n",
       "  <thead>\n",
       "    <tr style=\"text-align: right;\">\n",
       "      <th></th>\n",
       "      <th>channel</th>\n",
       "      <th>category</th>\n",
       "      <th>datetime</th>\n",
       "      <th>views</th>\n",
       "      <th>delta_views</th>\n",
       "      <th>subs</th>\n",
       "      <th>delta_subs</th>\n",
       "      <th>videos</th>\n",
       "      <th>delta_videos</th>\n",
       "      <th>activity</th>\n",
       "    </tr>\n",
       "  </thead>\n",
       "  <tbody>\n",
       "    <tr>\n",
       "      <th>0</th>\n",
       "      <td>UCBJuEqXfXTdcPSbGO9qqn1g</td>\n",
       "      <td>Film and Animation</td>\n",
       "      <td>2017-07-03 00:00:00</td>\n",
       "      <td>2.024946e+05</td>\n",
       "      <td>0.000000</td>\n",
       "      <td>650.222222</td>\n",
       "      <td>0.000000</td>\n",
       "      <td>5</td>\n",
       "      <td>0</td>\n",
       "      <td>3</td>\n",
       "    </tr>\n",
       "    <tr>\n",
       "      <th>1</th>\n",
       "      <td>UCBJuEqXfXTdcPSbGO9qqn1g</td>\n",
       "      <td>Film and Animation</td>\n",
       "      <td>2017-07-10 00:00:00</td>\n",
       "      <td>3.940857e+05</td>\n",
       "      <td>191591.111111</td>\n",
       "      <td>1046.000000</td>\n",
       "      <td>395.777778</td>\n",
       "      <td>6</td>\n",
       "      <td>1</td>\n",
       "      <td>1</td>\n",
       "    </tr>\n",
       "    <tr>\n",
       "      <th>2</th>\n",
       "      <td>UCBJuEqXfXTdcPSbGO9qqn1g</td>\n",
       "      <td>Film and Animation</td>\n",
       "      <td>2017-07-17 00:00:00</td>\n",
       "      <td>8.353938e+05</td>\n",
       "      <td>441308.083333</td>\n",
       "      <td>1501.500000</td>\n",
       "      <td>455.500000</td>\n",
       "      <td>6</td>\n",
       "      <td>0</td>\n",
       "      <td>1</td>\n",
       "    </tr>\n",
       "    <tr>\n",
       "      <th>3</th>\n",
       "      <td>UCBJuEqXfXTdcPSbGO9qqn1g</td>\n",
       "      <td>Film and Animation</td>\n",
       "      <td>2017-07-24 00:00:00</td>\n",
       "      <td>1.104577e+06</td>\n",
       "      <td>269183.250000</td>\n",
       "      <td>1750.000000</td>\n",
       "      <td>248.500000</td>\n",
       "      <td>6</td>\n",
       "      <td>0</td>\n",
       "      <td>0</td>\n",
       "    </tr>\n",
       "    <tr>\n",
       "      <th>4</th>\n",
       "      <td>UCBJuEqXfXTdcPSbGO9qqn1g</td>\n",
       "      <td>Film and Animation</td>\n",
       "      <td>2017-07-31 00:00:00</td>\n",
       "      <td>1.284406e+06</td>\n",
       "      <td>179828.600000</td>\n",
       "      <td>2008.300000</td>\n",
       "      <td>258.300000</td>\n",
       "      <td>6</td>\n",
       "      <td>0</td>\n",
       "      <td>0</td>\n",
       "    </tr>\n",
       "  </tbody>\n",
       "</table>\n",
       "</div>"
      ],
      "text/plain": [
       "                    channel            category             datetime  \\\n",
       "0  UCBJuEqXfXTdcPSbGO9qqn1g  Film and Animation  2017-07-03 00:00:00   \n",
       "1  UCBJuEqXfXTdcPSbGO9qqn1g  Film and Animation  2017-07-10 00:00:00   \n",
       "2  UCBJuEqXfXTdcPSbGO9qqn1g  Film and Animation  2017-07-17 00:00:00   \n",
       "3  UCBJuEqXfXTdcPSbGO9qqn1g  Film and Animation  2017-07-24 00:00:00   \n",
       "4  UCBJuEqXfXTdcPSbGO9qqn1g  Film and Animation  2017-07-31 00:00:00   \n",
       "\n",
       "          views    delta_views         subs  delta_subs  videos  delta_videos  \\\n",
       "0  2.024946e+05       0.000000   650.222222    0.000000       5             0   \n",
       "1  3.940857e+05  191591.111111  1046.000000  395.777778       6             1   \n",
       "2  8.353938e+05  441308.083333  1501.500000  455.500000       6             0   \n",
       "3  1.104577e+06  269183.250000  1750.000000  248.500000       6             0   \n",
       "4  1.284406e+06  179828.600000  2008.300000  258.300000       6             0   \n",
       "\n",
       "   activity  \n",
       "0         3  \n",
       "1         1  \n",
       "2         1  \n",
       "3         0  \n",
       "4         0  "
      ]
     },
     "execution_count": 12,
     "metadata": {},
     "output_type": "execute_result"
    }
   ],
   "source": [
    "df_timeseries.head()"
   ]
  },
  {
   "cell_type": "code",
   "execution_count": 10,
   "id": "e7bb18fe-b693-405a-a1a1-010496471649",
   "metadata": {},
   "outputs": [],
   "source": [
    "df_timeseries[\"datetime\"] = pd.to_datetime(df_timeseries[\"datetime\"], infer_datetime_format=True)"
   ]
  },
  {
   "cell_type": "code",
   "execution_count": 14,
   "id": "5e891d28",
   "metadata": {},
   "outputs": [
    {
     "data": {
      "text/plain": [
       "channel                 object\n",
       "category                object\n",
       "datetime        datetime64[ns]\n",
       "views                  float64\n",
       "delta_views            float64\n",
       "subs                   float64\n",
       "delta_subs             float64\n",
       "videos                   int64\n",
       "delta_videos             int64\n",
       "activity                 int64\n",
       "dtype: object"
      ]
     },
     "execution_count": 14,
     "metadata": {},
     "output_type": "execute_result"
    }
   ],
   "source": [
    "df_timeseries.dtypes"
   ]
  },
  {
   "cell_type": "markdown",
   "id": "ed95533a",
   "metadata": {},
   "source": [
    "The data frame contains information about channels over time. For each channel, multiple features were recorded at different time points. From left to right, the features are : \n",
    "- the channel id\n",
    "- the category of the channel\n",
    "- the date and time of the recording\n",
    "- the total number of views of the channel at the current time point\n",
    "- the number of gained views during the week preceding the current timepoint\n",
    "- the number of subscribers at the current time point\n",
    "- the number of gained subscribers during the week preceding the current timepoint\n",
    "- the total number of the channel at the current time point\n",
    "- the difference between the number of videos at the current time point and the number of videos a week before\n",
    "- the number of published videos during a 15-day period preceding the current timepoint\n",
    "\n",
    "We can see that some of these values (views, delta_views, subs and delta_subs) are not whole numbers even though they should be. This will be dealt with later."
   ]
  },
  {
   "cell_type": "code",
   "execution_count": 15,
   "id": "e3bd6bb8",
   "metadata": {},
   "outputs": [
    {
     "name": "stdout",
     "output_type": "stream",
     "text": [
      "The number of rows of the data frame is 18872499 and the number of unique channel ids contained in it is 133516. \n",
      "This means that this dataframe contains data of 133516 unique channels for a total of 18872499 recordings.\n"
     ]
    }
   ],
   "source": [
    "print(\"The number of rows of the data frame is \" + str(len(df_timeseries)) + \n",
    "      \" and the number of unique channel ids contained in it is \" + str(len(df_timeseries[\"channel\"].unique())) + \".\", \"\\n\"\n",
    "      \"This means that this dataframe contains data of \" + str(len(df_timeseries[\"channel\"].unique())) + \n",
    "      \" unique channels for a total of \" + str(len(df_timeseries)) + \" recordings.\")"
   ]
  },
  {
   "cell_type": "markdown",
   "id": "adabeefb",
   "metadata": {},
   "source": [
    "### 4. metadata"
   ]
  },
  {
   "cell_type": "code",
   "execution_count": 16,
   "id": "fba2f439",
   "metadata": {},
   "outputs": [
    {
     "data": {
      "text/html": [
       "<div>\n",
       "<style scoped>\n",
       "    .dataframe tbody tr th:only-of-type {\n",
       "        vertical-align: middle;\n",
       "    }\n",
       "\n",
       "    .dataframe tbody tr th {\n",
       "        vertical-align: top;\n",
       "    }\n",
       "\n",
       "    .dataframe thead th {\n",
       "        text-align: right;\n",
       "    }\n",
       "</style>\n",
       "<table border=\"1\" class=\"dataframe\">\n",
       "  <thead>\n",
       "    <tr style=\"text-align: right;\">\n",
       "      <th></th>\n",
       "      <th>categories</th>\n",
       "      <th>channel_id</th>\n",
       "      <th>dislike_count</th>\n",
       "      <th>display_id</th>\n",
       "      <th>duration</th>\n",
       "      <th>like_count</th>\n",
       "      <th>upload_date</th>\n",
       "      <th>view_count</th>\n",
       "    </tr>\n",
       "  </thead>\n",
       "  <tbody>\n",
       "    <tr>\n",
       "      <th>0</th>\n",
       "      <td>Film &amp; Animation</td>\n",
       "      <td>UCzWrhkg9eK5I8Bm3HfV-unA</td>\n",
       "      <td>1.0</td>\n",
       "      <td>SBqSc91Hn9g</td>\n",
       "      <td>1159</td>\n",
       "      <td>8.0</td>\n",
       "      <td>2016-09-28</td>\n",
       "      <td>1057.0</td>\n",
       "    </tr>\n",
       "    <tr>\n",
       "      <th>1</th>\n",
       "      <td>Film &amp; Animation</td>\n",
       "      <td>UCzWrhkg9eK5I8Bm3HfV-unA</td>\n",
       "      <td>1.0</td>\n",
       "      <td>UuugEl86ESY</td>\n",
       "      <td>2681</td>\n",
       "      <td>23.0</td>\n",
       "      <td>2016-09-28</td>\n",
       "      <td>12894.0</td>\n",
       "    </tr>\n",
       "    <tr>\n",
       "      <th>2</th>\n",
       "      <td>Film &amp; Animation</td>\n",
       "      <td>UCzWrhkg9eK5I8Bm3HfV-unA</td>\n",
       "      <td>779.0</td>\n",
       "      <td>oB4c-yvnbjs</td>\n",
       "      <td>1394</td>\n",
       "      <td>1607.0</td>\n",
       "      <td>2016-09-28</td>\n",
       "      <td>1800602.0</td>\n",
       "    </tr>\n",
       "    <tr>\n",
       "      <th>3</th>\n",
       "      <td>Film &amp; Animation</td>\n",
       "      <td>UCzWrhkg9eK5I8Bm3HfV-unA</td>\n",
       "      <td>24.0</td>\n",
       "      <td>ZaV-gTCMV8E</td>\n",
       "      <td>5064</td>\n",
       "      <td>227.0</td>\n",
       "      <td>2016-09-28</td>\n",
       "      <td>57640.0</td>\n",
       "    </tr>\n",
       "    <tr>\n",
       "      <th>4</th>\n",
       "      <td>Film &amp; Animation</td>\n",
       "      <td>UCzWrhkg9eK5I8Bm3HfV-unA</td>\n",
       "      <td>13.0</td>\n",
       "      <td>cGvL7AvMfM0</td>\n",
       "      <td>3554</td>\n",
       "      <td>105.0</td>\n",
       "      <td>2016-09-28</td>\n",
       "      <td>86368.0</td>\n",
       "    </tr>\n",
       "  </tbody>\n",
       "</table>\n",
       "</div>"
      ],
      "text/plain": [
       "         categories                channel_id  dislike_count   display_id  \\\n",
       "0  Film & Animation  UCzWrhkg9eK5I8Bm3HfV-unA            1.0  SBqSc91Hn9g   \n",
       "1  Film & Animation  UCzWrhkg9eK5I8Bm3HfV-unA            1.0  UuugEl86ESY   \n",
       "2  Film & Animation  UCzWrhkg9eK5I8Bm3HfV-unA          779.0  oB4c-yvnbjs   \n",
       "3  Film & Animation  UCzWrhkg9eK5I8Bm3HfV-unA           24.0  ZaV-gTCMV8E   \n",
       "4  Film & Animation  UCzWrhkg9eK5I8Bm3HfV-unA           13.0  cGvL7AvMfM0   \n",
       "\n",
       "   duration  like_count upload_date  view_count  \n",
       "0      1159         8.0  2016-09-28      1057.0  \n",
       "1      2681        23.0  2016-09-28     12894.0  \n",
       "2      1394      1607.0  2016-09-28   1800602.0  \n",
       "3      5064       227.0  2016-09-28     57640.0  \n",
       "4      3554       105.0  2016-09-28     86368.0  "
      ]
     },
     "execution_count": 16,
     "metadata": {},
     "output_type": "execute_result"
    }
   ],
   "source": [
    "df_metadata.head()"
   ]
  },
  {
   "cell_type": "code",
   "execution_count": 17,
   "id": "bb58c2c8",
   "metadata": {},
   "outputs": [
    {
     "data": {
      "text/plain": [
       "categories               object\n",
       "channel_id               object\n",
       "dislike_count           float64\n",
       "display_id               object\n",
       "duration                  int64\n",
       "like_count              float64\n",
       "upload_date      datetime64[ns]\n",
       "view_count              float64\n",
       "dtype: object"
      ]
     },
     "execution_count": 17,
     "metadata": {},
     "output_type": "execute_result"
    }
   ],
   "source": [
    "df_metadata.dtypes"
   ]
  },
  {
   "cell_type": "markdown",
   "id": "9f8488d6",
   "metadata": {},
   "source": [
    "This data frame contains metadata from videos. From left to right, the features are : \n",
    "- the category of the video\n",
    "- the id od the channel that published it\n",
    "- the video's dislike count\n",
    "- the video's id\n",
    "- the video duration\n",
    "- the video's like count\n",
    "- the upload date in the format yyyy-mm-dd and of data type datetime64[ns], this format might be a problem when trying to compare different dates, but this will be dealt with later\n",
    "- the view count\n",
    "\n",
    "Again, some of the features are represented in the float data type, although they should be whole numbers and this will again be dealt with when necessary later. In this case however, we cannot directly see that some of them actually are now whole numbers."
   ]
  },
  {
   "cell_type": "code",
   "execution_count": 18,
   "id": "1b6dd925",
   "metadata": {},
   "outputs": [
    {
     "name": "stdout",
     "output_type": "stream",
     "text": [
      "The number of rows of the data frame is 72924794 and the number of unique channel ids contained in it is 136470. \n",
      "This means that this dataframe contains video metadata of 133516 unique channels for a total of 72924794 videos.\n"
     ]
    }
   ],
   "source": [
    "print(\"The number of rows of the data frame is \" + str(len(df_metadata)) + \n",
    "      \" and the number of unique channel ids contained in it is \" + str(len(df_metadata[\"channel_id\"].unique())) + \".\", \"\\n\"\n",
    "      \"This means that this dataframe contains video metadata of \" + str(len(df_timeseries[\"channel\"].unique())) + \n",
    "      \" unique channels for a total of \" + str(len(df_metadata)) + \" videos.\")"
   ]
  },
  {
   "cell_type": "markdown",
   "id": "a80e9770",
   "metadata": {},
   "source": [
    "## ii. Handling missing data\n",
    "\n",
    "In the following subsection we look at missing data for each of the imported data files, and propose a way to deal with them.\n",
    "\n",
    "### 1. channels_en"
   ]
  },
  {
   "cell_type": "code",
   "execution_count": 19,
   "id": "89a8844c-85cd-4169-b900-abc126a10722",
   "metadata": {},
   "outputs": [
    {
     "name": "stdout",
     "output_type": "stream",
     "text": [
      "Number of rows with missing values of category_cc : 128\n",
      "Number of rows with missing values of join_date : 1\n",
      "Number of rows with missing values of name_cc : 10\n",
      "Number of rows with missing values of subscribers_cc : 0\n",
      "Number of rows with missing values of videos_cc : 0\n",
      "Number of rows with missing values of subscriber_rank_sb : 0\n",
      "Number of rows with missing values of weights : 0\n"
     ]
    }
   ],
   "source": [
    "for colname in df_channels.columns :\n",
    "    print(\"Number of rows with missing values of \" + colname + \" : \" + str(len(df_channels[df_channels[colname].isnull()])))"
   ]
  },
  {
   "cell_type": "markdown",
   "id": "c7e329d7",
   "metadata": {},
   "source": [
    "Here, three of the columns have missing values : \"category\", \"join_date\" and \"name_cc\". A quick fix for the \"category\" and \"name_cc\" columns is to replace missing values with the \"Unknown\" label :"
   ]
  },
  {
   "cell_type": "code",
   "execution_count": 20,
   "id": "3ab1945c",
   "metadata": {},
   "outputs": [
    {
     "data": {
      "text/html": [
       "<div>\n",
       "<style scoped>\n",
       "    .dataframe tbody tr th:only-of-type {\n",
       "        vertical-align: middle;\n",
       "    }\n",
       "\n",
       "    .dataframe tbody tr th {\n",
       "        vertical-align: top;\n",
       "    }\n",
       "\n",
       "    .dataframe thead th {\n",
       "        text-align: right;\n",
       "    }\n",
       "</style>\n",
       "<table border=\"1\" class=\"dataframe\">\n",
       "  <thead>\n",
       "    <tr style=\"text-align: right;\">\n",
       "      <th></th>\n",
       "      <th>category_cc</th>\n",
       "      <th>join_date</th>\n",
       "      <th>name_cc</th>\n",
       "      <th>subscribers_cc</th>\n",
       "      <th>videos_cc</th>\n",
       "      <th>subscriber_rank_sb</th>\n",
       "      <th>weights</th>\n",
       "    </tr>\n",
       "    <tr>\n",
       "      <th>channel</th>\n",
       "      <th></th>\n",
       "      <th></th>\n",
       "      <th></th>\n",
       "      <th></th>\n",
       "      <th></th>\n",
       "      <th></th>\n",
       "      <th></th>\n",
       "    </tr>\n",
       "  </thead>\n",
       "  <tbody>\n",
       "    <tr>\n",
       "      <th>UCa_4DcdTB9QfK0LY9-7qWuQ</th>\n",
       "      <td>Unknown</td>\n",
       "      <td>2009-05-12</td>\n",
       "      <td>AbbaVEVO</td>\n",
       "      <td>995000</td>\n",
       "      <td>36</td>\n",
       "      <td>17265.0</td>\n",
       "      <td>2.8200</td>\n",
       "    </tr>\n",
       "    <tr>\n",
       "      <th>UCVOftvvuyipcn7102TUFsSQ</th>\n",
       "      <td>Unknown</td>\n",
       "      <td>2012-12-23</td>\n",
       "      <td>Baka Oppai</td>\n",
       "      <td>760128</td>\n",
       "      <td>27</td>\n",
       "      <td>21172.0</td>\n",
       "      <td>2.9225</td>\n",
       "    </tr>\n",
       "    <tr>\n",
       "      <th>UCqH2YMSzMaGN92Vc3VkhWnQ</th>\n",
       "      <td>Unknown</td>\n",
       "      <td>2009-06-05</td>\n",
       "      <td>Sony Pictures Home E...</td>\n",
       "      <td>770000</td>\n",
       "      <td>6561</td>\n",
       "      <td>22799.0</td>\n",
       "      <td>2.9595</td>\n",
       "    </tr>\n",
       "    <tr>\n",
       "      <th>UCnzCV_PxVZ-hsOrTy2NGxJw</th>\n",
       "      <td>Unknown</td>\n",
       "      <td>2009-10-15</td>\n",
       "      <td>EuropeVEVO</td>\n",
       "      <td>654000</td>\n",
       "      <td>19</td>\n",
       "      <td>27450.0</td>\n",
       "      <td>2.9825</td>\n",
       "    </tr>\n",
       "    <tr>\n",
       "      <th>UCSydRCmlHx6na0zWscgAk9w</th>\n",
       "      <td>Unknown</td>\n",
       "      <td>2006-04-25</td>\n",
       "      <td>Warner Movies On Dem...</td>\n",
       "      <td>619000</td>\n",
       "      <td>582</td>\n",
       "      <td>28343.0</td>\n",
       "      <td>3.0095</td>\n",
       "    </tr>\n",
       "  </tbody>\n",
       "</table>\n",
       "</div>"
      ],
      "text/plain": [
       "                         category_cc   join_date                  name_cc  \\\n",
       "channel                                                                     \n",
       "UCa_4DcdTB9QfK0LY9-7qWuQ     Unknown  2009-05-12                 AbbaVEVO   \n",
       "UCVOftvvuyipcn7102TUFsSQ     Unknown  2012-12-23               Baka Oppai   \n",
       "UCqH2YMSzMaGN92Vc3VkhWnQ     Unknown  2009-06-05  Sony Pictures Home E...   \n",
       "UCnzCV_PxVZ-hsOrTy2NGxJw     Unknown  2009-10-15               EuropeVEVO   \n",
       "UCSydRCmlHx6na0zWscgAk9w     Unknown  2006-04-25  Warner Movies On Dem...   \n",
       "\n",
       "                          subscribers_cc  videos_cc  subscriber_rank_sb  \\\n",
       "channel                                                                   \n",
       "UCa_4DcdTB9QfK0LY9-7qWuQ          995000         36             17265.0   \n",
       "UCVOftvvuyipcn7102TUFsSQ          760128         27             21172.0   \n",
       "UCqH2YMSzMaGN92Vc3VkhWnQ          770000       6561             22799.0   \n",
       "UCnzCV_PxVZ-hsOrTy2NGxJw          654000         19             27450.0   \n",
       "UCSydRCmlHx6na0zWscgAk9w          619000        582             28343.0   \n",
       "\n",
       "                          weights  \n",
       "channel                            \n",
       "UCa_4DcdTB9QfK0LY9-7qWuQ   2.8200  \n",
       "UCVOftvvuyipcn7102TUFsSQ   2.9225  \n",
       "UCqH2YMSzMaGN92Vc3VkhWnQ   2.9595  \n",
       "UCnzCV_PxVZ-hsOrTy2NGxJw   2.9825  \n",
       "UCSydRCmlHx6na0zWscgAk9w   3.0095  "
      ]
     },
     "execution_count": 20,
     "metadata": {},
     "output_type": "execute_result"
    }
   ],
   "source": [
    "df_channels = df_channels.fillna({\"category_cc\": \"Unknown\"})\n",
    "df_channels = df_channels.fillna({\"name_cc\": \"Unknown\"})\n",
    "df_channels[df_channels[\"category_cc\"] == \"Unknown\"].head()"
   ]
  },
  {
   "cell_type": "code",
   "execution_count": 21,
   "id": "505f47a2",
   "metadata": {},
   "outputs": [
    {
     "data": {
      "text/html": [
       "<div>\n",
       "<style scoped>\n",
       "    .dataframe tbody tr th:only-of-type {\n",
       "        vertical-align: middle;\n",
       "    }\n",
       "\n",
       "    .dataframe tbody tr th {\n",
       "        vertical-align: top;\n",
       "    }\n",
       "\n",
       "    .dataframe thead th {\n",
       "        text-align: right;\n",
       "    }\n",
       "</style>\n",
       "<table border=\"1\" class=\"dataframe\">\n",
       "  <thead>\n",
       "    <tr style=\"text-align: right;\">\n",
       "      <th></th>\n",
       "      <th>category_cc</th>\n",
       "      <th>join_date</th>\n",
       "      <th>name_cc</th>\n",
       "      <th>subscribers_cc</th>\n",
       "      <th>videos_cc</th>\n",
       "      <th>subscriber_rank_sb</th>\n",
       "      <th>weights</th>\n",
       "    </tr>\n",
       "    <tr>\n",
       "      <th>channel</th>\n",
       "      <th></th>\n",
       "      <th></th>\n",
       "      <th></th>\n",
       "      <th></th>\n",
       "      <th></th>\n",
       "      <th></th>\n",
       "      <th></th>\n",
       "    </tr>\n",
       "  </thead>\n",
       "  <tbody>\n",
       "    <tr>\n",
       "      <th>UCMzbrcOG-edOxonhLbsOD4Q</th>\n",
       "      <td>Entertainment</td>\n",
       "      <td>2014-01-01</td>\n",
       "      <td>Unknown</td>\n",
       "      <td>112543</td>\n",
       "      <td>118</td>\n",
       "      <td>140756.0</td>\n",
       "      <td>5.3190</td>\n",
       "    </tr>\n",
       "    <tr>\n",
       "      <th>UC24EknjfMDJhoKpDQKjuT9A</th>\n",
       "      <td>Gaming</td>\n",
       "      <td>2012-06-12</td>\n",
       "      <td>Unknown</td>\n",
       "      <td>103000</td>\n",
       "      <td>598</td>\n",
       "      <td>148300.0</td>\n",
       "      <td>4.4190</td>\n",
       "    </tr>\n",
       "    <tr>\n",
       "      <th>UCInBv6ByaxgOXxfddyC7B3g</th>\n",
       "      <td>Entertainment</td>\n",
       "      <td>2015-07-30</td>\n",
       "      <td>Unknown</td>\n",
       "      <td>105000</td>\n",
       "      <td>32</td>\n",
       "      <td>155045.0</td>\n",
       "      <td>5.5035</td>\n",
       "    </tr>\n",
       "    <tr>\n",
       "      <th>UCmOiT9ZnSvLZ1XMBFjGiNmQ</th>\n",
       "      <td>Entertainment</td>\n",
       "      <td>2016-07-09</td>\n",
       "      <td>Unknown</td>\n",
       "      <td>55100</td>\n",
       "      <td>26</td>\n",
       "      <td>249430.0</td>\n",
       "      <td>7.0805</td>\n",
       "    </tr>\n",
       "    <tr>\n",
       "      <th>UCJIYgIBaQt0YcGO73VCLPyg</th>\n",
       "      <td>Gaming</td>\n",
       "      <td>2015-02-01</td>\n",
       "      <td>Unknown</td>\n",
       "      <td>57000</td>\n",
       "      <td>180</td>\n",
       "      <td>266879.0</td>\n",
       "      <td>6.1480</td>\n",
       "    </tr>\n",
       "  </tbody>\n",
       "</table>\n",
       "</div>"
      ],
      "text/plain": [
       "                            category_cc   join_date  name_cc  subscribers_cc  \\\n",
       "channel                                                                        \n",
       "UCMzbrcOG-edOxonhLbsOD4Q  Entertainment  2014-01-01  Unknown          112543   \n",
       "UC24EknjfMDJhoKpDQKjuT9A         Gaming  2012-06-12  Unknown          103000   \n",
       "UCInBv6ByaxgOXxfddyC7B3g  Entertainment  2015-07-30  Unknown          105000   \n",
       "UCmOiT9ZnSvLZ1XMBFjGiNmQ  Entertainment  2016-07-09  Unknown           55100   \n",
       "UCJIYgIBaQt0YcGO73VCLPyg         Gaming  2015-02-01  Unknown           57000   \n",
       "\n",
       "                          videos_cc  subscriber_rank_sb  weights  \n",
       "channel                                                           \n",
       "UCMzbrcOG-edOxonhLbsOD4Q        118            140756.0   5.3190  \n",
       "UC24EknjfMDJhoKpDQKjuT9A        598            148300.0   4.4190  \n",
       "UCInBv6ByaxgOXxfddyC7B3g         32            155045.0   5.5035  \n",
       "UCmOiT9ZnSvLZ1XMBFjGiNmQ         26            249430.0   7.0805  \n",
       "UCJIYgIBaQt0YcGO73VCLPyg        180            266879.0   6.1480  "
      ]
     },
     "execution_count": 21,
     "metadata": {},
     "output_type": "execute_result"
    }
   ],
   "source": [
    "df_channels[df_channels[\"name_cc\"] == \"Unknown\"].head()"
   ]
  },
  {
   "cell_type": "code",
   "execution_count": 22,
   "id": "dd3d599e",
   "metadata": {},
   "outputs": [
    {
     "name": "stdout",
     "output_type": "stream",
     "text": [
      "Number of rows with missing values of category_cc : 0\n",
      "Number of rows with missing values of name_cc : 0\n"
     ]
    }
   ],
   "source": [
    "for colname in [\"category_cc\", \"name_cc\"] :\n",
    "    print(\"Number of rows with missing values of \" + colname + \" : \" + str(len(df_channels[df_channels[colname].isnull()])))"
   ]
  },
  {
   "cell_type": "markdown",
   "id": "35daf5a2",
   "metadata": {},
   "source": [
    "We can see from these previous 3 cells that the missing values have been correctly replaced. However, we can't really do anything reasonable for the missing join_date value, so the row containing it will be removed if needed, using the following template :"
   ]
  },
  {
   "cell_type": "code",
   "execution_count": 23,
   "id": "808cffd9",
   "metadata": {},
   "outputs": [],
   "source": [
    "# template for dropping only rows for some categories :\n",
    "# the list has to contain the column names that we are interested in \n",
    "curr_df = df_channels.dropna(subset = [\"join_date\"])"
   ]
  },
  {
   "cell_type": "markdown",
   "id": "c89661d9",
   "metadata": {},
   "source": [
    "### 2. num_comments"
   ]
  },
  {
   "cell_type": "code",
   "execution_count": 24,
   "id": "39041d0c",
   "metadata": {},
   "outputs": [
    {
     "name": "stdout",
     "output_type": "stream",
     "text": [
      "Number of rows with missing values of display_id : 0\n",
      "Number of rows with missing values of num_comms : 0\n"
     ]
    }
   ],
   "source": [
    "for colname in df_num_comments.columns :\n",
    "    print(\"Number of rows with missing values of \" + colname + \" : \" + str(len(df_num_comments[df_num_comments[colname].isnull()])))"
   ]
  },
  {
   "cell_type": "markdown",
   "id": "dd6aa7ae",
   "metadata": {},
   "source": [
    "No missing data here, so nothing to do here."
   ]
  },
  {
   "cell_type": "markdown",
   "id": "84a13375",
   "metadata": {},
   "source": [
    "### 3. timeseries"
   ]
  },
  {
   "cell_type": "code",
   "execution_count": 25,
   "id": "36991481",
   "metadata": {},
   "outputs": [
    {
     "name": "stdout",
     "output_type": "stream",
     "text": [
      "Number of rows with missing values of channel : 0\n",
      "Number of rows with missing values of category : 20584\n",
      "Number of rows with missing values of datetime : 0\n",
      "Number of rows with missing values of views : 0\n",
      "Number of rows with missing values of delta_views : 0\n",
      "Number of rows with missing values of subs : 0\n",
      "Number of rows with missing values of delta_subs : 0\n",
      "Number of rows with missing values of videos : 0\n",
      "Number of rows with missing values of delta_videos : 0\n",
      "Number of rows with missing values of activity : 0\n"
     ]
    }
   ],
   "source": [
    "for colname in df_timeseries.columns :\n",
    "    print(\"Number of rows with missing values of \" + colname + \" : \" + str(len(df_timeseries[df_timeseries[colname].isnull()])))"
   ]
  },
  {
   "cell_type": "markdown",
   "id": "3a55f495",
   "metadata": {},
   "source": [
    "Here, only one of the columns has missing values, and it is the \"category\" one. A quick fix to this problem is to replace these missing category values by the label \"Unknown\" :"
   ]
  },
  {
   "cell_type": "code",
   "execution_count": 26,
   "id": "8d64ca96",
   "metadata": {},
   "outputs": [
    {
     "data": {
      "text/html": [
       "<div>\n",
       "<style scoped>\n",
       "    .dataframe tbody tr th:only-of-type {\n",
       "        vertical-align: middle;\n",
       "    }\n",
       "\n",
       "    .dataframe tbody tr th {\n",
       "        vertical-align: top;\n",
       "    }\n",
       "\n",
       "    .dataframe thead th {\n",
       "        text-align: right;\n",
       "    }\n",
       "</style>\n",
       "<table border=\"1\" class=\"dataframe\">\n",
       "  <thead>\n",
       "    <tr style=\"text-align: right;\">\n",
       "      <th></th>\n",
       "      <th>channel</th>\n",
       "      <th>category</th>\n",
       "      <th>datetime</th>\n",
       "      <th>views</th>\n",
       "      <th>delta_views</th>\n",
       "      <th>subs</th>\n",
       "      <th>delta_subs</th>\n",
       "      <th>videos</th>\n",
       "      <th>delta_videos</th>\n",
       "      <th>activity</th>\n",
       "    </tr>\n",
       "  </thead>\n",
       "  <tbody>\n",
       "    <tr>\n",
       "      <th>442874</th>\n",
       "      <td>UChxLXL97wslyFHJiBHgt86w</td>\n",
       "      <td>Unknown</td>\n",
       "      <td>2016-06-20</td>\n",
       "      <td>203924.000</td>\n",
       "      <td>0.000</td>\n",
       "      <td>4178.000</td>\n",
       "      <td>0.00</td>\n",
       "      <td>164</td>\n",
       "      <td>0</td>\n",
       "      <td>4</td>\n",
       "    </tr>\n",
       "    <tr>\n",
       "      <th>442875</th>\n",
       "      <td>UChxLXL97wslyFHJiBHgt86w</td>\n",
       "      <td>Unknown</td>\n",
       "      <td>2016-06-27</td>\n",
       "      <td>207172.875</td>\n",
       "      <td>3248.875</td>\n",
       "      <td>4110.625</td>\n",
       "      <td>0.00</td>\n",
       "      <td>165</td>\n",
       "      <td>1</td>\n",
       "      <td>5</td>\n",
       "    </tr>\n",
       "    <tr>\n",
       "      <th>442876</th>\n",
       "      <td>UChxLXL97wslyFHJiBHgt86w</td>\n",
       "      <td>Unknown</td>\n",
       "      <td>2016-07-04</td>\n",
       "      <td>210295.000</td>\n",
       "      <td>3122.125</td>\n",
       "      <td>4107.000</td>\n",
       "      <td>0.00</td>\n",
       "      <td>167</td>\n",
       "      <td>2</td>\n",
       "      <td>4</td>\n",
       "    </tr>\n",
       "    <tr>\n",
       "      <th>442877</th>\n",
       "      <td>UChxLXL97wslyFHJiBHgt86w</td>\n",
       "      <td>Unknown</td>\n",
       "      <td>2016-07-11</td>\n",
       "      <td>212589.750</td>\n",
       "      <td>2294.750</td>\n",
       "      <td>4110.250</td>\n",
       "      <td>3.25</td>\n",
       "      <td>167</td>\n",
       "      <td>0</td>\n",
       "      <td>2</td>\n",
       "    </tr>\n",
       "    <tr>\n",
       "      <th>442878</th>\n",
       "      <td>UChxLXL97wslyFHJiBHgt86w</td>\n",
       "      <td>Unknown</td>\n",
       "      <td>2016-07-18</td>\n",
       "      <td>215376.500</td>\n",
       "      <td>2786.750</td>\n",
       "      <td>4124.500</td>\n",
       "      <td>14.25</td>\n",
       "      <td>170</td>\n",
       "      <td>3</td>\n",
       "      <td>3</td>\n",
       "    </tr>\n",
       "  </tbody>\n",
       "</table>\n",
       "</div>"
      ],
      "text/plain": [
       "                         channel category   datetime       views  delta_views  \\\n",
       "442874  UChxLXL97wslyFHJiBHgt86w  Unknown 2016-06-20  203924.000        0.000   \n",
       "442875  UChxLXL97wslyFHJiBHgt86w  Unknown 2016-06-27  207172.875     3248.875   \n",
       "442876  UChxLXL97wslyFHJiBHgt86w  Unknown 2016-07-04  210295.000     3122.125   \n",
       "442877  UChxLXL97wslyFHJiBHgt86w  Unknown 2016-07-11  212589.750     2294.750   \n",
       "442878  UChxLXL97wslyFHJiBHgt86w  Unknown 2016-07-18  215376.500     2786.750   \n",
       "\n",
       "            subs  delta_subs  videos  delta_videos  activity  \n",
       "442874  4178.000        0.00     164             0         4  \n",
       "442875  4110.625        0.00     165             1         5  \n",
       "442876  4107.000        0.00     167             2         4  \n",
       "442877  4110.250        3.25     167             0         2  \n",
       "442878  4124.500       14.25     170             3         3  "
      ]
     },
     "execution_count": 26,
     "metadata": {},
     "output_type": "execute_result"
    }
   ],
   "source": [
    "df_timeseries = df_timeseries.fillna({\"category\": \"Unknown\"})\n",
    "df_timeseries[df_timeseries[\"category\"] == \"Unknown\"].head()"
   ]
  },
  {
   "cell_type": "code",
   "execution_count": 27,
   "id": "6bcdad1a",
   "metadata": {},
   "outputs": [
    {
     "name": "stdout",
     "output_type": "stream",
     "text": [
      "Number of rows with missing values of category : 0\n"
     ]
    }
   ],
   "source": [
    "for colname in [\"category\"] :\n",
    "    print(\"Number of rows with missing values of \" + colname + \" : \" + str(len(df_timeseries[df_timeseries[colname].isnull()])))"
   ]
  },
  {
   "cell_type": "markdown",
   "id": "dca38f64",
   "metadata": {},
   "source": [
    "We can see that all rows with missing values for the \"category\" column have correctly been filled. "
   ]
  },
  {
   "cell_type": "markdown",
   "id": "046552f2",
   "metadata": {},
   "source": [
    "### 4. metadata"
   ]
  },
  {
   "cell_type": "code",
   "execution_count": 26,
   "id": "23a67f40",
   "metadata": {},
   "outputs": [
    {
     "name": "stdout",
     "output_type": "stream",
     "text": [
      "Number of rows with missing values of categories : 0\n",
      "Number of rows with missing values of channel_id : 0\n",
      "Number of rows with missing values of dislike_count : 1631458\n",
      "Number of rows with missing values of display_id : 0\n",
      "Number of rows with missing values of duration : 0\n",
      "Number of rows with missing values of like_count : 1631458\n",
      "Number of rows with missing values of upload_date : 0\n",
      "Number of rows with missing values of view_count : 654\n"
     ]
    }
   ],
   "source": [
    "for colname in df_metadata.columns :\n",
    "    print(\"Number of rows with missing values of \" + colname + \" : \" + str(len(df_metadata[df_metadata[colname].isnull()])))"
   ]
  },
  {
   "cell_type": "code",
   "execution_count": 29,
   "id": "47e33902",
   "metadata": {},
   "outputs": [
    {
     "name": "stdout",
     "output_type": "stream",
     "text": [
      "Number of dropped rows when accounting for all columns: 1631458\n"
     ]
    }
   ],
   "source": [
    "print(\"Number of dropped rows when accounting for all columns: \" + str(len(df_metadata) - len(df_metadata.dropna())))"
   ]
  },
  {
   "cell_type": "markdown",
   "id": "1baab061",
   "metadata": {},
   "source": [
    "The above result shows that there are a total of 1.63 million rows missing both the like and dislike counts, 654 of which also is missing the view count. As there is no reasonable way to fill these columns with \"fake\" values, we will take them out of the data frame if needed, using the same template as was proposed for channels_en :"
   ]
  },
  {
   "cell_type": "code",
   "execution_count": 30,
   "id": "f7ec0839",
   "metadata": {},
   "outputs": [],
   "source": [
    "# template for dropping only rows for some categories :\n",
    "# the list has to contain the column names that we are interested in \n",
    "curr_df = df_metadata.dropna(subset = [\"like_count\", \"dislike_count\", \"view_count\"])"
   ]
  },
  {
   "cell_type": "markdown",
   "id": "461e017e-9f40-462e-bb64-88cfeb776dda",
   "metadata": {},
   "source": [
    "## iii. Distributions, transformation of features and creation of new ones \n",
    "\n",
    "In the following subsection we look at the different distributions of some of the features of the data. We also try to transform some of the features (by discretizing them, so that they can for example be used later for methods requiring categorical variables like random forests and decision trees), and enrich the data by creating new ones. \n",
    "\n",
    "### 1. Subscriber number of the channels\n",
    "\n",
    "#### 1.1 Log-log graph and equal width bins"
   ]
  },
  {
   "cell_type": "code",
   "execution_count": 31,
   "id": "ed7c9260-2692-4e43-a2cc-ecde2f495cae",
   "metadata": {
    "scrolled": true
   },
   "outputs": [
    {
     "data": {
      "text/plain": [
       "Text(0.5, 1.0, 'Subscribers distribution over channels')"
      ]
     },
     "execution_count": 31,
     "metadata": {},
     "output_type": "execute_result"
    },
    {
     "data": {
      "image/png": "[encoded data removed]",
      "text/plain": [
       "<Figure size 640x480 with 1 Axes>"
      ]
     },
     "metadata": {},
     "output_type": "display_data"
    }
   ],
   "source": [
    "df_channels[\"subscribers_cc\"].plot(kind=\"hist\", bins=10000, loglog=True)\n",
    "plt.xlabel(\"Subscriber count\")\n",
    "plt.ylabel(\"Channel count\")\n",
    "plt.title(\"Subscribers distribution over channels\")"
   ]
  },
  {
   "cell_type": "markdown",
   "id": "af875ba2",
   "metadata": {},
   "source": [
    "#### 1.2 Discretizing the number of subscribers"
   ]
  },
  {
   "cell_type": "markdown",
   "id": "7fe908dd",
   "metadata": {},
   "source": [
    "We can also try to class these channel followings (i.e. discretize the number of subscribers) into \"tiny\", \"very small\", \"big\", \"very big\" and \"mega\" channels, where the intervals are :\n",
    "- [0,500] for \"tiny\" followings, the subscribers of which could more or less be only people that the creator himself knows\n",
    "- [500, 10'000] for \"very small\" followings, the creator cannot know all of his subscribers, but still has a small following \n",
    "- [10'000, 50'000] for \"small\" followings, these channels are starting to have a bigger following, but are still not by any means well known\n",
    "- [50'000, 1'000'000] for \"big\" channels that have a big following and could be very well known across small regions, or by people that are scattered all around the world, but not by everyone\n",
    "- [1'000'000, $\\infty$) for \"mega\" followings, the channels with which could be known in entire countries or by tons of people all around the world\n",
    "  \n",
    "This could be interesting in our case as we do not really care about the precise number of subscribers, but rather the order of magnitude of each channel's following.  \n",
    "These ranges were chosen arbitrarily, but were still carefully chosen to respect some characteristics denoted by their respective descriptions. The \"mega\" label was inspired by [work](https://koreascience.kr/article/JAKO202124553353172.page) from LE, T. V. et al. who also chose 1 million subscribers as a threshold to define them. The chosen ranges might change in the future depending on their future use and salience. "
   ]
  },
  {
   "cell_type": "code",
   "execution_count": 32,
   "id": "bfe3762a",
   "metadata": {},
   "outputs": [
    {
     "data": {
      "text/html": [
       "<div>\n",
       "<style scoped>\n",
       "    .dataframe tbody tr th:only-of-type {\n",
       "        vertical-align: middle;\n",
       "    }\n",
       "\n",
       "    .dataframe tbody tr th {\n",
       "        vertical-align: top;\n",
       "    }\n",
       "\n",
       "    .dataframe thead th {\n",
       "        text-align: right;\n",
       "    }\n",
       "</style>\n",
       "<table border=\"1\" class=\"dataframe\">\n",
       "  <thead>\n",
       "    <tr style=\"text-align: right;\">\n",
       "      <th></th>\n",
       "      <th>category_cc</th>\n",
       "      <th>join_date</th>\n",
       "      <th>name_cc</th>\n",
       "      <th>subscribers_cc</th>\n",
       "      <th>videos_cc</th>\n",
       "      <th>subscriber_rank_sb</th>\n",
       "      <th>weights</th>\n",
       "      <th>binned_subs</th>\n",
       "    </tr>\n",
       "    <tr>\n",
       "      <th>channel</th>\n",
       "      <th></th>\n",
       "      <th></th>\n",
       "      <th></th>\n",
       "      <th></th>\n",
       "      <th></th>\n",
       "      <th></th>\n",
       "      <th></th>\n",
       "      <th></th>\n",
       "    </tr>\n",
       "  </thead>\n",
       "  <tbody>\n",
       "    <tr>\n",
       "      <th>UC-lHJZR3Gqxm24_Vd_AJ5Yw</th>\n",
       "      <td>Gaming</td>\n",
       "      <td>2010-04-29</td>\n",
       "      <td>PewDiePie</td>\n",
       "      <td>101000000</td>\n",
       "      <td>3956</td>\n",
       "      <td>3.0</td>\n",
       "      <td>2.087</td>\n",
       "      <td>[1000000.0, 100000000000.0)</td>\n",
       "    </tr>\n",
       "    <tr>\n",
       "      <th>UCbCmjCuTUZos6Inko4u57UQ</th>\n",
       "      <td>Education</td>\n",
       "      <td>2006-09-01</td>\n",
       "      <td>Cocomelon - Nursery ...</td>\n",
       "      <td>60100000</td>\n",
       "      <td>458</td>\n",
       "      <td>7.0</td>\n",
       "      <td>2.087</td>\n",
       "      <td>[1000000.0, 100000000000.0)</td>\n",
       "    </tr>\n",
       "    <tr>\n",
       "      <th>UCpEhnqL0y41EpW2TvWAHD7Q</th>\n",
       "      <td>Entertainment</td>\n",
       "      <td>2006-09-20</td>\n",
       "      <td>SET India</td>\n",
       "      <td>56018869</td>\n",
       "      <td>32661</td>\n",
       "      <td>8.0</td>\n",
       "      <td>2.087</td>\n",
       "      <td>[1000000.0, 100000000000.0)</td>\n",
       "    </tr>\n",
       "    <tr>\n",
       "      <th>UC295-Dw_tDNtZXFeAPAW6Aw</th>\n",
       "      <td>Howto &amp; Style</td>\n",
       "      <td>2016-11-15</td>\n",
       "      <td>5-Minute Crafts</td>\n",
       "      <td>60600000</td>\n",
       "      <td>3591</td>\n",
       "      <td>9.0</td>\n",
       "      <td>2.087</td>\n",
       "      <td>[1000000.0, 100000000000.0)</td>\n",
       "    </tr>\n",
       "    <tr>\n",
       "      <th>UCJ5v_MCY6GNUBTO8-D3XoAg</th>\n",
       "      <td>Sports</td>\n",
       "      <td>2007-05-11</td>\n",
       "      <td>WWE</td>\n",
       "      <td>48400000</td>\n",
       "      <td>43421</td>\n",
       "      <td>11.0</td>\n",
       "      <td>2.087</td>\n",
       "      <td>[1000000.0, 100000000000.0)</td>\n",
       "    </tr>\n",
       "  </tbody>\n",
       "</table>\n",
       "</div>"
      ],
      "text/plain": [
       "                            category_cc   join_date                  name_cc  \\\n",
       "channel                                                                        \n",
       "UC-lHJZR3Gqxm24_Vd_AJ5Yw         Gaming  2010-04-29                PewDiePie   \n",
       "UCbCmjCuTUZos6Inko4u57UQ      Education  2006-09-01  Cocomelon - Nursery ...   \n",
       "UCpEhnqL0y41EpW2TvWAHD7Q  Entertainment  2006-09-20                SET India   \n",
       "UC295-Dw_tDNtZXFeAPAW6Aw  Howto & Style  2016-11-15          5-Minute Crafts   \n",
       "UCJ5v_MCY6GNUBTO8-D3XoAg         Sports  2007-05-11                      WWE   \n",
       "\n",
       "                          subscribers_cc  videos_cc  subscriber_rank_sb  \\\n",
       "channel                                                                   \n",
       "UC-lHJZR3Gqxm24_Vd_AJ5Yw       101000000       3956                 3.0   \n",
       "UCbCmjCuTUZos6Inko4u57UQ        60100000        458                 7.0   \n",
       "UCpEhnqL0y41EpW2TvWAHD7Q        56018869      32661                 8.0   \n",
       "UC295-Dw_tDNtZXFeAPAW6Aw        60600000       3591                 9.0   \n",
       "UCJ5v_MCY6GNUBTO8-D3XoAg        48400000      43421                11.0   \n",
       "\n",
       "                          weights                  binned_subs  \n",
       "channel                                                         \n",
       "UC-lHJZR3Gqxm24_Vd_AJ5Yw    2.087  [1000000.0, 100000000000.0)  \n",
       "UCbCmjCuTUZos6Inko4u57UQ    2.087  [1000000.0, 100000000000.0)  \n",
       "UCpEhnqL0y41EpW2TvWAHD7Q    2.087  [1000000.0, 100000000000.0)  \n",
       "UC295-Dw_tDNtZXFeAPAW6Aw    2.087  [1000000.0, 100000000000.0)  \n",
       "UCJ5v_MCY6GNUBTO8-D3XoAg    2.087  [1000000.0, 100000000000.0)  "
      ]
     },
     "execution_count": 32,
     "metadata": {},
     "output_type": "execute_result"
    }
   ],
   "source": [
    "df_channels_binned = df_channels.copy(deep = True)\n",
    "df_channels_binned[\"binned_subs\"] = pd.cut(x = df_channels_binned[\"subscribers_cc\"], \n",
    "                                           bins = [0, 5e2, 1e4, 5e4, 1e6, 1e11],\n",
    "                                           right = False, include_lowest = True)\n",
    "df_channels_binned.head()"
   ]
  },
  {
   "cell_type": "code",
   "execution_count": 33,
   "id": "4c9a8255",
   "metadata": {},
   "outputs": [],
   "source": [
    "df_channels_binned = df_channels_binned.groupby(by = \"binned_subs\").size()\n",
    "df_channels_binned = pd.DataFrame(df_channels_binned.values.flatten(), index = [\"tiny\", \"very small\", \"small\", \"big\", \"mega\"], columns = [\"channel number\"])"
   ]
  },
  {
   "cell_type": "code",
   "execution_count": 34,
   "id": "7bd976f4",
   "metadata": {},
   "outputs": [
    {
     "data": {
      "image/png": "[encoded data removed]",
      "text/plain": [
       "<Figure size 640x480 with 1 Axes>"
      ]
     },
     "metadata": {},
     "output_type": "display_data"
    }
   ],
   "source": [
    "df_channels_binned.plot.barh(log = True, legend = None)\n",
    "plt.title(\"Distribution of channels with various following categories\")\n",
    "plt.xlim([1e3, 1e5])\n",
    "plt.xlabel(\"Subscriber count\")\n",
    "plt.ylabel(\"Following category\")\n",
    "plt.show()"
   ]
  },
  {
   "cell_type": "markdown",
   "id": "be9fbb63",
   "metadata": {},
   "source": [
    "#### 1.3 Observations\n",
    "\n",
    "- We can see from these graphs that all channels in the dataset have over 10'000 subscribers, meaning that our analysis will be restricted to channels with at least 10'000 subscribers.\n",
    "- Due to the linear shape of the log-log graph above, we can deduce that the subscribers count comes from a heavy-tailed distribution.\n",
    "- There are less \"mega\" channels than big and small channels, but the difference is only of about one order of magnitude ! This means that although arbitrary, our choice of bins for the discretization is not so bad."
   ]
  },
  {
   "cell_type": "markdown",
   "id": "5f6b2444-7806-448e-b115-3f84cd716729",
   "metadata": {},
   "source": [
    "### 2. Total views per channel, with df_metadata\n",
    "\n",
    "An interesting feature we would like to consider and use is the total amount of views a channel has accumulated across all of its videos. This could be a good measure of how much the channel \"has been seen\" in the past.\n",
    "\n",
    "#### 2.1 Computation of new feature"
   ]
  },
  {
   "cell_type": "code",
   "execution_count": 4,
   "id": "aa1b828a-1ec7-4d6f-bd61-95dedfa63254",
   "metadata": {},
   "outputs": [],
   "source": [
    "total_views_metadata = df_channels.merge(df_metadata, left_index=True, right_on=\"channel_id\").groupby(by=[\"channel_id\", \"name_cc\"])[\"view_count\"].sum()"
   ]
  },
  {
   "cell_type": "markdown",
   "id": "0fe6a8c9",
   "metadata": {},
   "source": [
    "#### 2.2 Log-log graph with equal width bins"
   ]
  },
  {
   "cell_type": "code",
   "execution_count": 56,
   "id": "398bae65-02a6-48f0-aee0-fcb42a98175a",
   "metadata": {},
   "outputs": [
    {
     "data": {
      "text/plain": [
       "Text(0.5, 1.0, 'Total views distribution over channels (metadata)')"
      ]
     },
     "execution_count": 56,
     "metadata": {},
     "output_type": "execute_result"
    },
    {
     "data": {
      "image/png": "[encoded data removed]",
      "text/plain": [
       "<Figure size 640x480 with 1 Axes>"
      ]
     },
     "metadata": {},
     "output_type": "display_data"
    }
   ],
   "source": [
    "cum_views_metadata = plt.hist(total_views_metadata, bins=10000, log=True, cumulative=-1, histtype='step')\n",
    "plt.clf()\n",
    "plt.loglog(cum_views_metadata[1][1:], cum_views_metadata[0])\n",
    "plt.xlabel(\"Total views\")\n",
    "plt.ylabel(\"Count\")\n",
    "plt.title(\"Total views distribution over channels (metadata)\")"
   ]
  },
  {
   "cell_type": "markdown",
   "id": "8c3a6fef",
   "metadata": {},
   "source": [
    "#### 2.3 Discretization of  the total number of views"
   ]
  },
  {
   "cell_type": "markdown",
   "id": "0cea43fd",
   "metadata": {},
   "source": [
    "Again, it could be interesting to discretize this variable, as the precise number of total views might not be very important and the magnitude would suffice. The proposed classification for the number of total views per channel is : \n",
    "- [0,5000] for a \"tiny\" viewership, where the creator might know all people that have viewed his videos\n",
    "- [5000, 100'000] for a \"very small\" viewership, the creator cannot know all of the people that have seen his videos, but still has a relatively small viewership\n",
    "- [100'000, 500'000] for a \"small\" viewership, these channels are starting to get a relatively big viewership, but are still not by any means well known\n",
    "- [500'000, 10'000'000] for a \"big\" viewership, the channels could have a big following and could be very well known across small regions, or by people that are scattered all around the world, but not by everyone\n",
    "- [10'000'000, $\\infty$) for \"mega\" viewerships, the channels with which could be known in entire countries or by tons of people all around the world\n",
    "\n",
    "These ranges were chosen arbitrarily, but were still carefully chosen to respect some characteristics denoted by their respective descriptions. The idea behind the  bounds is that they correspond to the situation where channels with the corresponding labels defined in 1.2 had published 10 videos which were each seen once by each of their subscribers. The chosen ranges might change in the future depending on their future use and salience. "
   ]
  },
  {
   "cell_type": "code",
   "execution_count": 12,
   "id": "893c6297",
   "metadata": {},
   "outputs": [
    {
     "data": {
      "text/html": [
       "<div>\n",
       "<style scoped>\n",
       "    .dataframe tbody tr th:only-of-type {\n",
       "        vertical-align: middle;\n",
       "    }\n",
       "\n",
       "    .dataframe tbody tr th {\n",
       "        vertical-align: top;\n",
       "    }\n",
       "\n",
       "    .dataframe thead th {\n",
       "        text-align: right;\n",
       "    }\n",
       "</style>\n",
       "<table border=\"1\" class=\"dataframe\">\n",
       "  <thead>\n",
       "    <tr style=\"text-align: right;\">\n",
       "      <th></th>\n",
       "      <th></th>\n",
       "      <th>view_count</th>\n",
       "      <th>binned_views</th>\n",
       "    </tr>\n",
       "    <tr>\n",
       "      <th>channel_id</th>\n",
       "      <th>name_cc</th>\n",
       "      <th></th>\n",
       "      <th></th>\n",
       "    </tr>\n",
       "  </thead>\n",
       "  <tbody>\n",
       "    <tr>\n",
       "      <th>UC--24Q3_ZQeFmgJE-Um5QZQ</th>\n",
       "      <th>Winded Voyage Sailin...</th>\n",
       "      <td>3291383.0</td>\n",
       "      <td>[500000.0, 10000000.0)</td>\n",
       "    </tr>\n",
       "    <tr>\n",
       "      <th>UC--2EbuIuBOGgGqPiJxi3rg</th>\n",
       "      <th>The Night Fury</th>\n",
       "      <td>7999515.0</td>\n",
       "      <td>[500000.0, 10000000.0)</td>\n",
       "    </tr>\n",
       "    <tr>\n",
       "      <th>UC--3c8RqSfAqYBdDjIG3UNA</th>\n",
       "      <th>Red Bull Surfing</th>\n",
       "      <td>63626751.0</td>\n",
       "      <td>[10000000.0, 1000000000000000.0)</td>\n",
       "    </tr>\n",
       "    <tr>\n",
       "      <th>UC--3ozenTzry39-xMqAPQlw</th>\n",
       "      <th>Heidi Joubert</th>\n",
       "      <td>5192527.0</td>\n",
       "      <td>[500000.0, 10000000.0)</td>\n",
       "    </tr>\n",
       "    <tr>\n",
       "      <th>UC--6E6EpybocdaNlPhvK_9A</th>\n",
       "      <th>MR JC</th>\n",
       "      <td>9317278.0</td>\n",
       "      <td>[500000.0, 10000000.0)</td>\n",
       "    </tr>\n",
       "  </tbody>\n",
       "</table>\n",
       "</div>"
      ],
      "text/plain": [
       "                                                  view_count  \\\n",
       "channel_id               name_cc                               \n",
       "UC--24Q3_ZQeFmgJE-Um5QZQ Winded Voyage Sailin...   3291383.0   \n",
       "UC--2EbuIuBOGgGqPiJxi3rg The Night Fury            7999515.0   \n",
       "UC--3c8RqSfAqYBdDjIG3UNA Red Bull Surfing         63626751.0   \n",
       "UC--3ozenTzry39-xMqAPQlw Heidi Joubert             5192527.0   \n",
       "UC--6E6EpybocdaNlPhvK_9A MR JC                     9317278.0   \n",
       "\n",
       "                                                                      binned_views  \n",
       "channel_id               name_cc                                                    \n",
       "UC--24Q3_ZQeFmgJE-Um5QZQ Winded Voyage Sailin...            [500000.0, 10000000.0)  \n",
       "UC--2EbuIuBOGgGqPiJxi3rg The Night Fury                     [500000.0, 10000000.0)  \n",
       "UC--3c8RqSfAqYBdDjIG3UNA Red Bull Surfing         [10000000.0, 1000000000000000.0)  \n",
       "UC--3ozenTzry39-xMqAPQlw Heidi Joubert                      [500000.0, 10000000.0)  \n",
       "UC--6E6EpybocdaNlPhvK_9A MR JC                              [500000.0, 10000000.0)  "
      ]
     },
     "execution_count": 12,
     "metadata": {},
     "output_type": "execute_result"
    }
   ],
   "source": [
    "total_views_binned = pd.DataFrame(total_views_metadata)\n",
    "total_views_binned[\"binned_views\"] = pd.cut(x = total_views_binned[\"view_count\"], bins = [0, 5e3, 1e5, 5e5, 1e7, 1e15], right = False, include_lowest = True)\n",
    "total_views_binned.head()"
   ]
  },
  {
   "cell_type": "code",
   "execution_count": 13,
   "id": "2523e6e2",
   "metadata": {},
   "outputs": [],
   "source": [
    "total_views_binned = total_views_binned.groupby(by = \"binned_views\").size()\n",
    "total_views_binned = pd.DataFrame(total_views_binned.values.flatten(), index = [\"tiny\", \"very small\", \"small\", \"big\", \"mega\"], columns = [\"channel id\"])"
   ]
  },
  {
   "cell_type": "code",
   "execution_count": 14,
   "id": "938f2a0f",
   "metadata": {},
   "outputs": [
    {
     "data": {
      "image/png": "[encoded data removed]",
      "text/plain": [
       "<Figure size 640x480 with 1 Axes>"
      ]
     },
     "metadata": {},
     "output_type": "display_data"
    }
   ],
   "source": [
    "total_views_binned.plot.barh(log = True, legend = None)\n",
    "plt.title(\"Distribution of channels with various numbers of total views\")\n",
    "plt.xlim([1e2, 1e5])\n",
    "plt.xlabel(\"Count\")\n",
    "plt.ylabel(\"Viewership category\")\n",
    "plt.show()"
   ]
  },
  {
   "cell_type": "markdown",
   "id": "f51de1bf",
   "metadata": {},
   "source": [
    "#### 2.4 Observations\n",
    "- Due to the linear shape of the log-log graph above, we can deduce that the total views count comes from a heavy-tailed distribution.\n",
    "- We can see from these graphs that there are still channels with \"tiny\" and \"very small\" viewerships, even though there are no tiny and very small channels. This could be explained by the fact that some channels might have large followings without it being due to their videos; maybe the creators were already well known on other platforms, and simply created their channel without positing many videos. \n",
    "- Even though the aforementionned viewership categories can be observed, they are still not very prominent. The three biggest categories are the last three, i.e. \"small\", \"big\" and \"mega\", the difference between the three being of about 2 orders of magnitude which is acceptable."
   ]
  },
  {
   "cell_type": "markdown",
   "id": "965634b0-b7f6-4702-823f-cbc651b8036b",
   "metadata": {},
   "source": [
    "### 3. Total views per channel with df_timeseries\n",
    "\n",
    "We actually noticed that we could compute the total number of views in 2 separate ways, the second one being by using the timeseries data, which we do here.\n",
    "\n",
    "#### 3.1 Computation of new feature"
   ]
  },
  {
   "cell_type": "code",
   "execution_count": 15,
   "id": "2ba7e8f9-9a35-4143-be0b-91bf06b0d8aa",
   "metadata": {},
   "outputs": [],
   "source": [
    "total_views = df_channels.merge(df_timeseries, left_index=True, right_on=\"channel\").groupby(by=[\"channel\", \"name_cc\"])[\"views\"].max()"
   ]
  },
  {
   "cell_type": "markdown",
   "id": "894ca327",
   "metadata": {},
   "source": [
    "#### 3.2 Log-log graph with equal width bins"
   ]
  },
  {
   "cell_type": "code",
   "execution_count": 57,
   "id": "18284338-8768-4ecb-acc5-4d7b734563a0",
   "metadata": {},
   "outputs": [
    {
     "data": {
      "text/plain": [
       "Text(0.5, 1.0, 'Total views distribution over channels (timeseries)')"
      ]
     },
     "execution_count": 57,
     "metadata": {},
     "output_type": "execute_result"
    },
    {
     "data": {
      "image/png": "[encoded data removed]",
      "text/plain": [
       "<Figure size 640x480 with 1 Axes>"
      ]
     },
     "metadata": {},
     "output_type": "display_data"
    }
   ],
   "source": [
    "cum_views = plt.hist(total_views, bins=10000, log=True, cumulative=-1, histtype='step')\n",
    "plt.clf()\n",
    "plt.loglog(cum_views[1][1:], cum_views[0])\n",
    "plt.xlabel(\"Total views\")\n",
    "plt.ylabel(\"Count\")\n",
    "plt.title(\"Total views distribution over channels (timeseries)\")"
   ]
  },
  {
   "cell_type": "markdown",
   "id": "0d434c3d-fb72-43b0-b6a1-142b7eb682f6",
   "metadata": {},
   "source": [
    "#### 3.3 Realize that total views differ in the two datasets\n",
    "\n",
    "As demonstrated by the following cells of code, we noticed that the computed total views differ depending on which data is used."
   ]
  },
  {
   "cell_type": "code",
   "execution_count": 17,
   "id": "1e9d5f6c-d45e-4c6d-b738-a7d86d3f037b",
   "metadata": {},
   "outputs": [],
   "source": [
    "# concatenate both dataframes\n",
    "both = pd.concat([total_views, total_views_metadata])"
   ]
  },
  {
   "cell_type": "code",
   "execution_count": 18,
   "id": "16fd1ec7-7489-4f94-be35-96b336c011b0",
   "metadata": {},
   "outputs": [
    {
     "data": {
      "text/plain": [
       "channel                   name_cc                \n",
       "UC--24Q3_ZQeFmgJE-Um5QZQ  Winded Voyage Sailin...    4.356804e+06\n",
       "UC--2EbuIuBOGgGqPiJxi3rg  The Night Fury             7.951972e+06\n",
       "UC--3c8RqSfAqYBdDjIG3UNA  Red Bull Surfing           5.798712e+07\n",
       "UC--3ozenTzry39-xMqAPQlw  Heidi Joubert              1.455123e+07\n",
       "UC--6E6EpybocdaNlPhvK_9A  MR JC                      9.166274e+06\n",
       "                                                         ...     \n",
       "UCzztaOtjmaZoiLvWLagq7bg  Def Noodles                2.554022e+07\n",
       "UCzzyt9Z70MBX9RQAFVSNlpQ  CherryGumz Gacha           4.939140e+06\n",
       "UCzzzPMh9fZHxc7gxPRB2LHQ  Elisa Jane Tarot Car...    1.279275e+07\n",
       "UCzzzUN8yvD2LRAnY-lhzyLQ  DropNight                  8.335020e+07\n",
       "UCzzzZ3-icktxbC3j7hkWqRw  Citalia                    1.131340e+07\n",
       "Length: 267012, dtype: float64"
      ]
     },
     "execution_count": 18,
     "metadata": {},
     "output_type": "execute_result"
    }
   ],
   "source": [
    "# keep only the channels for which we have data in both the dataframes\n",
    "both[both.index.duplicated(keep=False)]"
   ]
  },
  {
   "cell_type": "code",
   "execution_count": 19,
   "id": "b4cdb485-b796-475f-9ee4-376978666e83",
   "metadata": {},
   "outputs": [
    {
     "data": {
      "text/plain": [
       "name_cc\n",
       "AH2128    8.671292e+06\n",
       "AH2128    9.049810e+06\n",
       "dtype: float64"
      ]
     },
     "execution_count": 19,
     "metadata": {},
     "output_type": "execute_result"
    }
   ],
   "source": [
    "# look at the values for a specific channel in both dataframes\n",
    "both[both.index.duplicated(keep=False)][\"UCrUsv6k8WEcHVsiN8t1T33A\"]"
   ]
  },
  {
   "cell_type": "markdown",
   "id": "ecb1b97a",
   "metadata": {},
   "source": [
    "We can see that depending on what data is used, the total number of views differs ! This is due to two things :\n",
    "- df_metadata contains videos created between 2005 and 2019, whereas df_timeseries contains videos created between January 2015 and September 2019\n",
    "- Not all channels in df_timeseries have the complete time frame.\n",
    "\n",
    "Therefore, we still have to decide which of the values (or maybe, both) will be used in further analysis."
   ]
  },
  {
   "cell_type": "markdown",
   "id": "5acf7d6e",
   "metadata": {},
   "source": [
    "### 4. Average durations of videos\n",
    "\n",
    "Another metric we can try to compute is the average duration of the videos."
   ]
  },
  {
   "cell_type": "code",
   "execution_count": 20,
   "id": "5698fbe4",
   "metadata": {},
   "outputs": [],
   "source": [
    "avg_durations = df_metadata.groupby(by=[\"channel_id\"])[\"duration\"].mean()"
   ]
  },
  {
   "cell_type": "code",
   "execution_count": 21,
   "id": "012593b7",
   "metadata": {},
   "outputs": [
    {
     "data": {
      "text/plain": [
       "Text(0.5, 1.0, 'Average video duration distribution over channels')"
      ]
     },
     "execution_count": 21,
     "metadata": {},
     "output_type": "execute_result"
    },
    {
     "data": {
      "image/png": "[encoded data removed]",
      "text/plain": [
       "<Figure size 640x480 with 1 Axes>"
      ]
     },
     "metadata": {},
     "output_type": "display_data"
    }
   ],
   "source": [
    "avg_durations.plot(kind=\"hist\", bins=100)\n",
    "plt.xlabel(\"Average duration\")\n",
    "plt.ylabel(\"Count\")\n",
    "plt.title(\"Average video duration distribution over channels\")"
   ]
  },
  {
   "cell_type": "code",
   "execution_count": 25,
   "id": "e5518ca7",
   "metadata": {},
   "outputs": [
    {
     "data": {
      "text/plain": [
       "Text(0.5, 1.0, 'Average video duration distribution over channels')"
      ]
     },
     "execution_count": 25,
     "metadata": {},
     "output_type": "execute_result"
    },
    {
     "data": {
      "image/png": "[encoded data removed]",
      "text/plain": [
       "<Figure size 640x480 with 1 Axes>"
      ]
     },
     "metadata": {},
     "output_type": "display_data"
    }
   ],
   "source": [
    "avg_durations.plot(kind=\"hist\", bins=10000, loglog=True)\n",
    "plt.xlabel(\"Average duration\")\n",
    "plt.ylabel(\"Count\")\n",
    "plt.title(\"Average video duration distribution over channels\")"
   ]
  },
  {
   "cell_type": "markdown",
   "id": "be51e443",
   "metadata": {},
   "source": [
    "The data again seems heavy-tailed ! We could again try to discretize this variable as was done before, although this doesn't seem quite as interesting (how do we define short, medium, long videos?), or we could also try to log transform the values for further use. "
   ]
  },
  {
   "cell_type": "markdown",
   "id": "6d0b3a29",
   "metadata": {},
   "source": [
    "### 5. Average activity of channels\n",
    "\n",
    "We also try to see whether the average activity of channels could be interesting."
   ]
  },
  {
   "cell_type": "code",
   "execution_count": 28,
   "id": "7667067a",
   "metadata": {},
   "outputs": [],
   "source": [
    "avg_activity = df_timeseries.groupby(by=[\"channel\"])[\"activity\"].mean()"
   ]
  },
  {
   "cell_type": "code",
   "execution_count": 29,
   "id": "b9061b99",
   "metadata": {},
   "outputs": [
    {
     "data": {
      "text/plain": [
       "Text(0.5, 1.0, 'Average activity distribution over channels')"
      ]
     },
     "execution_count": 29,
     "metadata": {},
     "output_type": "execute_result"
    },
    {
     "data": {
      "image/png": "[encoded data removed]",
      "text/plain": [
       "<Figure size 640x480 with 1 Axes>"
      ]
     },
     "metadata": {},
     "output_type": "display_data"
    }
   ],
   "source": [
    "avg_activity.plot(kind=\"hist\", bins=100)\n",
    "plt.xlabel(\"Average activity\")\n",
    "plt.ylabel(\"Count\")\n",
    "plt.title(\"Average activity distribution over channels\")"
   ]
  },
  {
   "cell_type": "code",
   "execution_count": 30,
   "id": "ffca54d8",
   "metadata": {},
   "outputs": [
    {
     "data": {
      "text/plain": [
       "Text(0.5, 1.0, 'Average activity distribution over channels')"
      ]
     },
     "execution_count": 30,
     "metadata": {},
     "output_type": "execute_result"
    },
    {
     "data": {
      "image/png": "[encoded data removed]",
      "text/plain": [
       "<Figure size 640x480 with 1 Axes>"
      ]
     },
     "metadata": {},
     "output_type": "display_data"
    }
   ],
   "source": [
    "avg_activity.plot(kind=\"hist\", bins=10000, loglog=True)\n",
    "plt.xlabel(\"Average activity\")\n",
    "plt.ylabel(\"Count\")\n",
    "plt.title(\"Average activity distribution over channels\")"
   ]
  },
  {
   "cell_type": "markdown",
   "id": "6fd9d0ea",
   "metadata": {},
   "source": [
    "Again the data looks heavy-tailed ! We could again try to discretize this variable as was done before, although again this doesn't seem quite as interesting (how do we define small, medium, big activity?), or we could also try to log transform the values for further use. "
   ]
  },
  {
   "cell_type": "markdown",
   "id": "405d828a",
   "metadata": {},
   "source": [
    "### 6. Video type distributions \n",
    "\n",
    "Looking at the video type distributions can be interesting for seeing what type of content might have the biggest like count. In general :"
   ]
  },
  {
   "cell_type": "code",
   "execution_count": 78,
   "id": "4707658d",
   "metadata": {},
   "outputs": [
    {
     "data": {
      "text/plain": [
       "categories\n",
       "Unknown                      1522\n",
       "Autos & Vehicles          2256967\n",
       "Comedy                    1172503\n",
       "Education                 3795564\n",
       "Entertainment            12276397\n",
       "Film & Animation          2359736\n",
       "Gaming                   13720303\n",
       "Howto & Style             3968127\n",
       "Movies                          5\n",
       "Music                     8305003\n",
       "News & Politics           8881022\n",
       "Nonprofits & Activism      777449\n",
       "People & Blogs            6910666\n",
       "Pets & Animals             645508\n",
       "Science & Technology      2403004\n",
       "Shows                          41\n",
       "Sports                    4354412\n",
       "Travel & Events           1096565\n",
       "dtype: int64"
      ]
     },
     "execution_count": 78,
     "metadata": {},
     "output_type": "execute_result"
    }
   ],
   "source": [
    "df_metadata.groupby(\"categories\").size().rename(index = {'':'Unknown'})"
   ]
  },
  {
   "cell_type": "markdown",
   "id": "acd31730",
   "metadata": {},
   "source": [
    "Now, for the top channels, the distribution drastically changes :"
   ]
  },
  {
   "cell_type": "code",
   "execution_count": 77,
   "id": "7d356afd",
   "metadata": {},
   "outputs": [
    {
     "data": {
      "text/plain": [
       "categories\n",
       "Autos & Vehicles           1\n",
       "Comedy                    15\n",
       "Education                 13\n",
       "Entertainment             68\n",
       "Film & Animation           7\n",
       "Gaming                     8\n",
       "Howto & Style              3\n",
       "Music                    864\n",
       "News & Politics            2\n",
       "Nonprofits & Activism      1\n",
       "People & Blogs            10\n",
       "Science & Technology       1\n",
       "Sports                     7\n",
       "dtype: int64"
      ]
     },
     "execution_count": 77,
     "metadata": {},
     "output_type": "execute_result"
    }
   ],
   "source": [
    "df_metadata.sort_values(by = \"like_count\", ascending = False)[0:1000].groupby(['categories']).size()"
   ]
  },
  {
   "cell_type": "markdown",
   "id": "0def7415",
   "metadata": {},
   "source": [
    "We can for example see that from the 1000 most liked videos, 864 are of \"Music\" category. "
   ]
  },
  {
   "cell_type": "markdown",
   "id": "aefd1c21",
   "metadata": {},
   "source": [
    "### 7. Small notes on further feature transformations\n",
    "\n",
    "Some additional feature transformations were needed as we wanted to consider some additional features when looking at correlations in the next section. Mainly, this involved transforming non-numeric features into numeric ones so we could use the \".corr\" method for data frames. As these feature transformations were only used in the following subsection, they were left there for now (and are highlighted in bold for better identification!)"
   ]
  },
  {
   "cell_type": "markdown",
   "id": "9f6a04a0",
   "metadata": {},
   "source": [
    "## iv. Correlations\n",
    "\n",
    "In the following subsection we look at the correlation between some of the variables of some of the dataframes that were provided. This was done only for df_channels."
   ]
  },
  {
   "cell_type": "code",
   "execution_count": 50,
   "id": "a725f660",
   "metadata": {},
   "outputs": [
    {
     "data": {
      "text/html": [
       "<div>\n",
       "<style scoped>\n",
       "    .dataframe tbody tr th:only-of-type {\n",
       "        vertical-align: middle;\n",
       "    }\n",
       "\n",
       "    .dataframe tbody tr th {\n",
       "        vertical-align: top;\n",
       "    }\n",
       "\n",
       "    .dataframe thead th {\n",
       "        text-align: right;\n",
       "    }\n",
       "</style>\n",
       "<table border=\"1\" class=\"dataframe\">\n",
       "  <thead>\n",
       "    <tr style=\"text-align: right;\">\n",
       "      <th></th>\n",
       "      <th>subscribers_cc</th>\n",
       "      <th>videos_cc</th>\n",
       "      <th>subscriber_rank_sb</th>\n",
       "      <th>weights</th>\n",
       "    </tr>\n",
       "  </thead>\n",
       "  <tbody>\n",
       "    <tr>\n",
       "      <th>subscribers_cc</th>\n",
       "      <td>1.000000</td>\n",
       "      <td>0.086100</td>\n",
       "      <td>-0.241136</td>\n",
       "      <td>-0.172285</td>\n",
       "    </tr>\n",
       "    <tr>\n",
       "      <th>videos_cc</th>\n",
       "      <td>0.086100</td>\n",
       "      <td>1.000000</td>\n",
       "      <td>-0.062582</td>\n",
       "      <td>-0.043246</td>\n",
       "    </tr>\n",
       "    <tr>\n",
       "      <th>subscriber_rank_sb</th>\n",
       "      <td>-0.241136</td>\n",
       "      <td>-0.062582</td>\n",
       "      <td>1.000000</td>\n",
       "      <td>0.738400</td>\n",
       "    </tr>\n",
       "    <tr>\n",
       "      <th>weights</th>\n",
       "      <td>-0.172285</td>\n",
       "      <td>-0.043246</td>\n",
       "      <td>0.738400</td>\n",
       "      <td>1.000000</td>\n",
       "    </tr>\n",
       "  </tbody>\n",
       "</table>\n",
       "</div>"
      ],
      "text/plain": [
       "                    subscribers_cc  videos_cc  subscriber_rank_sb   weights\n",
       "subscribers_cc            1.000000   0.086100           -0.241136 -0.172285\n",
       "videos_cc                 0.086100   1.000000           -0.062582 -0.043246\n",
       "subscriber_rank_sb       -0.241136  -0.062582            1.000000  0.738400\n",
       "weights                  -0.172285  -0.043246            0.738400  1.000000"
      ]
     },
     "execution_count": 50,
     "metadata": {},
     "output_type": "execute_result"
    }
   ],
   "source": [
    "# Here we want to drop all rows with missing values so they aren't used\n",
    "curr_df = df_channels.dropna()\n",
    "curr_df.corr(method = \"pearson\")"
   ]
  },
  {
   "cell_type": "markdown",
   "id": "2b78bb57",
   "metadata": {},
   "source": [
    "We can see that the correlations only happen between numerical values. A metric that could be interesting even though not numerical in the data frame is the join date. Joining YouTube earlier could have an impact. Therefore, the following function can be coded so that we can transform the join date in a numerical variable (i.e. the number of days between the reference date and the join date) (**first feature transformation**) :"
   ]
  },
  {
   "cell_type": "code",
   "execution_count": 51,
   "id": "dc9dbe4d",
   "metadata": {},
   "outputs": [],
   "source": [
    "def transform_date(date_tbt, ref_date) :\n",
    "    \"\"\"\n",
    "    Args :\n",
    "        date_tbt :  (str), contains the date we want to transform with format \"year-month-day\"\n",
    "        ref_date :  (str), contains reference date with format \"year-month-day\"\n",
    "        \n",
    "    Returns :\n",
    "        res_str :   (int), number of days between reference data and given date\n",
    "    \"\"\"\n",
    "    if(isinstance(date_tbt, float)) :\n",
    "        print(date_tbt)\n",
    "    ref_date_list = ref_date.split(sep = \"-\")\n",
    "    date_tbt_list = date_tbt.split(sep = \"-\")\n",
    "    return (date(int(date_tbt_list[0]), int(date_tbt_list[1]), int(date_tbt_list[2])) - date(int(ref_date_list[0]), int(ref_date_list[1]), int(ref_date_list[2]))).days"
   ]
  },
  {
   "cell_type": "markdown",
   "id": "795eb71a",
   "metadata": {},
   "source": [
    "As the first data that we have is from the 2005, we will use the 1st of January 2005 as the reference date. We then get :"
   ]
  },
  {
   "cell_type": "code",
   "execution_count": 52,
   "id": "1b94a168",
   "metadata": {},
   "outputs": [
    {
     "name": "stderr",
     "output_type": "stream",
     "text": [
      "C:\\Users\\sande\\AppData\\Local\\Temp/ipykernel_5512/985236246.py:2: SettingWithCopyWarning: \n",
      "A value is trying to be set on a copy of a slice from a DataFrame.\n",
      "Try using .loc[row_indexer,col_indexer] = value instead\n",
      "\n",
      "See the caveats in the documentation: https://pandas.pydata.org/pandas-docs/stable/user_guide/indexing.html#returning-a-view-versus-a-copy\n",
      "  curr_df[\"existance_days\"] = [transform_date(date_tbt, ref_date) for date_tbt in curr_df[\"join_date\"].values]\n",
      "C:\\Users\\sande\\anaconda3\\lib\\site-packages\\pandas\\core\\frame.py:4906: SettingWithCopyWarning: \n",
      "A value is trying to be set on a copy of a slice from a DataFrame\n",
      "\n",
      "See the caveats in the documentation: https://pandas.pydata.org/pandas-docs/stable/user_guide/indexing.html#returning-a-view-versus-a-copy\n",
      "  return super().drop(\n"
     ]
    },
    {
     "data": {
      "text/html": [
       "<div>\n",
       "<style scoped>\n",
       "    .dataframe tbody tr th:only-of-type {\n",
       "        vertical-align: middle;\n",
       "    }\n",
       "\n",
       "    .dataframe tbody tr th {\n",
       "        vertical-align: top;\n",
       "    }\n",
       "\n",
       "    .dataframe thead th {\n",
       "        text-align: right;\n",
       "    }\n",
       "</style>\n",
       "<table border=\"1\" class=\"dataframe\">\n",
       "  <thead>\n",
       "    <tr style=\"text-align: right;\">\n",
       "      <th></th>\n",
       "      <th>category_cc</th>\n",
       "      <th>name_cc</th>\n",
       "      <th>subscribers_cc</th>\n",
       "      <th>videos_cc</th>\n",
       "      <th>subscriber_rank_sb</th>\n",
       "      <th>weights</th>\n",
       "      <th>existance_days</th>\n",
       "    </tr>\n",
       "    <tr>\n",
       "      <th>channel</th>\n",
       "      <th></th>\n",
       "      <th></th>\n",
       "      <th></th>\n",
       "      <th></th>\n",
       "      <th></th>\n",
       "      <th></th>\n",
       "      <th></th>\n",
       "    </tr>\n",
       "  </thead>\n",
       "  <tbody>\n",
       "    <tr>\n",
       "      <th>UC-lHJZR3Gqxm24_Vd_AJ5Yw</th>\n",
       "      <td>Gaming</td>\n",
       "      <td>PewDiePie</td>\n",
       "      <td>101000000</td>\n",
       "      <td>3956</td>\n",
       "      <td>3.0</td>\n",
       "      <td>2.0870</td>\n",
       "      <td>1579</td>\n",
       "    </tr>\n",
       "    <tr>\n",
       "      <th>UCbCmjCuTUZos6Inko4u57UQ</th>\n",
       "      <td>Education</td>\n",
       "      <td>Cocomelon - Nursery ...</td>\n",
       "      <td>60100000</td>\n",
       "      <td>458</td>\n",
       "      <td>7.0</td>\n",
       "      <td>2.0870</td>\n",
       "      <td>243</td>\n",
       "    </tr>\n",
       "    <tr>\n",
       "      <th>UCpEhnqL0y41EpW2TvWAHD7Q</th>\n",
       "      <td>Entertainment</td>\n",
       "      <td>SET India</td>\n",
       "      <td>56018869</td>\n",
       "      <td>32661</td>\n",
       "      <td>8.0</td>\n",
       "      <td>2.0870</td>\n",
       "      <td>262</td>\n",
       "    </tr>\n",
       "    <tr>\n",
       "      <th>UC295-Dw_tDNtZXFeAPAW6Aw</th>\n",
       "      <td>Howto &amp; Style</td>\n",
       "      <td>5-Minute Crafts</td>\n",
       "      <td>60600000</td>\n",
       "      <td>3591</td>\n",
       "      <td>9.0</td>\n",
       "      <td>2.0870</td>\n",
       "      <td>3971</td>\n",
       "    </tr>\n",
       "    <tr>\n",
       "      <th>UCJ5v_MCY6GNUBTO8-D3XoAg</th>\n",
       "      <td>Sports</td>\n",
       "      <td>WWE</td>\n",
       "      <td>48400000</td>\n",
       "      <td>43421</td>\n",
       "      <td>11.0</td>\n",
       "      <td>2.0870</td>\n",
       "      <td>495</td>\n",
       "    </tr>\n",
       "    <tr>\n",
       "      <th>...</th>\n",
       "      <td>...</td>\n",
       "      <td>...</td>\n",
       "      <td>...</td>\n",
       "      <td>...</td>\n",
       "      <td>...</td>\n",
       "      <td>...</td>\n",
       "      <td>...</td>\n",
       "    </tr>\n",
       "    <tr>\n",
       "      <th>UCuM-9AajUOwKw6ipOzu2DRQ</th>\n",
       "      <td>Music</td>\n",
       "      <td>GONE.Fludd - Topic</td>\n",
       "      <td>10128</td>\n",
       "      <td>105</td>\n",
       "      <td>1008139.0</td>\n",
       "      <td>53.1435</td>\n",
       "      <td>3931</td>\n",
       "    </tr>\n",
       "    <tr>\n",
       "      <th>UCtW9jp5TH0YrgYpwiRf9t-Q</th>\n",
       "      <td>People &amp; Blogs</td>\n",
       "      <td>saidthestory</td>\n",
       "      <td>10100</td>\n",
       "      <td>352</td>\n",
       "      <td>1008644.0</td>\n",
       "      <td>53.1435</td>\n",
       "      <td>2846</td>\n",
       "    </tr>\n",
       "    <tr>\n",
       "      <th>UCTsxFTIUs8vFDzGccDm6i7Q</th>\n",
       "      <td>Gaming</td>\n",
       "      <td>Omni H</td>\n",
       "      <td>10000</td>\n",
       "      <td>475</td>\n",
       "      <td>1009505.0</td>\n",
       "      <td>53.1435</td>\n",
       "      <td>3414</td>\n",
       "    </tr>\n",
       "    <tr>\n",
       "      <th>UC1HOArgRCMGPjlcmkThERwA</th>\n",
       "      <td>Music</td>\n",
       "      <td>TĀLĀ</td>\n",
       "      <td>10000</td>\n",
       "      <td>15</td>\n",
       "      <td>1025119.0</td>\n",
       "      <td>53.1435</td>\n",
       "      <td>1928</td>\n",
       "    </tr>\n",
       "    <tr>\n",
       "      <th>UCITKvry4fW50iU4FSw9WERQ</th>\n",
       "      <td>People &amp; Blogs</td>\n",
       "      <td>Tangleblog</td>\n",
       "      <td>10000</td>\n",
       "      <td>159</td>\n",
       "      <td>1030844.0</td>\n",
       "      <td>53.1435</td>\n",
       "      <td>314</td>\n",
       "    </tr>\n",
       "  </tbody>\n",
       "</table>\n",
       "<p>136331 rows × 7 columns</p>\n",
       "</div>"
      ],
      "text/plain": [
       "                             category_cc                  name_cc  \\\n",
       "channel                                                             \n",
       "UC-lHJZR3Gqxm24_Vd_AJ5Yw          Gaming                PewDiePie   \n",
       "UCbCmjCuTUZos6Inko4u57UQ       Education  Cocomelon - Nursery ...   \n",
       "UCpEhnqL0y41EpW2TvWAHD7Q   Entertainment                SET India   \n",
       "UC295-Dw_tDNtZXFeAPAW6Aw   Howto & Style          5-Minute Crafts   \n",
       "UCJ5v_MCY6GNUBTO8-D3XoAg          Sports                      WWE   \n",
       "...                                  ...                      ...   \n",
       "UCuM-9AajUOwKw6ipOzu2DRQ           Music       GONE.Fludd - Topic   \n",
       "UCtW9jp5TH0YrgYpwiRf9t-Q  People & Blogs             saidthestory   \n",
       "UCTsxFTIUs8vFDzGccDm6i7Q          Gaming                   Omni H   \n",
       "UC1HOArgRCMGPjlcmkThERwA           Music                     TĀLĀ   \n",
       "UCITKvry4fW50iU4FSw9WERQ  People & Blogs               Tangleblog   \n",
       "\n",
       "                          subscribers_cc  videos_cc  subscriber_rank_sb  \\\n",
       "channel                                                                   \n",
       "UC-lHJZR3Gqxm24_Vd_AJ5Yw       101000000       3956                 3.0   \n",
       "UCbCmjCuTUZos6Inko4u57UQ        60100000        458                 7.0   \n",
       "UCpEhnqL0y41EpW2TvWAHD7Q        56018869      32661                 8.0   \n",
       "UC295-Dw_tDNtZXFeAPAW6Aw        60600000       3591                 9.0   \n",
       "UCJ5v_MCY6GNUBTO8-D3XoAg        48400000      43421                11.0   \n",
       "...                                  ...        ...                 ...   \n",
       "UCuM-9AajUOwKw6ipOzu2DRQ           10128        105           1008139.0   \n",
       "UCtW9jp5TH0YrgYpwiRf9t-Q           10100        352           1008644.0   \n",
       "UCTsxFTIUs8vFDzGccDm6i7Q           10000        475           1009505.0   \n",
       "UC1HOArgRCMGPjlcmkThERwA           10000         15           1025119.0   \n",
       "UCITKvry4fW50iU4FSw9WERQ           10000        159           1030844.0   \n",
       "\n",
       "                          weights  existance_days  \n",
       "channel                                            \n",
       "UC-lHJZR3Gqxm24_Vd_AJ5Yw   2.0870            1579  \n",
       "UCbCmjCuTUZos6Inko4u57UQ   2.0870             243  \n",
       "UCpEhnqL0y41EpW2TvWAHD7Q   2.0870             262  \n",
       "UC295-Dw_tDNtZXFeAPAW6Aw   2.0870            3971  \n",
       "UCJ5v_MCY6GNUBTO8-D3XoAg   2.0870             495  \n",
       "...                           ...             ...  \n",
       "UCuM-9AajUOwKw6ipOzu2DRQ  53.1435            3931  \n",
       "UCtW9jp5TH0YrgYpwiRf9t-Q  53.1435            2846  \n",
       "UCTsxFTIUs8vFDzGccDm6i7Q  53.1435            3414  \n",
       "UC1HOArgRCMGPjlcmkThERwA  53.1435            1928  \n",
       "UCITKvry4fW50iU4FSw9WERQ  53.1435             314  \n",
       "\n",
       "[136331 rows x 7 columns]"
      ]
     },
     "execution_count": 52,
     "metadata": {},
     "output_type": "execute_result"
    }
   ],
   "source": [
    "ref_date = \"2005-1-1\"\n",
    "curr_df[\"existance_days\"] = [transform_date(date_tbt, ref_date) for date_tbt in curr_df[\"join_date\"].values]\n",
    "curr_df.drop(\"join_date\", inplace = True, axis = 1)\n",
    "curr_df"
   ]
  },
  {
   "cell_type": "markdown",
   "id": "2ffddf89",
   "metadata": {},
   "source": [
    "Another interesting feature that could be interesting to include is the channel category. Let's use dummy variables for this (**second feature transformation**) :"
   ]
  },
  {
   "cell_type": "code",
   "execution_count": 53,
   "id": "fa12c280",
   "metadata": {},
   "outputs": [],
   "source": [
    "dummies_df = pd.get_dummies(curr_df[\"category_cc\"])\n",
    "full_df = curr_df.merge(dummies_df, left_index=True, right_on=\"channel\")\n",
    "full_df.drop(\"category_cc\", inplace = True, axis = 1)"
   ]
  },
  {
   "cell_type": "markdown",
   "id": "198939c7",
   "metadata": {},
   "source": [
    "We can't do much with the channel names, so let's remove them for now. "
   ]
  },
  {
   "cell_type": "code",
   "execution_count": 54,
   "id": "f87b5d1d",
   "metadata": {},
   "outputs": [],
   "source": [
    "full_df.drop(\"name_cc\", inplace = True, axis = 1)"
   ]
  },
  {
   "cell_type": "markdown",
   "id": "e14417c3",
   "metadata": {},
   "source": [
    "We now look at the linear correlation between the different features, keeping only the strong (>0.7, [source](https://journals.lww.com/anesthesia-analgesia/fulltext/2018/05000/correlation_coefficients__appropriate_use_and.50.aspx)) and significant ones."
   ]
  },
  {
   "cell_type": "code",
   "execution_count": 55,
   "id": "8f976644",
   "metadata": {},
   "outputs": [
    {
     "name": "stdout",
     "output_type": "stream",
     "text": [
      "Pearson correlation is significant between subscriber_rank_sb and weights. The p-value is 0.0 and the correlation coefficient is 0.7383999363445934\n",
      "\n"
     ]
    }
   ],
   "source": [
    "for i in range(len(full_df.columns)) :\n",
    "    for j in range(i, len(full_df.columns)) :\n",
    "        if(abs(i-j) > 0 and not(i > 5 and j > 5)) :\n",
    "            r, pval = stats.pearsonr(full_df[full_df.columns[i]].values, full_df[full_df.columns[j]].values)\n",
    "            if(pval < 0.05 and abs(r) > 0.7) :\n",
    "                print(\"Pearson correlation is significant between \" + full_df.columns[i] + \" and \" + full_df.columns[j] + \n",
    "                      \". The p-value is \" + str(pval) + \" and the correlation coefficient is \" + str(r))\n",
    "                print()"
   ]
  },
  {
   "cell_type": "code",
   "execution_count": 56,
   "id": "3fcbaa00",
   "metadata": {},
   "outputs": [
    {
     "name": "stdout",
     "output_type": "stream",
     "text": [
      "Pearson correlation is significant between subscribers_cc and subscriber_rank_sb. The p-value is 0.0 and the correlation coefficient is -0.9937197228151681\n",
      "\n",
      "Pearson correlation is significant between subscribers_cc and weights. The p-value is 0.0 and the correlation coefficient is -0.9609484981665265\n",
      "\n",
      "Pearson correlation is significant between subscriber_rank_sb and weights. The p-value is 0.0 and the correlation coefficient is 0.9650708046186821\n",
      "\n"
     ]
    }
   ],
   "source": [
    "for i in range(len(full_df.columns)) :\n",
    "    for j in range(i, len(full_df.columns)) :\n",
    "        if(abs(i-j) > 0 and not(i > 5 and j > 5)) :\n",
    "            r, pval = stats.spearmanr(full_df[full_df.columns[i]].values, full_df[full_df.columns[j]].values)\n",
    "            if(pval < 0.05 and abs(r) > 0.7) :\n",
    "                print(\"Spearman correlation is significant between \" + full_df.columns[i] + \" and \" + full_df.columns[j] + \n",
    "                      \". The p-value is \" + str(pval) + \" and the correlation coefficient is \" + str(r))\n",
    "                print()"
   ]
  },
  {
   "cell_type": "markdown",
   "id": "67887b66",
   "metadata": {},
   "source": [
    "We can see that the \"subscribers_cc\", \"subscriber_rank_sb\" and \"weights\" features are strongly (coefficients > 0.95) and significantly (p-values < 0.05) correlated. This makes as they are all three related to the number of subscribers a particular channel has. "
   ]
  },
  {
   "cell_type": "markdown",
   "id": "6f54b7ce-f524-4cd3-89b0-793a06d6143b",
   "metadata": {},
   "source": [
    "# II. Analyzing viral videos"
   ]
  },
  {
   "cell_type": "markdown",
   "id": "674de12b-f029-4aa1-9dfe-3b01a5578058",
   "metadata": {},
   "source": [
    "## i. Finding subscriber counts at releases of videos\n",
    "As a first step, we will find the subscriber counts of each video in a sample of our dataset. We would have liked using the latter entirely but it is too large for our computations. Thus we limit ourselves to a portion of it and look into df_timeseries to fetch the subscribers count the week before the release of the video."
   ]
  },
  {
   "cell_type": "code",
   "execution_count": 12,
   "id": "acdb8d02-6c3c-466b-a394-47e26e566b43",
   "metadata": {},
   "outputs": [],
   "source": [
    "# Sort values for a faster algorithm\n",
    "df_timeseries = df_timeseries.sort_values(\"datetime\")\n",
    "\n",
    "# Consider channel IDs as categories to also speed up computations\n",
    "df_timeseries_cat = df_timeseries.copy()\n",
    "df_timeseries_cat[\"channel\"] = df_timeseries_cat[\"channel\"].astype(\"category\")"
   ]
  },
  {
   "cell_type": "code",
   "execution_count": 27,
   "id": "b6554c79-3605-4bbb-824e-4ce4fb85dbce",
   "metadata": {
    "tags": []
   },
   "outputs": [],
   "source": [
    "def subs_before_video(channel_id, upload_date):\n",
    "    \"\"\"\n",
    "    Args :\n",
    "        channel_id  :  (str), contains the ID of the channel\n",
    "        upload_date :  (datetime64), contains the upload date of a certain video\n",
    "        \n",
    "    Returns         :  (float), number of subscribers the channel had the week preceding the upload date.\n",
    "    \"\"\"\n",
    "    video_timeseries = df_timeseries_cat[df_timeseries_cat[\"channel\"] == channel_id]\n",
    "    \n",
    "    prev_week = None\n",
    "    for index, channel_week in video_timeseries.iterrows():\n",
    "        if prev_week is not None and upload_date < channel_week[\"datetime\"]:\n",
    "            return prev_week[\"subs\"]\n",
    "        prev_week = channel_week"
   ]
  },
  {
   "cell_type": "code",
   "execution_count": 28,
   "id": "944e2c45-80ab-4aae-a228-818cf334cc7e",
   "metadata": {},
   "outputs": [],
   "source": [
    "with open(op.join(DATA, \"df_metadata_sample.csv\"), \"w\") as file:\n",
    "    file.write(\"index,\" + \",\".join(df_metadata.columns) + \",subs_before_video\\n\")\n",
    "    \n",
    "# Samples 1_000_000 videos from the dataset, find the subscribers count before each of their release and saving the results to a file each 10_000 videos.\n",
    "for i in range(100):\n",
    "    df_sample = df_metadata.sample(n=10_000)\n",
    "    df_sample[\"subs_before_video\"] = df_sample.apply(lambda video: subs_before_video(video.channel_id, video.upload_date), axis=1)\n",
    "    df_sample.dropna().to_csv(op.join(DATA,\"df_metadata_sample.csv\"), mode=\"a\", header=False)"
   ]
  },
  {
   "cell_type": "markdown",
   "id": "f3170ee1-8c3b-4b08-b641-0acc27c37336",
   "metadata": {},
   "source": [
    "We now have more than a million videos to work with, each of them now with their subscribers count before their release.\n",
    "As a second step, we fetch additional features on the videos (number of tags, comments, description, title,...) in the whole metadata dataset."
   ]
  },
  {
   "cell_type": "markdown",
   "id": "2c5ff913-3b2f-4233-930a-4c10311ea490",
   "metadata": {},
   "source": [
    "## ii. Adding more features to our sample"
   ]
  },
  {
   "cell_type": "markdown",
   "id": "60a681d3-139b-40be-99fd-fd42eb38d7da",
   "metadata": {},
   "source": [
    "Note: there are frequent writes and reads to external files to save our work so that we can resume faster."
   ]
  },
  {
   "cell_type": "markdown",
   "id": "24a64c4c-8f46-48f2-b542-273c6377f286",
   "metadata": {},
   "source": [
    "### 1. Counting the number of tags in each video"
   ]
  },
  {
   "cell_type": "code",
   "execution_count": 29,
   "id": "6531afc5-d09c-42b8-96df-8afdad329ea0",
   "metadata": {},
   "outputs": [],
   "source": [
    "chunksize=100000\n",
    "chunk=pd.read_json(op.join(DATA, 'yt_metadata_en.jsonl.gz'), lines=True, nrows=730000000, compression='gzip', chunksize=chunksize)"
   ]
  },
  {
   "cell_type": "code",
   "execution_count": 30,
   "id": "c623cdc1-7832-49a1-bba8-d7697026fddf",
   "metadata": {},
   "outputs": [],
   "source": [
    "def remove_punctuation(sentence):\n",
    "    '''Input:\n",
    "        sentence: string\n",
    "       Output: sentence without the characters contained in the variable list_punctuation \n",
    "    '''\n",
    "    list_punctuation = ['.',',','?','!']\n",
    "    list_punctuation2 = ['\\n',':']\n",
    "    for punc in list_punctuation:\n",
    "        sentence=sentence.replace(punc,\"\")\n",
    "    for punc in list_punctuation2:\n",
    "        sentence=sentence.replace(punc,\" \")\n",
    "    return sentence\n",
    "\n",
    "def count_tags(x):\n",
    "    return len(remove_punctuation(x).split(','))"
   ]
  },
  {
   "cell_type": "code",
   "execution_count": 31,
   "id": "e33e821f-6bd9-40c2-8545-62f660225340",
   "metadata": {},
   "outputs": [],
   "source": [
    "chunks = []\n",
    "for i,c in enumerate(chunk):\n",
    "    desc=pd.concat([c['tags'].apply(count_tags).rename('tags_count'), c['display_id']], axis=1)\n",
    "    chunks.append(desc)\n",
    "    del desc\n",
    "    del c\n",
    "    gc.collect()\n",
    "df_tags_count = pd.concat(chunks, axis=0)"
   ]
  },
  {
   "cell_type": "code",
   "execution_count": 32,
   "id": "5d2443c4-b78b-4c7b-a145-5ce9e672b99a",
   "metadata": {},
   "outputs": [],
   "source": [
    "# Saving to external file to save our work\n",
    "df_tags_count.to_parquet(op.join(DATA, 'df_tags_count.parquet.gzip'), compression='gzip')"
   ]
  },
  {
   "cell_type": "markdown",
   "id": "61ec3a62-ae01-4c19-995a-b01b29eb4044",
   "metadata": {
    "tags": []
   },
   "source": [
    "### 2. Adding number of tags and comments"
   ]
  },
  {
   "cell_type": "code",
   "execution_count": 33,
   "id": "f4ddb77e-f1a8-41b0-9d95-332c3a63bf26",
   "metadata": {},
   "outputs": [],
   "source": [
    "df_tags_count = pd.read_parquet(op.join(DATA,\"df_tags_count.parquet.gzip\"),engine=\"fastparquet\")\n",
    "\n",
    "df_metadata_sample = pd.read_csv(op.join(DATA,\"df_metadata_sample.csv\")).drop_duplicates()\n",
    "df_metadata_sample = df_metadata_sample.astype({'categories': 'category', 'upload_date': 'datetime64', 'like_count': 'int32', 'dislike_count': 'int32'})"
   ]
  },
  {
   "cell_type": "code",
   "execution_count": 34,
   "id": "6c3e83fa-31db-4c66-b59f-7c590be0732d",
   "metadata": {},
   "outputs": [],
   "source": [
    "# Adding the tags count\n",
    "df_metadata_sample = df_metadata_sample.merge(df_tags_count.iloc[df_metadata_sample['index']], on='display_id', how='left')\n",
    "df_metadata_sample = df_metadata_sample.rename(columns={'tags':'tags_count'})"
   ]
  },
  {
   "cell_type": "code",
   "execution_count": 35,
   "id": "6341d8f7-ebbb-425f-9c6e-d5734a378db7",
   "metadata": {},
   "outputs": [],
   "source": [
    "# Adding the number of comments\n",
    "df_metadata_sample = df_metadata_sample.merge(df_num_comments.iloc[df_metadata_sample['index']], on='display_id', how='left')"
   ]
  },
  {
   "cell_type": "code",
   "execution_count": 36,
   "id": "0937060e-9357-43f5-8da8-95001b7b38e3",
   "metadata": {},
   "outputs": [],
   "source": [
    "# Saving to external file to save our work\n",
    "df_metadata_sample.to_parquet(op.join(DATA,'df_metadata_sample_clean.parquet.gzip'), compression='gzip')"
   ]
  },
  {
   "cell_type": "markdown",
   "id": "502234ae-3521-405e-a3dd-be1a57f67fb6",
   "metadata": {
    "tags": []
   },
   "source": [
    "### 3. Adding description and titles"
   ]
  },
  {
   "cell_type": "code",
   "execution_count": 37,
   "id": "69d18b9b-384b-4d85-ad4f-622bcfcec498",
   "metadata": {},
   "outputs": [],
   "source": [
    "df_metadata_sample = pd.read_parquet(op.join(DATA,'df_metadata_sample_clean.parquet.gzip'), engine=\"fastparquet\")\n",
    "df_whole_metadata = pd.read_pickle(op.join(DATA,'metadata_desc_title8.pkl'))"
   ]
  },
  {
   "cell_type": "code",
   "execution_count": 38,
   "id": "117bf1f1-bba1-4b8c-a1ad-8c7a7a73263a",
   "metadata": {},
   "outputs": [
    {
     "data": {
      "text/html": [
       "\n",
       "  <div id=\"df-c45eede7-ca4d-4cd0-9ea6-f73b930cfc05\">\n",
       "    <div class=\"colab-df-container\">\n",
       "      <div>\n",
       "<style scoped>\n",
       "    .dataframe tbody tr th:only-of-type {\n",
       "        vertical-align: middle;\n",
       "    }\n",
       "\n",
       "    .dataframe tbody tr th {\n",
       "        vertical-align: top;\n",
       "    }\n",
       "\n",
       "    .dataframe thead th {\n",
       "        text-align: right;\n",
       "    }\n",
       "</style>\n",
       "<table border=\"1\" class=\"dataframe\">\n",
       "  <thead>\n",
       "    <tr style=\"text-align: right;\">\n",
       "      <th></th>\n",
       "      <th>index</th>\n",
       "      <th>categories</th>\n",
       "      <th>channel_id</th>\n",
       "      <th>dislike_count</th>\n",
       "      <th>display_id</th>\n",
       "      <th>duration</th>\n",
       "      <th>like_count</th>\n",
       "      <th>upload_date</th>\n",
       "      <th>view_count</th>\n",
       "      <th>subs_before_video</th>\n",
       "      <th>tags_count</th>\n",
       "      <th>num_comms</th>\n",
       "      <th>description</th>\n",
       "      <th>title</th>\n",
       "    </tr>\n",
       "  </thead>\n",
       "  <tbody>\n",
       "    <tr>\n",
       "      <th>0</th>\n",
       "      <td>676973</td>\n",
       "      <td>Gaming</td>\n",
       "      <td>UCrnftLporTV1YgYbVi7GFsw</td>\n",
       "      <td>31</td>\n",
       "      <td>TqLn2hX6zoA</td>\n",
       "      <td>655</td>\n",
       "      <td>314</td>\n",
       "      <td>2019-03-13</td>\n",
       "      <td>45868.0</td>\n",
       "      <td>30595.541667</td>\n",
       "      <td>15</td>\n",
       "      <td>39.0</td>\n",
       "      <td>Send me your submissions to be featured https:...</td>\n",
       "      <td>Twitch Stream Fails and Epic Moments Compilati...</td>\n",
       "    </tr>\n",
       "    <tr>\n",
       "      <th>1</th>\n",
       "      <td>66343748</td>\n",
       "      <td>Sports</td>\n",
       "      <td>UC2EuJ9xTs0XkDZI9YGx7QZA</td>\n",
       "      <td>51</td>\n",
       "      <td>MCEQL6g5EIU</td>\n",
       "      <td>614</td>\n",
       "      <td>468</td>\n",
       "      <td>2017-03-25</td>\n",
       "      <td>29088.0</td>\n",
       "      <td>20086.343750</td>\n",
       "      <td>15</td>\n",
       "      <td>179.0</td>\n",
       "      <td>If Floyd Mayweather vs. Conor McGregor ends up...</td>\n",
       "      <td>Conor McGregor's Best Asset: Undermining Doubt...</td>\n",
       "    </tr>\n",
       "    <tr>\n",
       "      <th>2</th>\n",
       "      <td>12315685</td>\n",
       "      <td>Entertainment</td>\n",
       "      <td>UCiJfiEg1FImWsVuEu0L8X6Q</td>\n",
       "      <td>1</td>\n",
       "      <td>l3_IlJr-8_U</td>\n",
       "      <td>30</td>\n",
       "      <td>44</td>\n",
       "      <td>2016-08-18</td>\n",
       "      <td>11506.0</td>\n",
       "      <td>126756.750000</td>\n",
       "      <td>8</td>\n",
       "      <td>0.0</td>\n",
       "      <td>Watch Srirastu Subhamastu telugu movie dailogu...</td>\n",
       "      <td>Srirastu Subhamastu Latest Teaser | Allu Siris...</td>\n",
       "    </tr>\n",
       "    <tr>\n",
       "      <th>3</th>\n",
       "      <td>29036231</td>\n",
       "      <td>People &amp; Blogs</td>\n",
       "      <td>UCVptfwYcLxRED8w4Efy0CsA</td>\n",
       "      <td>88</td>\n",
       "      <td>y126khD2Q5k</td>\n",
       "      <td>373</td>\n",
       "      <td>1788</td>\n",
       "      <td>2016-04-05</td>\n",
       "      <td>189885.0</td>\n",
       "      <td>2942.500000</td>\n",
       "      <td>41</td>\n",
       "      <td>125.0</td>\n",
       "      <td>COACHING &amp; TRAINING PLANS\\nVisit harryruns.com...</td>\n",
       "      <td>Interval Training: How To Become a Faster Runner</td>\n",
       "    </tr>\n",
       "    <tr>\n",
       "      <th>4</th>\n",
       "      <td>56543085</td>\n",
       "      <td>Film &amp; Animation</td>\n",
       "      <td>UCAP57cF-FSjJKzzXg7ntPlQ</td>\n",
       "      <td>0</td>\n",
       "      <td>JCuwthnCRpg</td>\n",
       "      <td>120</td>\n",
       "      <td>380</td>\n",
       "      <td>2019-01-08</td>\n",
       "      <td>7559.0</td>\n",
       "      <td>130292.885417</td>\n",
       "      <td>1</td>\n",
       "      <td>23.0</td>\n",
       "      <td>Now in theatres!</td>\n",
       "      <td>STALKER - Janus Films Trailer</td>\n",
       "    </tr>\n",
       "    <tr>\n",
       "      <th>...</th>\n",
       "      <td>...</td>\n",
       "      <td>...</td>\n",
       "      <td>...</td>\n",
       "      <td>...</td>\n",
       "      <td>...</td>\n",
       "      <td>...</td>\n",
       "      <td>...</td>\n",
       "      <td>...</td>\n",
       "      <td>...</td>\n",
       "      <td>...</td>\n",
       "      <td>...</td>\n",
       "      <td>...</td>\n",
       "      <td>...</td>\n",
       "      <td>...</td>\n",
       "    </tr>\n",
       "    <tr>\n",
       "      <th>1257064</th>\n",
       "      <td>39977981</td>\n",
       "      <td>Gaming</td>\n",
       "      <td>UCN-Klifn9C7kINwpIA0uOHw</td>\n",
       "      <td>2</td>\n",
       "      <td>QhWTZppzqxI</td>\n",
       "      <td>1579</td>\n",
       "      <td>302</td>\n",
       "      <td>2019-02-11</td>\n",
       "      <td>7518.0</td>\n",
       "      <td>305116.869792</td>\n",
       "      <td>13</td>\n",
       "      <td>49.0</td>\n",
       "      <td>🎤 Check out these links! 🎤\\nhttp://patreon.com...</td>\n",
       "      <td>[7] Ace Combat 7: Skies Unknown w/ GaLm</td>\n",
       "    </tr>\n",
       "    <tr>\n",
       "      <th>1257065</th>\n",
       "      <td>71798200</td>\n",
       "      <td>Gaming</td>\n",
       "      <td>UCskB-HpWs7BAVPvjdJf9-6g</td>\n",
       "      <td>1</td>\n",
       "      <td>1DytQ27ZFCQ</td>\n",
       "      <td>743</td>\n",
       "      <td>15</td>\n",
       "      <td>2015-12-29</td>\n",
       "      <td>116.0</td>\n",
       "      <td>6585.125000</td>\n",
       "      <td>8</td>\n",
       "      <td>19.0</td>\n",
       "      <td>Hey friends it's me KaOs Broly I hope you enjo...</td>\n",
       "      <td>Splatoon - New Piranha Pit Map Gameplay</td>\n",
       "    </tr>\n",
       "    <tr>\n",
       "      <th>1257066</th>\n",
       "      <td>35917598</td>\n",
       "      <td>Music</td>\n",
       "      <td>UCQEloCMWEZFep85nHfbbg8Q</td>\n",
       "      <td>0</td>\n",
       "      <td>wiP1xD1Tapc</td>\n",
       "      <td>389</td>\n",
       "      <td>0</td>\n",
       "      <td>2014-01-24</td>\n",
       "      <td>175.0</td>\n",
       "      <td>95064.375000</td>\n",
       "      <td>2</td>\n",
       "      <td>0.0</td>\n",
       "      <td>For more videos click | http://goo.gl/6NU4DG\\n...</td>\n",
       "      <td>Haryanvi Krishan Bhajan Sri Radhe Govinda Jug ...</td>\n",
       "    </tr>\n",
       "    <tr>\n",
       "      <th>1257067</th>\n",
       "      <td>54370862</td>\n",
       "      <td>People &amp; Blogs</td>\n",
       "      <td>UCBu0KdNokE4MqdkacvH37_A</td>\n",
       "      <td>1</td>\n",
       "      <td>3qmjq0j3-zE</td>\n",
       "      <td>143</td>\n",
       "      <td>1</td>\n",
       "      <td>2019-01-18</td>\n",
       "      <td>55.0</td>\n",
       "      <td>25481.217593</td>\n",
       "      <td>1</td>\n",
       "      <td>0.0</td>\n",
       "      <td>A new ice cream shop in North Texas is turning...</td>\n",
       "      <td>New ice cream shop turning dessert into a fine...</td>\n",
       "    </tr>\n",
       "    <tr>\n",
       "      <th>1257068</th>\n",
       "      <td>68486026</td>\n",
       "      <td>Travel &amp; Events</td>\n",
       "      <td>UC0sYKQ8MjYjLYeaHDItPong</td>\n",
       "      <td>0</td>\n",
       "      <td>2rruhkuF-3M</td>\n",
       "      <td>85</td>\n",
       "      <td>5</td>\n",
       "      <td>2011-01-29</td>\n",
       "      <td>1821.0</td>\n",
       "      <td>54952.000000</td>\n",
       "      <td>14</td>\n",
       "      <td>4.0</td>\n",
       "      <td>Perhaps these re not real tidal pools as there...</td>\n",
       "      <td>fish  nursery - looking in tidal pools</td>\n",
       "    </tr>\n",
       "  </tbody>\n",
       "</table>\n",
       "<p>1257069 rows × 14 columns</p>\n",
       "</div>\n",
       "      <button class=\"colab-df-convert\" onclick=\"convertToInteractive('df-c45eede7-ca4d-4cd0-9ea6-f73b930cfc05')\"\n",
       "              title=\"Convert this dataframe to an interactive table.\"\n",
       "              style=\"display:none;\">\n",
       "        \n",
       "  <svg xmlns=\"http://www.w3.org/2000/svg\" height=\"24px\"viewBox=\"0 0 24 24\"\n",
       "       width=\"24px\">\n",
       "    <path d=\"M0 0h24v24H0V0z\" fill=\"none\"/>\n",
       "    <path d=\"M18.56 5.44l.94 2.06.94-2.06 2.06-.94-2.06-.94-.94-2.06-.94 2.06-2.06.94zm-11 1L8.5 8.5l.94-2.06 2.06-.94-2.06-.94L8.5 2.5l-.94 2.06-2.06.94zm10 10l.94 2.06.94-2.06 2.06-.94-2.06-.94-.94-2.06-.94 2.06-2.06.94z\"/><path d=\"M17.41 7.96l-1.37-1.37c-.4-.4-.92-.59-1.43-.59-.52 0-1.04.2-1.43.59L10.3 9.45l-7.72 7.72c-.78.78-.78 2.05 0 2.83L4 21.41c.39.39.9.59 1.41.59.51 0 1.02-.2 1.41-.59l7.78-7.78 2.81-2.81c.8-.78.8-2.07 0-2.86zM5.41 20L4 18.59l7.72-7.72 1.47 1.35L5.41 20z\"/>\n",
       "  </svg>\n",
       "      </button>\n",
       "      \n",
       "  <style>\n",
       "    .colab-df-container {\n",
       "      display:flex;\n",
       "      flex-wrap:wrap;\n",
       "      gap: 12px;\n",
       "    }\n",
       "\n",
       "    .colab-df-convert {\n",
       "      background-color: #E8F0FE;\n",
       "      border: none;\n",
       "      border-radius: 50%;\n",
       "      cursor: pointer;\n",
       "      display: none;\n",
       "      fill: #1967D2;\n",
       "      height: 32px;\n",
       "      padding: 0 0 0 0;\n",
       "      width: 32px;\n",
       "    }\n",
       "\n",
       "    .colab-df-convert:hover {\n",
       "      background-color: #E2EBFA;\n",
       "      box-shadow: 0px 1px 2px rgba(60, 64, 67, 0.3), 0px 1px 3px 1px rgba(60, 64, 67, 0.15);\n",
       "      fill: #174EA6;\n",
       "    }\n",
       "\n",
       "    [theme=dark] .colab-df-convert {\n",
       "      background-color: #3B4455;\n",
       "      fill: #D2E3FC;\n",
       "    }\n",
       "\n",
       "    [theme=dark] .colab-df-convert:hover {\n",
       "      background-color: #434B5C;\n",
       "      box-shadow: 0px 1px 3px 1px rgba(0, 0, 0, 0.15);\n",
       "      filter: drop-shadow(0px 1px 2px rgba(0, 0, 0, 0.3));\n",
       "      fill: #FFFFFF;\n",
       "    }\n",
       "  </style>\n",
       "\n",
       "      <script>\n",
       "        const buttonEl =\n",
       "          document.querySelector('#df-c45eede7-ca4d-4cd0-9ea6-f73b930cfc05 button.colab-df-convert');\n",
       "        buttonEl.style.display =\n",
       "          google.colab.kernel.accessAllowed ? 'block' : 'none';\n",
       "\n",
       "        async function convertToInteractive(key) {\n",
       "          const element = document.querySelector('#df-c45eede7-ca4d-4cd0-9ea6-f73b930cfc05');\n",
       "          const dataTable =\n",
       "            await google.colab.kernel.invokeFunction('convertToInteractive',\n",
       "                                                     [key], {});\n",
       "          if (!dataTable) return;\n",
       "\n",
       "          const docLinkHtml = 'Like what you see? Visit the ' +\n",
       "            '<a target=\"_blank\" href=https://colab.research.google.com/notebooks/data_table.ipynb>data table notebook</a>'\n",
       "            + ' to learn more about interactive tables.';\n",
       "          element.innerHTML = '';\n",
       "          dataTable['output_type'] = 'display_data';\n",
       "          await google.colab.output.renderOutput(dataTable, element);\n",
       "          const docLink = document.createElement('div');\n",
       "          docLink.innerHTML = docLinkHtml;\n",
       "          element.appendChild(docLink);\n",
       "        }\n",
       "      </script>\n",
       "    </div>\n",
       "  </div>\n",
       "  "
      ],
      "text/plain": [
       "            index        categories                channel_id  dislike_count  \\\n",
       "0          676973            Gaming  UCrnftLporTV1YgYbVi7GFsw             31   \n",
       "1        66343748            Sports  UC2EuJ9xTs0XkDZI9YGx7QZA             51   \n",
       "2        12315685     Entertainment  UCiJfiEg1FImWsVuEu0L8X6Q              1   \n",
       "3        29036231    People & Blogs  UCVptfwYcLxRED8w4Efy0CsA             88   \n",
       "4        56543085  Film & Animation  UCAP57cF-FSjJKzzXg7ntPlQ              0   \n",
       "...           ...               ...                       ...            ...   \n",
       "1257064  39977981            Gaming  UCN-Klifn9C7kINwpIA0uOHw              2   \n",
       "1257065  71798200            Gaming  UCskB-HpWs7BAVPvjdJf9-6g              1   \n",
       "1257066  35917598             Music  UCQEloCMWEZFep85nHfbbg8Q              0   \n",
       "1257067  54370862    People & Blogs  UCBu0KdNokE4MqdkacvH37_A              1   \n",
       "1257068  68486026   Travel & Events  UC0sYKQ8MjYjLYeaHDItPong              0   \n",
       "\n",
       "          display_id  duration  like_count upload_date  view_count  \\\n",
       "0        TqLn2hX6zoA       655         314  2019-03-13     45868.0   \n",
       "1        MCEQL6g5EIU       614         468  2017-03-25     29088.0   \n",
       "2        l3_IlJr-8_U        30          44  2016-08-18     11506.0   \n",
       "3        y126khD2Q5k       373        1788  2016-04-05    189885.0   \n",
       "4        JCuwthnCRpg       120         380  2019-01-08      7559.0   \n",
       "...              ...       ...         ...         ...         ...   \n",
       "1257064  QhWTZppzqxI      1579         302  2019-02-11      7518.0   \n",
       "1257065  1DytQ27ZFCQ       743          15  2015-12-29       116.0   \n",
       "1257066  wiP1xD1Tapc       389           0  2014-01-24       175.0   \n",
       "1257067  3qmjq0j3-zE       143           1  2019-01-18        55.0   \n",
       "1257068  2rruhkuF-3M        85           5  2011-01-29      1821.0   \n",
       "\n",
       "         subs_before_video  tags_count  num_comms  \\\n",
       "0             30595.541667          15       39.0   \n",
       "1             20086.343750          15      179.0   \n",
       "2            126756.750000           8        0.0   \n",
       "3              2942.500000          41      125.0   \n",
       "4            130292.885417           1       23.0   \n",
       "...                    ...         ...        ...   \n",
       "1257064      305116.869792          13       49.0   \n",
       "1257065        6585.125000           8       19.0   \n",
       "1257066       95064.375000           2        0.0   \n",
       "1257067       25481.217593           1        0.0   \n",
       "1257068       54952.000000          14        4.0   \n",
       "\n",
       "                                               description  \\\n",
       "0        Send me your submissions to be featured https:...   \n",
       "1        If Floyd Mayweather vs. Conor McGregor ends up...   \n",
       "2        Watch Srirastu Subhamastu telugu movie dailogu...   \n",
       "3        COACHING & TRAINING PLANS\\nVisit harryruns.com...   \n",
       "4                                         Now in theatres!   \n",
       "...                                                    ...   \n",
       "1257064  🎤 Check out these links! 🎤\\nhttp://patreon.com...   \n",
       "1257065  Hey friends it's me KaOs Broly I hope you enjo...   \n",
       "1257066  For more videos click | http://goo.gl/6NU4DG\\n...   \n",
       "1257067  A new ice cream shop in North Texas is turning...   \n",
       "1257068  Perhaps these re not real tidal pools as there...   \n",
       "\n",
       "                                                     title  \n",
       "0        Twitch Stream Fails and Epic Moments Compilati...  \n",
       "1        Conor McGregor's Best Asset: Undermining Doubt...  \n",
       "2        Srirastu Subhamastu Latest Teaser | Allu Siris...  \n",
       "3         Interval Training: How To Become a Faster Runner  \n",
       "4                            STALKER - Janus Films Trailer  \n",
       "...                                                    ...  \n",
       "1257064            [7] Ace Combat 7: Skies Unknown w/ GaLm  \n",
       "1257065            Splatoon - New Piranha Pit Map Gameplay  \n",
       "1257066  Haryanvi Krishan Bhajan Sri Radhe Govinda Jug ...  \n",
       "1257067  New ice cream shop turning dessert into a fine...  \n",
       "1257068             fish  nursery - looking in tidal pools  \n",
       "\n",
       "[1257069 rows x 14 columns]"
      ]
     },
     "execution_count": 38,
     "metadata": {},
     "output_type": "execute_result"
    }
   ],
   "source": [
    "# Adding descriptions and titles\n",
    "df_sample_desc_titles = df_whole_metadata.filter(items=df_metadata_sample['index'], axis=0).reset_index().drop('channel_id', axis=1)\n",
    "df_metadata_sample = df_metadata_sample.merge(df_sample_desc_titles, on='index', how='left')\n",
    "df_metadata_sample"
   ]
  },
  {
   "cell_type": "code",
   "execution_count": 39,
   "id": "6450da8f-c69a-4531-9b86-bd2053755617",
   "metadata": {},
   "outputs": [],
   "source": [
    "# Saving to external file to save our work\n",
    "df_metadata_sample.to_parquet(op.join(DATA,'df_metadata_sample_clean.parquet.gzip'), compression='gzip')"
   ]
  },
  {
   "cell_type": "markdown",
   "id": "74d0730e-935b-4114-823c-47dbd51b16c4",
   "metadata": {},
   "source": [
    "## iii. Exploratory Data Analysis"
   ]
  },
  {
   "cell_type": "markdown",
   "id": "2de9ea42-7317-47d9-8a9e-078d2912610e",
   "metadata": {
    "tags": []
   },
   "source": [
    "### 1."
   ]
  },
  {
   "cell_type": "code",
   "execution_count": null,
   "id": "10fdf51f-cde2-485f-a3ad-bdb24518d087",
   "metadata": {},
   "outputs": [],
   "source": []
  },
  {
   "cell_type": "code",
   "execution_count": null,
   "id": "53841a14-0a40-49d5-b533-b73a7b0cda2a",
   "metadata": {},
   "outputs": [],
   "source": []
  },
  {
   "cell_type": "markdown",
   "id": "b752f67a-bb07-4da6-8df3-f68b3b8ba417",
   "metadata": {
    "tags": []
   },
   "source": [
    "### 2."
   ]
  },
  {
   "cell_type": "code",
   "execution_count": null,
   "id": "0897025f-2a67-47c4-af82-62571320df05",
   "metadata": {},
   "outputs": [],
   "source": []
  },
  {
   "cell_type": "code",
   "execution_count": null,
   "id": "34bc2b57-d812-4202-9af4-e3cf353be943",
   "metadata": {},
   "outputs": [],
   "source": []
  },
  {
   "cell_type": "markdown",
   "id": "b867477e-694f-48ef-b620-73da123485ae",
   "metadata": {},
   "source": [
    "## iv. Regression time !"
   ]
  },
  {
   "cell_type": "markdown",
   "id": "c2abdafe-6282-40ce-a064-aecb325808e0",
   "metadata": {
    "tags": []
   },
   "source": [
    "### 1."
   ]
  },
  {
   "cell_type": "code",
   "execution_count": null,
   "id": "ebce076a-42ef-4800-950e-4eceb40730e7",
   "metadata": {},
   "outputs": [],
   "source": []
  },
  {
   "cell_type": "code",
   "execution_count": null,
   "id": "39227395-8163-445a-a704-4524aeee4991",
   "metadata": {},
   "outputs": [],
   "source": []
  },
  {
   "cell_type": "markdown",
   "id": "d222e046-3be4-49f7-ade2-0ca411cd9033",
   "metadata": {
    "tags": []
   },
   "source": [
    "### 2."
   ]
  },
  {
   "cell_type": "code",
   "execution_count": null,
   "id": "01a84072-07aa-40e1-b153-b1f5684f4a38",
   "metadata": {},
   "outputs": [],
   "source": []
  },
  {
   "cell_type": "code",
   "execution_count": null,
   "id": "d748c1ec-0e61-4fbe-b82c-b2146eebcef5",
   "metadata": {},
   "outputs": [],
   "source": []
  },
  {
   "cell_type": "markdown",
   "id": "611398b0-9eed-4117-b3f6-b003426e5c96",
   "metadata": {},
   "source": [
    "# III. Conclusions"
   ]
  },
  {
   "cell_type": "code",
   "execution_count": null,
   "id": "277c278a-78c2-47e1-9d1b-afb9f77ca49a",
   "metadata": {},
   "outputs": [],
   "source": []
  },
  {
   "cell_type": "code",
   "execution_count": null,
   "id": "56773003-7d70-407f-bda4-21257e33f3e0",
   "metadata": {},
   "outputs": [],
   "source": []
  },
  {
   "cell_type": "code",
   "execution_count": null,
   "id": "19b71e35-ac9f-4634-abe1-a765158bd571",
   "metadata": {},
   "outputs": [],
   "source": []
  }
 ],
 "metadata": {
  "kernelspec": {
   "display_name": "Python 3 (ipykernel)",
   "language": "python",
   "name": "python3"
  },
  "language_info": {
   "codemirror_mode": {
    "name": "ipython",
    "version": 3
   },
   "file_extension": ".py",
   "mimetype": "text/x-python",
   "name": "python",
   "nbconvert_exporter": "python",
   "pygments_lexer": "ipython3",
   "version": "3.9.13"
  }
 },
 "nbformat": 4,
 "nbformat_minor": 5
}
