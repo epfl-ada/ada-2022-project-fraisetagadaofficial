{
 "cells": [
  {
   "cell_type": "code",
   "execution_count": 1,
   "id": "1c131df5-0cac-4985-ae04-4de6daf11a7f",
   "metadata": {},
   "outputs": [],
   "source": [
    "import pandas as pd\n",
    "import matplotlib.pyplot as plt\n",
    "import os\n",
    "import os.path as op\n",
    "import pickle\n",
    "import numpy as np\n",
    "import seaborn as sns\n",
    "from datetime import date\n",
    "from scipy import stats\n",
    "from pandas_profiling import ProfileReport"
   ]
  },
  {
   "cell_type": "code",
   "execution_count": 2,
   "id": "277e6fb6-c6ce-4a83-a5fe-490c8b7033b2",
   "metadata": {},
   "outputs": [],
   "source": [
    "DATA = op.join(os.getcwd(), \"Dataset\")"
   ]
  },
  {
   "cell_type": "code",
   "execution_count": 3,
   "id": "399ee730-af65-4e9e-bc55-4246b50a87c3",
   "metadata": {},
   "outputs": [],
   "source": [
    "# Importing the data frames from the preprocessed (containing english channels) files\n",
    "df_channels_en    = pd.read_csv(op.join(DATA,\"df_channels_en.tsv.gz\"), sep=\"\\t\", index_col=\"channel\")\n",
    "df_num_comments   = pd.read_csv(op.join(DATA,\"num_comments.tsv.gz\"),sep=\"\\t\")\n",
    "df_timeseries     = pd.read_csv(op.join(DATA,\"df_timeseries_en.tsv.gz\"),sep=\"\\t\")\n",
    "df_metadata       = pd.read_parquet(op.join(DATA, \"df_metadata_feather.parquet.gzip\"), engine=\"fastparquet\")"
   ]
  },
  {
   "cell_type": "markdown",
   "id": "a3fa4e5e",
   "metadata": {},
   "source": [
    "# Looking at the data, and what can we do with it ?\n",
    "\n",
    "In this section, we look at multiple aspects of the data : what each data frame looks like and each feature's type, missing data, distributions and correlations between some features from each data frame. We also try to see whether some of the features can be transformed or discretized, and whether new ones can be created.\n",
    "\n",
    "## Looking at the individual data frames and features\n",
    "\n",
    "### 1. channels_en"
   ]
  },
  {
   "cell_type": "code",
   "execution_count": 4,
   "id": "eaa5e691",
   "metadata": {},
   "outputs": [
    {
     "data": {
      "text/html": [
       "<div>\n",
       "<style scoped>\n",
       "    .dataframe tbody tr th:only-of-type {\n",
       "        vertical-align: middle;\n",
       "    }\n",
       "\n",
       "    .dataframe tbody tr th {\n",
       "        vertical-align: top;\n",
       "    }\n",
       "\n",
       "    .dataframe thead th {\n",
       "        text-align: right;\n",
       "    }\n",
       "</style>\n",
       "<table border=\"1\" class=\"dataframe\">\n",
       "  <thead>\n",
       "    <tr style=\"text-align: right;\">\n",
       "      <th></th>\n",
       "      <th>category_cc</th>\n",
       "      <th>join_date</th>\n",
       "      <th>name_cc</th>\n",
       "      <th>subscribers_cc</th>\n",
       "      <th>videos_cc</th>\n",
       "      <th>subscriber_rank_sb</th>\n",
       "      <th>weights</th>\n",
       "    </tr>\n",
       "    <tr>\n",
       "      <th>channel</th>\n",
       "      <th></th>\n",
       "      <th></th>\n",
       "      <th></th>\n",
       "      <th></th>\n",
       "      <th></th>\n",
       "      <th></th>\n",
       "      <th></th>\n",
       "    </tr>\n",
       "  </thead>\n",
       "  <tbody>\n",
       "    <tr>\n",
       "      <th>UC-lHJZR3Gqxm24_Vd_AJ5Yw</th>\n",
       "      <td>Gaming</td>\n",
       "      <td>2010-04-29</td>\n",
       "      <td>PewDiePie</td>\n",
       "      <td>101000000</td>\n",
       "      <td>3956</td>\n",
       "      <td>3.0</td>\n",
       "      <td>2.087</td>\n",
       "    </tr>\n",
       "    <tr>\n",
       "      <th>UCbCmjCuTUZos6Inko4u57UQ</th>\n",
       "      <td>Education</td>\n",
       "      <td>2006-09-01</td>\n",
       "      <td>Cocomelon - Nursery ...</td>\n",
       "      <td>60100000</td>\n",
       "      <td>458</td>\n",
       "      <td>7.0</td>\n",
       "      <td>2.087</td>\n",
       "    </tr>\n",
       "    <tr>\n",
       "      <th>UCpEhnqL0y41EpW2TvWAHD7Q</th>\n",
       "      <td>Entertainment</td>\n",
       "      <td>2006-09-20</td>\n",
       "      <td>SET India</td>\n",
       "      <td>56018869</td>\n",
       "      <td>32661</td>\n",
       "      <td>8.0</td>\n",
       "      <td>2.087</td>\n",
       "    </tr>\n",
       "    <tr>\n",
       "      <th>UC295-Dw_tDNtZXFeAPAW6Aw</th>\n",
       "      <td>Howto &amp; Style</td>\n",
       "      <td>2016-11-15</td>\n",
       "      <td>5-Minute Crafts</td>\n",
       "      <td>60600000</td>\n",
       "      <td>3591</td>\n",
       "      <td>9.0</td>\n",
       "      <td>2.087</td>\n",
       "    </tr>\n",
       "    <tr>\n",
       "      <th>UCJ5v_MCY6GNUBTO8-D3XoAg</th>\n",
       "      <td>Sports</td>\n",
       "      <td>2007-05-11</td>\n",
       "      <td>WWE</td>\n",
       "      <td>48400000</td>\n",
       "      <td>43421</td>\n",
       "      <td>11.0</td>\n",
       "      <td>2.087</td>\n",
       "    </tr>\n",
       "  </tbody>\n",
       "</table>\n",
       "</div>"
      ],
      "text/plain": [
       "                            category_cc   join_date                  name_cc  \\\n",
       "channel                                                                        \n",
       "UC-lHJZR3Gqxm24_Vd_AJ5Yw         Gaming  2010-04-29                PewDiePie   \n",
       "UCbCmjCuTUZos6Inko4u57UQ      Education  2006-09-01  Cocomelon - Nursery ...   \n",
       "UCpEhnqL0y41EpW2TvWAHD7Q  Entertainment  2006-09-20                SET India   \n",
       "UC295-Dw_tDNtZXFeAPAW6Aw  Howto & Style  2016-11-15          5-Minute Crafts   \n",
       "UCJ5v_MCY6GNUBTO8-D3XoAg         Sports  2007-05-11                      WWE   \n",
       "\n",
       "                          subscribers_cc  videos_cc  subscriber_rank_sb  \\\n",
       "channel                                                                   \n",
       "UC-lHJZR3Gqxm24_Vd_AJ5Yw       101000000       3956                 3.0   \n",
       "UCbCmjCuTUZos6Inko4u57UQ        60100000        458                 7.0   \n",
       "UCpEhnqL0y41EpW2TvWAHD7Q        56018869      32661                 8.0   \n",
       "UC295-Dw_tDNtZXFeAPAW6Aw        60600000       3591                 9.0   \n",
       "UCJ5v_MCY6GNUBTO8-D3XoAg        48400000      43421                11.0   \n",
       "\n",
       "                          weights  \n",
       "channel                            \n",
       "UC-lHJZR3Gqxm24_Vd_AJ5Yw    2.087  \n",
       "UCbCmjCuTUZos6Inko4u57UQ    2.087  \n",
       "UCpEhnqL0y41EpW2TvWAHD7Q    2.087  \n",
       "UC295-Dw_tDNtZXFeAPAW6Aw    2.087  \n",
       "UCJ5v_MCY6GNUBTO8-D3XoAg    2.087  "
      ]
     },
     "execution_count": 4,
     "metadata": {},
     "output_type": "execute_result"
    }
   ],
   "source": [
    "df_channels_en.head()"
   ]
  },
  {
   "cell_type": "code",
   "execution_count": 5,
   "id": "b04866f4",
   "metadata": {},
   "outputs": [
    {
     "data": {
      "text/plain": [
       "category_cc            object\n",
       "join_date              object\n",
       "name_cc                object\n",
       "subscribers_cc          int64\n",
       "videos_cc               int64\n",
       "subscriber_rank_sb    float64\n",
       "weights               float64\n",
       "dtype: object"
      ]
     },
     "execution_count": 5,
     "metadata": {},
     "output_type": "execute_result"
    }
   ],
   "source": [
    "df_channels_en.dtypes"
   ]
  },
  {
   "cell_type": "markdown",
   "id": "00c4ca79",
   "metadata": {},
   "source": [
    "This data frame contains information relative to channels, which each have a unique id (stored in the index of the data frame), and are categorized by their, from left to right : \n",
    "- category of the channel, can be \"Gaming\", \"Education\", \"Sports\" etc...\n",
    "- join date in the format yyyy-mm-dd, this format might be a problem when trying to compare different dates, but this will be dealt with later\n",
    "- name of the channel\n",
    "- subscriber number\n",
    "- video number\n",
    "- subscriber rank : we saw that some channels are missing (for example, the #1 channel) and that this value is of type float, which can be converted to type int as they are whole numbers\n",
    "- weights, the derivation of which is detailed in the [paper corresponding to the data](https://arxiv.org/abs/2012.10378)"
   ]
  },
  {
   "cell_type": "code",
   "execution_count": 6,
   "id": "2846f3fd",
   "metadata": {},
   "outputs": [
    {
     "name": "stdout",
     "output_type": "stream",
     "text": [
      "The number of rows in the data frame is 136470 and the number of unique ids contained in it is 136470. \n",
      "This means that all rows contain data for a specific channel, and that this dataframe contains data of 136470 channels.\n"
     ]
    }
   ],
   "source": [
    "print(\"The number of rows in the data frame is \" + str(len(df_channels_en)) + \n",
    "      \" and the number of unique ids contained in it is \" + str(len(df_channels_en.index.unique())) + \".\", \"\\n\"\n",
    "      \"This means that all rows contain data for a specific channel, and that this dataframe contains data of \" + \n",
    "      str(len(df_channels_en)) + \" channels.\")"
   ]
  },
  {
   "cell_type": "markdown",
   "id": "9644ebc8",
   "metadata": {},
   "source": [
    "### 2. num_comments"
   ]
  },
  {
   "cell_type": "code",
   "execution_count": 7,
   "id": "05849dd3",
   "metadata": {},
   "outputs": [
    {
     "data": {
      "text/html": [
       "<div>\n",
       "<style scoped>\n",
       "    .dataframe tbody tr th:only-of-type {\n",
       "        vertical-align: middle;\n",
       "    }\n",
       "\n",
       "    .dataframe tbody tr th {\n",
       "        vertical-align: top;\n",
       "    }\n",
       "\n",
       "    .dataframe thead th {\n",
       "        text-align: right;\n",
       "    }\n",
       "</style>\n",
       "<table border=\"1\" class=\"dataframe\">\n",
       "  <thead>\n",
       "    <tr style=\"text-align: right;\">\n",
       "      <th></th>\n",
       "      <th>display_id</th>\n",
       "      <th>num_comms</th>\n",
       "    </tr>\n",
       "  </thead>\n",
       "  <tbody>\n",
       "    <tr>\n",
       "      <th>0</th>\n",
       "      <td>SBqSc91Hn9g</td>\n",
       "      <td>0.0</td>\n",
       "    </tr>\n",
       "    <tr>\n",
       "      <th>1</th>\n",
       "      <td>UuugEl86ESY</td>\n",
       "      <td>0.0</td>\n",
       "    </tr>\n",
       "    <tr>\n",
       "      <th>2</th>\n",
       "      <td>oB4c-yvnbjs</td>\n",
       "      <td>48.0</td>\n",
       "    </tr>\n",
       "    <tr>\n",
       "      <th>3</th>\n",
       "      <td>ZaV-gTCMV8E</td>\n",
       "      <td>6.0</td>\n",
       "    </tr>\n",
       "    <tr>\n",
       "      <th>4</th>\n",
       "      <td>cGvL7AvMfM0</td>\n",
       "      <td>5.0</td>\n",
       "    </tr>\n",
       "  </tbody>\n",
       "</table>\n",
       "</div>"
      ],
      "text/plain": [
       "    display_id  num_comms\n",
       "0  SBqSc91Hn9g        0.0\n",
       "1  UuugEl86ESY        0.0\n",
       "2  oB4c-yvnbjs       48.0\n",
       "3  ZaV-gTCMV8E        6.0\n",
       "4  cGvL7AvMfM0        5.0"
      ]
     },
     "execution_count": 7,
     "metadata": {},
     "output_type": "execute_result"
    }
   ],
   "source": [
    "df_num_comments.head()"
   ]
  },
  {
   "cell_type": "code",
   "execution_count": 8,
   "id": "4199b4d9",
   "metadata": {},
   "outputs": [
    {
     "data": {
      "text/plain": [
       "display_id     object\n",
       "num_comms     float64\n",
       "dtype: object"
      ]
     },
     "execution_count": 8,
     "metadata": {},
     "output_type": "execute_result"
    }
   ],
   "source": [
    "df_num_comments.dtypes"
   ]
  },
  {
   "cell_type": "markdown",
   "id": "b585516e",
   "metadata": {},
   "source": [
    "This data frame contains some comment information for each video. From left to right the features are :\n",
    "- the video id \n",
    "- the number of comments, this could be converted to the int type, due to the fact that the number of comments is a whole number"
   ]
  },
  {
   "cell_type": "code",
   "execution_count": 9,
   "id": "439bb22a",
   "metadata": {},
   "outputs": [
    {
     "name": "stdout",
     "output_type": "stream",
     "text": [
      "The number of rows of the data frame is 72924794 and the number of unique ids contained in it is 72924794. \n",
      "This means that all rows contain data for a specific comment, and that this dataframe contains data of 72924794 comments.\n"
     ]
    }
   ],
   "source": [
    "print(\"The number of rows of the data frame is \" + str(len(df_num_comments)) + \n",
    "      \" and the number of unique ids contained in it is \" + str(len(df_num_comments[\"display_id\"].unique())) + \".\", \"\\n\"  \n",
    "      \"This means that all rows contain data for a specific comment, and that this dataframe contains data of \" + \n",
    "      str(len(df_num_comments)) + \" comments.\")"
   ]
  },
  {
   "cell_type": "markdown",
   "id": "4855c8bc",
   "metadata": {},
   "source": [
    "### 3. timeseries "
   ]
  },
  {
   "cell_type": "code",
   "execution_count": 10,
   "id": "2a91aa03",
   "metadata": {},
   "outputs": [
    {
     "data": {
      "text/html": [
       "<div>\n",
       "<style scoped>\n",
       "    .dataframe tbody tr th:only-of-type {\n",
       "        vertical-align: middle;\n",
       "    }\n",
       "\n",
       "    .dataframe tbody tr th {\n",
       "        vertical-align: top;\n",
       "    }\n",
       "\n",
       "    .dataframe thead th {\n",
       "        text-align: right;\n",
       "    }\n",
       "</style>\n",
       "<table border=\"1\" class=\"dataframe\">\n",
       "  <thead>\n",
       "    <tr style=\"text-align: right;\">\n",
       "      <th></th>\n",
       "      <th>channel</th>\n",
       "      <th>category</th>\n",
       "      <th>datetime</th>\n",
       "      <th>views</th>\n",
       "      <th>delta_views</th>\n",
       "      <th>subs</th>\n",
       "      <th>delta_subs</th>\n",
       "      <th>videos</th>\n",
       "      <th>delta_videos</th>\n",
       "      <th>activity</th>\n",
       "    </tr>\n",
       "  </thead>\n",
       "  <tbody>\n",
       "    <tr>\n",
       "      <th>0</th>\n",
       "      <td>UCBJuEqXfXTdcPSbGO9qqn1g</td>\n",
       "      <td>Film and Animation</td>\n",
       "      <td>2017-07-03 00:00:00</td>\n",
       "      <td>2.024946e+05</td>\n",
       "      <td>0.000000</td>\n",
       "      <td>650.222222</td>\n",
       "      <td>0.000000</td>\n",
       "      <td>5</td>\n",
       "      <td>0</td>\n",
       "      <td>3</td>\n",
       "    </tr>\n",
       "    <tr>\n",
       "      <th>1</th>\n",
       "      <td>UCBJuEqXfXTdcPSbGO9qqn1g</td>\n",
       "      <td>Film and Animation</td>\n",
       "      <td>2017-07-10 00:00:00</td>\n",
       "      <td>3.940857e+05</td>\n",
       "      <td>191591.111111</td>\n",
       "      <td>1046.000000</td>\n",
       "      <td>395.777778</td>\n",
       "      <td>6</td>\n",
       "      <td>1</td>\n",
       "      <td>1</td>\n",
       "    </tr>\n",
       "    <tr>\n",
       "      <th>2</th>\n",
       "      <td>UCBJuEqXfXTdcPSbGO9qqn1g</td>\n",
       "      <td>Film and Animation</td>\n",
       "      <td>2017-07-17 00:00:00</td>\n",
       "      <td>8.353938e+05</td>\n",
       "      <td>441308.083333</td>\n",
       "      <td>1501.500000</td>\n",
       "      <td>455.500000</td>\n",
       "      <td>6</td>\n",
       "      <td>0</td>\n",
       "      <td>1</td>\n",
       "    </tr>\n",
       "    <tr>\n",
       "      <th>3</th>\n",
       "      <td>UCBJuEqXfXTdcPSbGO9qqn1g</td>\n",
       "      <td>Film and Animation</td>\n",
       "      <td>2017-07-24 00:00:00</td>\n",
       "      <td>1.104577e+06</td>\n",
       "      <td>269183.250000</td>\n",
       "      <td>1750.000000</td>\n",
       "      <td>248.500000</td>\n",
       "      <td>6</td>\n",
       "      <td>0</td>\n",
       "      <td>0</td>\n",
       "    </tr>\n",
       "    <tr>\n",
       "      <th>4</th>\n",
       "      <td>UCBJuEqXfXTdcPSbGO9qqn1g</td>\n",
       "      <td>Film and Animation</td>\n",
       "      <td>2017-07-31 00:00:00</td>\n",
       "      <td>1.284406e+06</td>\n",
       "      <td>179828.600000</td>\n",
       "      <td>2008.300000</td>\n",
       "      <td>258.300000</td>\n",
       "      <td>6</td>\n",
       "      <td>0</td>\n",
       "      <td>0</td>\n",
       "    </tr>\n",
       "  </tbody>\n",
       "</table>\n",
       "</div>"
      ],
      "text/plain": [
       "                    channel            category             datetime  \\\n",
       "0  UCBJuEqXfXTdcPSbGO9qqn1g  Film and Animation  2017-07-03 00:00:00   \n",
       "1  UCBJuEqXfXTdcPSbGO9qqn1g  Film and Animation  2017-07-10 00:00:00   \n",
       "2  UCBJuEqXfXTdcPSbGO9qqn1g  Film and Animation  2017-07-17 00:00:00   \n",
       "3  UCBJuEqXfXTdcPSbGO9qqn1g  Film and Animation  2017-07-24 00:00:00   \n",
       "4  UCBJuEqXfXTdcPSbGO9qqn1g  Film and Animation  2017-07-31 00:00:00   \n",
       "\n",
       "          views    delta_views         subs  delta_subs  videos  delta_videos  \\\n",
       "0  2.024946e+05       0.000000   650.222222    0.000000       5             0   \n",
       "1  3.940857e+05  191591.111111  1046.000000  395.777778       6             1   \n",
       "2  8.353938e+05  441308.083333  1501.500000  455.500000       6             0   \n",
       "3  1.104577e+06  269183.250000  1750.000000  248.500000       6             0   \n",
       "4  1.284406e+06  179828.600000  2008.300000  258.300000       6             0   \n",
       "\n",
       "   activity  \n",
       "0         3  \n",
       "1         1  \n",
       "2         1  \n",
       "3         0  \n",
       "4         0  "
      ]
     },
     "execution_count": 10,
     "metadata": {},
     "output_type": "execute_result"
    }
   ],
   "source": [
    "df_timeseries.head()"
   ]
  },
  {
   "cell_type": "code",
   "execution_count": 11,
   "id": "5e891d28",
   "metadata": {},
   "outputs": [
    {
     "data": {
      "text/plain": [
       "channel          object\n",
       "category         object\n",
       "datetime         object\n",
       "views           float64\n",
       "delta_views     float64\n",
       "subs            float64\n",
       "delta_subs      float64\n",
       "videos            int64\n",
       "delta_videos      int64\n",
       "activity          int64\n",
       "dtype: object"
      ]
     },
     "execution_count": 11,
     "metadata": {},
     "output_type": "execute_result"
    }
   ],
   "source": [
    "df_timeseries.dtypes"
   ]
  },
  {
   "cell_type": "markdown",
   "id": "ed95533a",
   "metadata": {},
   "source": [
    "The data frame contains information about channels over time. For each channel, multiple features were recorded at different time points. From left to right, the features are : \n",
    "- the channel id\n",
    "- the category of the channel\n",
    "- the date and time of the recording\n",
    "- the total number of views of the channel at the current time point\n",
    "- the number of gained views during the week preceding the current timepoint\n",
    "- the number of subscribers at the current time point\n",
    "- the number of gained subscribers during the week preceding the current timepoint\n",
    "- the total number of the channel at the current time point\n",
    "- the difference between the number of videos at the current time point and the number of videos a week before\n",
    "- the number of published videos during a 15-day period preceding the current timepoint\n",
    "\n",
    "We can see that some of these values (views, delta_views, subs and delta_subs) are not whole numbers even though they should be. This will be dealt with later."
   ]
  },
  {
   "cell_type": "code",
   "execution_count": 12,
   "id": "e3bd6bb8",
   "metadata": {},
   "outputs": [
    {
     "name": "stdout",
     "output_type": "stream",
     "text": [
      "The number of rows of the data frame is 18872499 and the number of unique channel ids contained in it is 133516. \n",
      "This means that this dataframe contains data of 133516 unique channels for a total of 18872499 recordings.\n"
     ]
    }
   ],
   "source": [
    "print(\"The number of rows of the data frame is \" + str(len(df_timeseries)) + \n",
    "      \" and the number of unique channel ids contained in it is \" + str(len(df_timeseries[\"channel\"].unique())) + \".\", \"\\n\"\n",
    "      \"This means that this dataframe contains data of \" + str(len(df_timeseries[\"channel\"].unique())) + \n",
    "      \" unique channels for a total of \" + str(len(df_timeseries)) + \" recordings.\")"
   ]
  },
  {
   "cell_type": "markdown",
   "id": "adabeefb",
   "metadata": {},
   "source": [
    "### 4. metadata"
   ]
  },
  {
   "cell_type": "code",
   "execution_count": 13,
   "id": "fba2f439",
   "metadata": {},
   "outputs": [
    {
     "data": {
      "text/html": [
       "<div>\n",
       "<style scoped>\n",
       "    .dataframe tbody tr th:only-of-type {\n",
       "        vertical-align: middle;\n",
       "    }\n",
       "\n",
       "    .dataframe tbody tr th {\n",
       "        vertical-align: top;\n",
       "    }\n",
       "\n",
       "    .dataframe thead th {\n",
       "        text-align: right;\n",
       "    }\n",
       "</style>\n",
       "<table border=\"1\" class=\"dataframe\">\n",
       "  <thead>\n",
       "    <tr style=\"text-align: right;\">\n",
       "      <th></th>\n",
       "      <th>categories</th>\n",
       "      <th>channel_id</th>\n",
       "      <th>dislike_count</th>\n",
       "      <th>display_id</th>\n",
       "      <th>duration</th>\n",
       "      <th>like_count</th>\n",
       "      <th>upload_date</th>\n",
       "      <th>view_count</th>\n",
       "    </tr>\n",
       "  </thead>\n",
       "  <tbody>\n",
       "    <tr>\n",
       "      <th>0</th>\n",
       "      <td>Film &amp; Animation</td>\n",
       "      <td>UCzWrhkg9eK5I8Bm3HfV-unA</td>\n",
       "      <td>1.0</td>\n",
       "      <td>SBqSc91Hn9g</td>\n",
       "      <td>1159</td>\n",
       "      <td>8.0</td>\n",
       "      <td>2016-09-28</td>\n",
       "      <td>1057.0</td>\n",
       "    </tr>\n",
       "    <tr>\n",
       "      <th>1</th>\n",
       "      <td>Film &amp; Animation</td>\n",
       "      <td>UCzWrhkg9eK5I8Bm3HfV-unA</td>\n",
       "      <td>1.0</td>\n",
       "      <td>UuugEl86ESY</td>\n",
       "      <td>2681</td>\n",
       "      <td>23.0</td>\n",
       "      <td>2016-09-28</td>\n",
       "      <td>12894.0</td>\n",
       "    </tr>\n",
       "    <tr>\n",
       "      <th>2</th>\n",
       "      <td>Film &amp; Animation</td>\n",
       "      <td>UCzWrhkg9eK5I8Bm3HfV-unA</td>\n",
       "      <td>779.0</td>\n",
       "      <td>oB4c-yvnbjs</td>\n",
       "      <td>1394</td>\n",
       "      <td>1607.0</td>\n",
       "      <td>2016-09-28</td>\n",
       "      <td>1800602.0</td>\n",
       "    </tr>\n",
       "    <tr>\n",
       "      <th>3</th>\n",
       "      <td>Film &amp; Animation</td>\n",
       "      <td>UCzWrhkg9eK5I8Bm3HfV-unA</td>\n",
       "      <td>24.0</td>\n",
       "      <td>ZaV-gTCMV8E</td>\n",
       "      <td>5064</td>\n",
       "      <td>227.0</td>\n",
       "      <td>2016-09-28</td>\n",
       "      <td>57640.0</td>\n",
       "    </tr>\n",
       "    <tr>\n",
       "      <th>4</th>\n",
       "      <td>Film &amp; Animation</td>\n",
       "      <td>UCzWrhkg9eK5I8Bm3HfV-unA</td>\n",
       "      <td>13.0</td>\n",
       "      <td>cGvL7AvMfM0</td>\n",
       "      <td>3554</td>\n",
       "      <td>105.0</td>\n",
       "      <td>2016-09-28</td>\n",
       "      <td>86368.0</td>\n",
       "    </tr>\n",
       "  </tbody>\n",
       "</table>\n",
       "</div>"
      ],
      "text/plain": [
       "         categories                channel_id  dislike_count   display_id  \\\n",
       "0  Film & Animation  UCzWrhkg9eK5I8Bm3HfV-unA            1.0  SBqSc91Hn9g   \n",
       "1  Film & Animation  UCzWrhkg9eK5I8Bm3HfV-unA            1.0  UuugEl86ESY   \n",
       "2  Film & Animation  UCzWrhkg9eK5I8Bm3HfV-unA          779.0  oB4c-yvnbjs   \n",
       "3  Film & Animation  UCzWrhkg9eK5I8Bm3HfV-unA           24.0  ZaV-gTCMV8E   \n",
       "4  Film & Animation  UCzWrhkg9eK5I8Bm3HfV-unA           13.0  cGvL7AvMfM0   \n",
       "\n",
       "   duration  like_count upload_date  view_count  \n",
       "0      1159         8.0  2016-09-28      1057.0  \n",
       "1      2681        23.0  2016-09-28     12894.0  \n",
       "2      1394      1607.0  2016-09-28   1800602.0  \n",
       "3      5064       227.0  2016-09-28     57640.0  \n",
       "4      3554       105.0  2016-09-28     86368.0  "
      ]
     },
     "execution_count": 13,
     "metadata": {},
     "output_type": "execute_result"
    }
   ],
   "source": [
    "df_metadata.head()"
   ]
  },
  {
   "cell_type": "code",
   "execution_count": 14,
   "id": "bb58c2c8",
   "metadata": {},
   "outputs": [
    {
     "data": {
      "text/plain": [
       "categories               object\n",
       "channel_id               object\n",
       "dislike_count           float64\n",
       "display_id               object\n",
       "duration                  int64\n",
       "like_count              float64\n",
       "upload_date      datetime64[ns]\n",
       "view_count              float64\n",
       "dtype: object"
      ]
     },
     "execution_count": 14,
     "metadata": {},
     "output_type": "execute_result"
    }
   ],
   "source": [
    "df_metadata.dtypes"
   ]
  },
  {
   "cell_type": "markdown",
   "id": "9f8488d6",
   "metadata": {},
   "source": [
    "This data frame contains metadata from videos. From left to right, the features are : \n",
    "- the category of the video\n",
    "- the id od the channel that published it\n",
    "- the video's dislike count\n",
    "- the video's id\n",
    "- the video duration\n",
    "- the video's like count\n",
    "- the upload date in the format yyyy-mm-dd and of data type datetime64[ns], this format might be a problem when trying to compare different dates, but this will be dealt with later\n",
    "- the view count\n",
    "\n",
    "Again, some of the features are represented in the float data type, although they should be whole numbers and this will again be dealt with when necessary later. In this case however, we cannot directly see that some of them actually are now whole numbers."
   ]
  },
  {
   "cell_type": "code",
   "execution_count": 15,
   "id": "1b6dd925",
   "metadata": {},
   "outputs": [
    {
     "name": "stdout",
     "output_type": "stream",
     "text": [
      "The number of rows of the data frame is 72924794 and the number of unique channel ids contained in it is 136470. \n",
      "This means that this dataframe contains video metadata of 133516 unique channels for a total of 72924794 videos.\n"
     ]
    }
   ],
   "source": [
    "print(\"The number of rows of the data frame is \" + str(len(df_metadata)) + \n",
    "      \" and the number of unique channel ids contained in it is \" + str(len(df_metadata[\"channel_id\"].unique())) + \".\", \"\\n\"\n",
    "      \"This means that this dataframe contains video metadata of \" + str(len(df_timeseries[\"channel\"].unique())) + \n",
    "      \" unique channels for a total of \" + str(len(df_metadata)) + \" videos.\")"
   ]
  },
  {
   "cell_type": "markdown",
   "id": "a80e9770",
   "metadata": {},
   "source": [
    "## Handling missing data\n",
    "\n",
    "In the following subsection we look at missing data for each of the imported data files, and propose a way to deal with them.\n",
    "\n",
    "### 1. channels_en"
   ]
  },
  {
   "cell_type": "code",
   "execution_count": 16,
   "id": "89a8844c-85cd-4169-b900-abc126a10722",
   "metadata": {},
   "outputs": [
    {
     "name": "stdout",
     "output_type": "stream",
     "text": [
      "Number of rows with missing values of category_cc : 128\n",
      "Number of rows with missing values of join_date : 1\n",
      "Number of rows with missing values of name_cc : 10\n",
      "Number of rows with missing values of subscribers_cc : 0\n",
      "Number of rows with missing values of videos_cc : 0\n",
      "Number of rows with missing values of subscriber_rank_sb : 0\n",
      "Number of rows with missing values of weights : 0\n"
     ]
    }
   ],
   "source": [
    "for colname in df_channels_en.columns :\n",
    "    print(\"Number of rows with missing values of \" + colname + \" : \" + str(len(df_channels_en[df_channels_en[colname].isnull()])))"
   ]
  },
  {
   "cell_type": "markdown",
   "id": "c7e329d7",
   "metadata": {},
   "source": [
    "Here, three of the columns have missing values : \"category\", \"join_date\" and \"name_cc\". A quick fix for the \"category\" and \"name_cc\" columns is to replace missing values with the \"Unknown\" label :"
   ]
  },
  {
   "cell_type": "code",
   "execution_count": 17,
   "id": "3ab1945c",
   "metadata": {},
   "outputs": [
    {
     "data": {
      "text/html": [
       "<div>\n",
       "<style scoped>\n",
       "    .dataframe tbody tr th:only-of-type {\n",
       "        vertical-align: middle;\n",
       "    }\n",
       "\n",
       "    .dataframe tbody tr th {\n",
       "        vertical-align: top;\n",
       "    }\n",
       "\n",
       "    .dataframe thead th {\n",
       "        text-align: right;\n",
       "    }\n",
       "</style>\n",
       "<table border=\"1\" class=\"dataframe\">\n",
       "  <thead>\n",
       "    <tr style=\"text-align: right;\">\n",
       "      <th></th>\n",
       "      <th>category_cc</th>\n",
       "      <th>join_date</th>\n",
       "      <th>name_cc</th>\n",
       "      <th>subscribers_cc</th>\n",
       "      <th>videos_cc</th>\n",
       "      <th>subscriber_rank_sb</th>\n",
       "      <th>weights</th>\n",
       "    </tr>\n",
       "    <tr>\n",
       "      <th>channel</th>\n",
       "      <th></th>\n",
       "      <th></th>\n",
       "      <th></th>\n",
       "      <th></th>\n",
       "      <th></th>\n",
       "      <th></th>\n",
       "      <th></th>\n",
       "    </tr>\n",
       "  </thead>\n",
       "  <tbody>\n",
       "    <tr>\n",
       "      <th>UCa_4DcdTB9QfK0LY9-7qWuQ</th>\n",
       "      <td>Unknown</td>\n",
       "      <td>2009-05-12</td>\n",
       "      <td>AbbaVEVO</td>\n",
       "      <td>995000</td>\n",
       "      <td>36</td>\n",
       "      <td>17265.0</td>\n",
       "      <td>2.8200</td>\n",
       "    </tr>\n",
       "    <tr>\n",
       "      <th>UCVOftvvuyipcn7102TUFsSQ</th>\n",
       "      <td>Unknown</td>\n",
       "      <td>2012-12-23</td>\n",
       "      <td>Baka Oppai</td>\n",
       "      <td>760128</td>\n",
       "      <td>27</td>\n",
       "      <td>21172.0</td>\n",
       "      <td>2.9225</td>\n",
       "    </tr>\n",
       "    <tr>\n",
       "      <th>UCqH2YMSzMaGN92Vc3VkhWnQ</th>\n",
       "      <td>Unknown</td>\n",
       "      <td>2009-06-05</td>\n",
       "      <td>Sony Pictures Home E...</td>\n",
       "      <td>770000</td>\n",
       "      <td>6561</td>\n",
       "      <td>22799.0</td>\n",
       "      <td>2.9595</td>\n",
       "    </tr>\n",
       "    <tr>\n",
       "      <th>UCnzCV_PxVZ-hsOrTy2NGxJw</th>\n",
       "      <td>Unknown</td>\n",
       "      <td>2009-10-15</td>\n",
       "      <td>EuropeVEVO</td>\n",
       "      <td>654000</td>\n",
       "      <td>19</td>\n",
       "      <td>27450.0</td>\n",
       "      <td>2.9825</td>\n",
       "    </tr>\n",
       "    <tr>\n",
       "      <th>UCSydRCmlHx6na0zWscgAk9w</th>\n",
       "      <td>Unknown</td>\n",
       "      <td>2006-04-25</td>\n",
       "      <td>Warner Movies On Dem...</td>\n",
       "      <td>619000</td>\n",
       "      <td>582</td>\n",
       "      <td>28343.0</td>\n",
       "      <td>3.0095</td>\n",
       "    </tr>\n",
       "  </tbody>\n",
       "</table>\n",
       "</div>"
      ],
      "text/plain": [
       "                         category_cc   join_date                  name_cc  \\\n",
       "channel                                                                     \n",
       "UCa_4DcdTB9QfK0LY9-7qWuQ     Unknown  2009-05-12                 AbbaVEVO   \n",
       "UCVOftvvuyipcn7102TUFsSQ     Unknown  2012-12-23               Baka Oppai   \n",
       "UCqH2YMSzMaGN92Vc3VkhWnQ     Unknown  2009-06-05  Sony Pictures Home E...   \n",
       "UCnzCV_PxVZ-hsOrTy2NGxJw     Unknown  2009-10-15               EuropeVEVO   \n",
       "UCSydRCmlHx6na0zWscgAk9w     Unknown  2006-04-25  Warner Movies On Dem...   \n",
       "\n",
       "                          subscribers_cc  videos_cc  subscriber_rank_sb  \\\n",
       "channel                                                                   \n",
       "UCa_4DcdTB9QfK0LY9-7qWuQ          995000         36             17265.0   \n",
       "UCVOftvvuyipcn7102TUFsSQ          760128         27             21172.0   \n",
       "UCqH2YMSzMaGN92Vc3VkhWnQ          770000       6561             22799.0   \n",
       "UCnzCV_PxVZ-hsOrTy2NGxJw          654000         19             27450.0   \n",
       "UCSydRCmlHx6na0zWscgAk9w          619000        582             28343.0   \n",
       "\n",
       "                          weights  \n",
       "channel                            \n",
       "UCa_4DcdTB9QfK0LY9-7qWuQ   2.8200  \n",
       "UCVOftvvuyipcn7102TUFsSQ   2.9225  \n",
       "UCqH2YMSzMaGN92Vc3VkhWnQ   2.9595  \n",
       "UCnzCV_PxVZ-hsOrTy2NGxJw   2.9825  \n",
       "UCSydRCmlHx6na0zWscgAk9w   3.0095  "
      ]
     },
     "execution_count": 17,
     "metadata": {},
     "output_type": "execute_result"
    }
   ],
   "source": [
    "df_channels_en = df_channels_en.fillna({\"category_cc\": \"Unknown\"})\n",
    "df_channels_en = df_channels_en.fillna({\"name_cc\": \"Unknown\"})\n",
    "df_channels_en[df_channels_en[\"category_cc\"] == \"Unknown\"].head()"
   ]
  },
  {
   "cell_type": "code",
   "execution_count": 18,
   "id": "505f47a2",
   "metadata": {},
   "outputs": [
    {
     "data": {
      "text/html": [
       "<div>\n",
       "<style scoped>\n",
       "    .dataframe tbody tr th:only-of-type {\n",
       "        vertical-align: middle;\n",
       "    }\n",
       "\n",
       "    .dataframe tbody tr th {\n",
       "        vertical-align: top;\n",
       "    }\n",
       "\n",
       "    .dataframe thead th {\n",
       "        text-align: right;\n",
       "    }\n",
       "</style>\n",
       "<table border=\"1\" class=\"dataframe\">\n",
       "  <thead>\n",
       "    <tr style=\"text-align: right;\">\n",
       "      <th></th>\n",
       "      <th>category_cc</th>\n",
       "      <th>join_date</th>\n",
       "      <th>name_cc</th>\n",
       "      <th>subscribers_cc</th>\n",
       "      <th>videos_cc</th>\n",
       "      <th>subscriber_rank_sb</th>\n",
       "      <th>weights</th>\n",
       "    </tr>\n",
       "    <tr>\n",
       "      <th>channel</th>\n",
       "      <th></th>\n",
       "      <th></th>\n",
       "      <th></th>\n",
       "      <th></th>\n",
       "      <th></th>\n",
       "      <th></th>\n",
       "      <th></th>\n",
       "    </tr>\n",
       "  </thead>\n",
       "  <tbody>\n",
       "    <tr>\n",
       "      <th>UCMzbrcOG-edOxonhLbsOD4Q</th>\n",
       "      <td>Entertainment</td>\n",
       "      <td>2014-01-01</td>\n",
       "      <td>Unknown</td>\n",
       "      <td>112543</td>\n",
       "      <td>118</td>\n",
       "      <td>140756.0</td>\n",
       "      <td>5.3190</td>\n",
       "    </tr>\n",
       "    <tr>\n",
       "      <th>UC24EknjfMDJhoKpDQKjuT9A</th>\n",
       "      <td>Gaming</td>\n",
       "      <td>2012-06-12</td>\n",
       "      <td>Unknown</td>\n",
       "      <td>103000</td>\n",
       "      <td>598</td>\n",
       "      <td>148300.0</td>\n",
       "      <td>4.4190</td>\n",
       "    </tr>\n",
       "    <tr>\n",
       "      <th>UCInBv6ByaxgOXxfddyC7B3g</th>\n",
       "      <td>Entertainment</td>\n",
       "      <td>2015-07-30</td>\n",
       "      <td>Unknown</td>\n",
       "      <td>105000</td>\n",
       "      <td>32</td>\n",
       "      <td>155045.0</td>\n",
       "      <td>5.5035</td>\n",
       "    </tr>\n",
       "    <tr>\n",
       "      <th>UCmOiT9ZnSvLZ1XMBFjGiNmQ</th>\n",
       "      <td>Entertainment</td>\n",
       "      <td>2016-07-09</td>\n",
       "      <td>Unknown</td>\n",
       "      <td>55100</td>\n",
       "      <td>26</td>\n",
       "      <td>249430.0</td>\n",
       "      <td>7.0805</td>\n",
       "    </tr>\n",
       "    <tr>\n",
       "      <th>UCJIYgIBaQt0YcGO73VCLPyg</th>\n",
       "      <td>Gaming</td>\n",
       "      <td>2015-02-01</td>\n",
       "      <td>Unknown</td>\n",
       "      <td>57000</td>\n",
       "      <td>180</td>\n",
       "      <td>266879.0</td>\n",
       "      <td>6.1480</td>\n",
       "    </tr>\n",
       "  </tbody>\n",
       "</table>\n",
       "</div>"
      ],
      "text/plain": [
       "                            category_cc   join_date  name_cc  subscribers_cc  \\\n",
       "channel                                                                        \n",
       "UCMzbrcOG-edOxonhLbsOD4Q  Entertainment  2014-01-01  Unknown          112543   \n",
       "UC24EknjfMDJhoKpDQKjuT9A         Gaming  2012-06-12  Unknown          103000   \n",
       "UCInBv6ByaxgOXxfddyC7B3g  Entertainment  2015-07-30  Unknown          105000   \n",
       "UCmOiT9ZnSvLZ1XMBFjGiNmQ  Entertainment  2016-07-09  Unknown           55100   \n",
       "UCJIYgIBaQt0YcGO73VCLPyg         Gaming  2015-02-01  Unknown           57000   \n",
       "\n",
       "                          videos_cc  subscriber_rank_sb  weights  \n",
       "channel                                                           \n",
       "UCMzbrcOG-edOxonhLbsOD4Q        118            140756.0   5.3190  \n",
       "UC24EknjfMDJhoKpDQKjuT9A        598            148300.0   4.4190  \n",
       "UCInBv6ByaxgOXxfddyC7B3g         32            155045.0   5.5035  \n",
       "UCmOiT9ZnSvLZ1XMBFjGiNmQ         26            249430.0   7.0805  \n",
       "UCJIYgIBaQt0YcGO73VCLPyg        180            266879.0   6.1480  "
      ]
     },
     "execution_count": 18,
     "metadata": {},
     "output_type": "execute_result"
    }
   ],
   "source": [
    "df_channels_en[df_channels_en[\"name_cc\"] == \"Unknown\"].head()"
   ]
  },
  {
   "cell_type": "code",
   "execution_count": 19,
   "id": "dd3d599e",
   "metadata": {},
   "outputs": [
    {
     "name": "stdout",
     "output_type": "stream",
     "text": [
      "Number of rows with missing values of category_cc : 0\n",
      "Number of rows with missing values of name_cc : 0\n"
     ]
    }
   ],
   "source": [
    "for colname in [\"category_cc\", \"name_cc\"] :\n",
    "    print(\"Number of rows with missing values of \" + colname + \" : \" + str(len(df_channels_en[df_channels_en[colname].isnull()])))"
   ]
  },
  {
   "cell_type": "markdown",
   "id": "35daf5a2",
   "metadata": {},
   "source": [
    "We can see from these previous 3 cells that the missing values have been correctly replaced. However, we can't really do anything reasonable for the missing join_date value, so the row containing it will be removed if needed, using the following template :"
   ]
  },
  {
   "cell_type": "code",
   "execution_count": 20,
   "id": "808cffd9",
   "metadata": {},
   "outputs": [],
   "source": [
    "# template for dropping only rows for some categories :\n",
    "# the list has to contain the column names that we are interested in \n",
    "curr_df = df_channels_en.dropna(subset = [\"join_date\"])"
   ]
  },
  {
   "cell_type": "markdown",
   "id": "c89661d9",
   "metadata": {},
   "source": [
    "### 2. num_comments"
   ]
  },
  {
   "cell_type": "code",
   "execution_count": 20,
   "id": "39041d0c",
   "metadata": {},
   "outputs": [
    {
     "name": "stdout",
     "output_type": "stream",
     "text": [
      "Number of rows with missing values of display_id : 0\n",
      "Number of rows with missing values of num_comms : 0\n"
     ]
    }
   ],
   "source": [
    "for colname in df_num_comments.columns :\n",
    "    print(\"Number of rows with missing values of \" + colname + \" : \" + str(len(df_num_comments[df_num_comments[colname].isnull()])))"
   ]
  },
  {
   "cell_type": "markdown",
   "id": "dd6aa7ae",
   "metadata": {},
   "source": [
    "No missing data here, so nothing to do here."
   ]
  },
  {
   "cell_type": "markdown",
   "id": "84a13375",
   "metadata": {},
   "source": [
    "### 3. timeseries"
   ]
  },
  {
   "cell_type": "code",
   "execution_count": 21,
   "id": "36991481",
   "metadata": {},
   "outputs": [
    {
     "name": "stdout",
     "output_type": "stream",
     "text": [
      "Number of rows with missing values of channel : 0\n",
      "Number of rows with missing values of category : 20584\n",
      "Number of rows with missing values of datetime : 0\n",
      "Number of rows with missing values of views : 0\n",
      "Number of rows with missing values of delta_views : 0\n",
      "Number of rows with missing values of subs : 0\n",
      "Number of rows with missing values of delta_subs : 0\n",
      "Number of rows with missing values of videos : 0\n",
      "Number of rows with missing values of delta_videos : 0\n",
      "Number of rows with missing values of activity : 0\n"
     ]
    }
   ],
   "source": [
    "for colname in df_timeseries.columns :\n",
    "    print(\"Number of rows with missing values of \" + colname + \" : \" + str(len(df_timeseries[df_timeseries[colname].isnull()])))"
   ]
  },
  {
   "cell_type": "markdown",
   "id": "3a55f495",
   "metadata": {},
   "source": [
    "Here, only one of the columns has missing values, and it is the \"category\" one. A quick fix to this problem is to replace these missing category values by the label \"Unknown\" :"
   ]
  },
  {
   "cell_type": "code",
   "execution_count": 22,
   "id": "8d64ca96",
   "metadata": {},
   "outputs": [
    {
     "data": {
      "text/html": [
       "<div>\n",
       "<style scoped>\n",
       "    .dataframe tbody tr th:only-of-type {\n",
       "        vertical-align: middle;\n",
       "    }\n",
       "\n",
       "    .dataframe tbody tr th {\n",
       "        vertical-align: top;\n",
       "    }\n",
       "\n",
       "    .dataframe thead th {\n",
       "        text-align: right;\n",
       "    }\n",
       "</style>\n",
       "<table border=\"1\" class=\"dataframe\">\n",
       "  <thead>\n",
       "    <tr style=\"text-align: right;\">\n",
       "      <th></th>\n",
       "      <th>channel</th>\n",
       "      <th>category</th>\n",
       "      <th>datetime</th>\n",
       "      <th>views</th>\n",
       "      <th>delta_views</th>\n",
       "      <th>subs</th>\n",
       "      <th>delta_subs</th>\n",
       "      <th>videos</th>\n",
       "      <th>delta_videos</th>\n",
       "      <th>activity</th>\n",
       "    </tr>\n",
       "  </thead>\n",
       "  <tbody>\n",
       "    <tr>\n",
       "      <th>442874</th>\n",
       "      <td>UChxLXL97wslyFHJiBHgt86w</td>\n",
       "      <td>Unknown</td>\n",
       "      <td>2016-06-20 00:00:00</td>\n",
       "      <td>203924.000</td>\n",
       "      <td>0.000</td>\n",
       "      <td>4178.000</td>\n",
       "      <td>0.00</td>\n",
       "      <td>164</td>\n",
       "      <td>0</td>\n",
       "      <td>4</td>\n",
       "    </tr>\n",
       "    <tr>\n",
       "      <th>442875</th>\n",
       "      <td>UChxLXL97wslyFHJiBHgt86w</td>\n",
       "      <td>Unknown</td>\n",
       "      <td>2016-06-27 00:00:00</td>\n",
       "      <td>207172.875</td>\n",
       "      <td>3248.875</td>\n",
       "      <td>4110.625</td>\n",
       "      <td>0.00</td>\n",
       "      <td>165</td>\n",
       "      <td>1</td>\n",
       "      <td>5</td>\n",
       "    </tr>\n",
       "    <tr>\n",
       "      <th>442876</th>\n",
       "      <td>UChxLXL97wslyFHJiBHgt86w</td>\n",
       "      <td>Unknown</td>\n",
       "      <td>2016-07-04 00:00:00</td>\n",
       "      <td>210295.000</td>\n",
       "      <td>3122.125</td>\n",
       "      <td>4107.000</td>\n",
       "      <td>0.00</td>\n",
       "      <td>167</td>\n",
       "      <td>2</td>\n",
       "      <td>4</td>\n",
       "    </tr>\n",
       "    <tr>\n",
       "      <th>442877</th>\n",
       "      <td>UChxLXL97wslyFHJiBHgt86w</td>\n",
       "      <td>Unknown</td>\n",
       "      <td>2016-07-11 00:00:00</td>\n",
       "      <td>212589.750</td>\n",
       "      <td>2294.750</td>\n",
       "      <td>4110.250</td>\n",
       "      <td>3.25</td>\n",
       "      <td>167</td>\n",
       "      <td>0</td>\n",
       "      <td>2</td>\n",
       "    </tr>\n",
       "    <tr>\n",
       "      <th>442878</th>\n",
       "      <td>UChxLXL97wslyFHJiBHgt86w</td>\n",
       "      <td>Unknown</td>\n",
       "      <td>2016-07-18 00:00:00</td>\n",
       "      <td>215376.500</td>\n",
       "      <td>2786.750</td>\n",
       "      <td>4124.500</td>\n",
       "      <td>14.25</td>\n",
       "      <td>170</td>\n",
       "      <td>3</td>\n",
       "      <td>3</td>\n",
       "    </tr>\n",
       "  </tbody>\n",
       "</table>\n",
       "</div>"
      ],
      "text/plain": [
       "                         channel category             datetime       views  \\\n",
       "442874  UChxLXL97wslyFHJiBHgt86w  Unknown  2016-06-20 00:00:00  203924.000   \n",
       "442875  UChxLXL97wslyFHJiBHgt86w  Unknown  2016-06-27 00:00:00  207172.875   \n",
       "442876  UChxLXL97wslyFHJiBHgt86w  Unknown  2016-07-04 00:00:00  210295.000   \n",
       "442877  UChxLXL97wslyFHJiBHgt86w  Unknown  2016-07-11 00:00:00  212589.750   \n",
       "442878  UChxLXL97wslyFHJiBHgt86w  Unknown  2016-07-18 00:00:00  215376.500   \n",
       "\n",
       "        delta_views      subs  delta_subs  videos  delta_videos  activity  \n",
       "442874        0.000  4178.000        0.00     164             0         4  \n",
       "442875     3248.875  4110.625        0.00     165             1         5  \n",
       "442876     3122.125  4107.000        0.00     167             2         4  \n",
       "442877     2294.750  4110.250        3.25     167             0         2  \n",
       "442878     2786.750  4124.500       14.25     170             3         3  "
      ]
     },
     "execution_count": 22,
     "metadata": {},
     "output_type": "execute_result"
    }
   ],
   "source": [
    "df_timeseries = df_timeseries.fillna({\"category\": \"Unknown\"})\n",
    "df_timeseries[df_timeseries[\"category\"] == \"Unknown\"].head()"
   ]
  },
  {
   "cell_type": "code",
   "execution_count": 23,
   "id": "6bcdad1a",
   "metadata": {},
   "outputs": [
    {
     "name": "stdout",
     "output_type": "stream",
     "text": [
      "Number of rows with missing values of category : 0\n"
     ]
    }
   ],
   "source": [
    "for colname in [\"category\"] :\n",
    "    print(\"Number of rows with missing values of \" + colname + \" : \" + str(len(df_timeseries[df_timeseries[colname].isnull()])))"
   ]
  },
  {
   "cell_type": "markdown",
   "id": "dca38f64",
   "metadata": {},
   "source": [
    "We can see that all rows with missing values for the \"category\" column have correctly been filled. "
   ]
  },
  {
   "cell_type": "markdown",
   "id": "046552f2",
   "metadata": {},
   "source": [
    "### 4. metadata"
   ]
  },
  {
   "cell_type": "code",
   "execution_count": 24,
   "id": "23a67f40",
   "metadata": {},
   "outputs": [
    {
     "name": "stdout",
     "output_type": "stream",
     "text": [
      "Number of rows with missing values of categories : 0\n",
      "Number of rows with missing values of channel_id : 0\n",
      "Number of rows with missing values of dislike_count : 1631458\n",
      "Number of rows with missing values of display_id : 0\n",
      "Number of rows with missing values of duration : 0\n",
      "Number of rows with missing values of like_count : 1631458\n",
      "Number of rows with missing values of upload_date : 0\n",
      "Number of rows with missing values of view_count : 654\n"
     ]
    }
   ],
   "source": [
    "for colname in df_metadata.columns :\n",
    "    print(\"Number of rows with missing values of \" + colname + \" : \" + str(len(df_metadata[df_metadata[colname].isnull()])))"
   ]
  },
  {
   "cell_type": "code",
   "execution_count": 25,
   "id": "47e33902",
   "metadata": {},
   "outputs": [
    {
     "name": "stdout",
     "output_type": "stream",
     "text": [
      "Number of dropped rows when accounting for all columns: 1631458\n"
     ]
    }
   ],
   "source": [
    "print(\"Number of dropped rows when accounting for all columns: \" + str(len(df_metadata) - len(df_metadata.dropna())))"
   ]
  },
  {
   "cell_type": "markdown",
   "id": "1baab061",
   "metadata": {},
   "source": [
    "The above result shows that there are a total of 1.63 million rows missing both the like and dislike counts, 654 of which also is missing the view count. As there is no reasonable way to fill these columns with \"fake\" values, we will take them out of the data frame if needed, using the same template as was proposed for channels_en :"
   ]
  },
  {
   "cell_type": "code",
   "execution_count": 27,
   "id": "f7ec0839",
   "metadata": {},
   "outputs": [],
   "source": [
    "# template for dropping only rows for some categories :\n",
    "# the list has to contain the column names that we are interested in \n",
    "curr_df = df_metadata.dropna(subset = [\"like_count\", \"dislike_count\", \"view_count\"])"
   ]
  },
  {
   "cell_type": "markdown",
   "id": "461e017e-9f40-462e-bb64-88cfeb776dda",
   "metadata": {},
   "source": [
    "## Distributions, transformation of features and creation of new ones \n",
    "\n",
    "In the following subsection we look at the different distributions of some of the features of the data. We also try to transform some of the features (by discretizing them, so that they can for example be used later for methods requiring categorical variables like random forests and decision trees), and enrich the data by creating new ones. \n",
    "\n",
    "### 1. Subscriber number of the channels\n",
    "\n",
    "#### 1.1 Log-log graph and equal width bins"
   ]
  },
  {
   "cell_type": "code",
   "execution_count": 38,
   "id": "ed7c9260-2692-4e43-a2cc-ecde2f495cae",
   "metadata": {
    "scrolled": true
   },
   "outputs": [
    {
     "data": {
      "text/plain": [
       "Text(0.5, 1.0, 'Subscribers distribution over channels')"
      ]
     },
     "execution_count": 38,
     "metadata": {},
     "output_type": "execute_result"
    },
    {
     "data": {
      "image/png": "[encoded data removed]",
      "text/plain": [
       "<Figure size 432x288 with 1 Axes>"
      ]
     },
     "metadata": {
      "needs_background": "light"
     },
     "output_type": "display_data"
    }
   ],
   "source": [
    "df_channels_en[\"subscribers_cc\"].plot(kind=\"hist\", bins=10000, loglog=True)\n",
    "plt.xlabel(\"Subscriber count\")\n",
    "plt.ylabel(\"Channel count\")\n",
    "plt.title(\"Subscribers distribution over channels\")"
   ]
  },
  {
   "cell_type": "markdown",
   "id": "af875ba2",
   "metadata": {},
   "source": [
    "#### 1.2 Discretizing the number of subscribers"
   ]
  },
  {
   "cell_type": "markdown",
   "id": "7fe908dd",
   "metadata": {},
   "source": [
    "We can also try to class these channel followings (i.e. discretize the number of subscribers) into \"tiny\", \"very small\", \"big\", \"very big\" and \"mega\" channels, where the intervals are :\n",
    "- [0,500] for \"tiny\" followings, the subscribers of which could more or less be only people that the creator himself knows\n",
    "- [500, 10'000] for \"very small\" followings, the creator cannot know all of his subscribers, but still has a small following \n",
    "- [10'000, 50'000] for \"small\" followings, these channels are starting to have a bigger following, but are still not by any means well known\n",
    "- [50'000, 1'000'000] for \"big\" channels that have a big following and could be very well known across small regions, or by people that are scattered all around the world, but not by everyone\n",
    "- [1'000'000, $\\infty$) for \"mega\" followings, the channels with which could be known in entire countries or by tons of people all around the world\n",
    "  \n",
    "This could be interesting in our case as we do not really care about the precise number of subscribers, but rather the order of magnitude of each channel's following.  \n",
    "These ranges were chosen arbitrarily, but were still carefully chosen to respect some characteristics denoted by their respective descriptions. The \"mega\" label was inspired by [work](https://koreascience.kr/article/JAKO202124553353172.page) from LE, T. V. et al. who also chose 1 million subscribers as a threshold to define them. The chosen ranges might change in the future depending on their future use and salience. "
   ]
  },
  {
   "cell_type": "code",
   "execution_count": 27,
   "id": "bfe3762a",
   "metadata": {},
   "outputs": [
    {
     "data": {
      "text/html": [
       "<div>\n",
       "<style scoped>\n",
       "    .dataframe tbody tr th:only-of-type {\n",
       "        vertical-align: middle;\n",
       "    }\n",
       "\n",
       "    .dataframe tbody tr th {\n",
       "        vertical-align: top;\n",
       "    }\n",
       "\n",
       "    .dataframe thead th {\n",
       "        text-align: right;\n",
       "    }\n",
       "</style>\n",
       "<table border=\"1\" class=\"dataframe\">\n",
       "  <thead>\n",
       "    <tr style=\"text-align: right;\">\n",
       "      <th></th>\n",
       "      <th>category_cc</th>\n",
       "      <th>join_date</th>\n",
       "      <th>name_cc</th>\n",
       "      <th>subscribers_cc</th>\n",
       "      <th>videos_cc</th>\n",
       "      <th>subscriber_rank_sb</th>\n",
       "      <th>weights</th>\n",
       "      <th>binned_subs</th>\n",
       "    </tr>\n",
       "    <tr>\n",
       "      <th>channel</th>\n",
       "      <th></th>\n",
       "      <th></th>\n",
       "      <th></th>\n",
       "      <th></th>\n",
       "      <th></th>\n",
       "      <th></th>\n",
       "      <th></th>\n",
       "      <th></th>\n",
       "    </tr>\n",
       "  </thead>\n",
       "  <tbody>\n",
       "    <tr>\n",
       "      <th>UC-lHJZR3Gqxm24_Vd_AJ5Yw</th>\n",
       "      <td>Gaming</td>\n",
       "      <td>2010-04-29</td>\n",
       "      <td>PewDiePie</td>\n",
       "      <td>101000000</td>\n",
       "      <td>3956</td>\n",
       "      <td>3.0</td>\n",
       "      <td>2.087</td>\n",
       "      <td>[1000000.0, 100000000000.0)</td>\n",
       "    </tr>\n",
       "    <tr>\n",
       "      <th>UCbCmjCuTUZos6Inko4u57UQ</th>\n",
       "      <td>Education</td>\n",
       "      <td>2006-09-01</td>\n",
       "      <td>Cocomelon - Nursery ...</td>\n",
       "      <td>60100000</td>\n",
       "      <td>458</td>\n",
       "      <td>7.0</td>\n",
       "      <td>2.087</td>\n",
       "      <td>[1000000.0, 100000000000.0)</td>\n",
       "    </tr>\n",
       "    <tr>\n",
       "      <th>UCpEhnqL0y41EpW2TvWAHD7Q</th>\n",
       "      <td>Entertainment</td>\n",
       "      <td>2006-09-20</td>\n",
       "      <td>SET India</td>\n",
       "      <td>56018869</td>\n",
       "      <td>32661</td>\n",
       "      <td>8.0</td>\n",
       "      <td>2.087</td>\n",
       "      <td>[1000000.0, 100000000000.0)</td>\n",
       "    </tr>\n",
       "    <tr>\n",
       "      <th>UC295-Dw_tDNtZXFeAPAW6Aw</th>\n",
       "      <td>Howto &amp; Style</td>\n",
       "      <td>2016-11-15</td>\n",
       "      <td>5-Minute Crafts</td>\n",
       "      <td>60600000</td>\n",
       "      <td>3591</td>\n",
       "      <td>9.0</td>\n",
       "      <td>2.087</td>\n",
       "      <td>[1000000.0, 100000000000.0)</td>\n",
       "    </tr>\n",
       "    <tr>\n",
       "      <th>UCJ5v_MCY6GNUBTO8-D3XoAg</th>\n",
       "      <td>Sports</td>\n",
       "      <td>2007-05-11</td>\n",
       "      <td>WWE</td>\n",
       "      <td>48400000</td>\n",
       "      <td>43421</td>\n",
       "      <td>11.0</td>\n",
       "      <td>2.087</td>\n",
       "      <td>[1000000.0, 100000000000.0)</td>\n",
       "    </tr>\n",
       "  </tbody>\n",
       "</table>\n",
       "</div>"
      ],
      "text/plain": [
       "                            category_cc   join_date                  name_cc  \\\n",
       "channel                                                                        \n",
       "UC-lHJZR3Gqxm24_Vd_AJ5Yw         Gaming  2010-04-29                PewDiePie   \n",
       "UCbCmjCuTUZos6Inko4u57UQ      Education  2006-09-01  Cocomelon - Nursery ...   \n",
       "UCpEhnqL0y41EpW2TvWAHD7Q  Entertainment  2006-09-20                SET India   \n",
       "UC295-Dw_tDNtZXFeAPAW6Aw  Howto & Style  2016-11-15          5-Minute Crafts   \n",
       "UCJ5v_MCY6GNUBTO8-D3XoAg         Sports  2007-05-11                      WWE   \n",
       "\n",
       "                          subscribers_cc  videos_cc  subscriber_rank_sb  \\\n",
       "channel                                                                   \n",
       "UC-lHJZR3Gqxm24_Vd_AJ5Yw       101000000       3956                 3.0   \n",
       "UCbCmjCuTUZos6Inko4u57UQ        60100000        458                 7.0   \n",
       "UCpEhnqL0y41EpW2TvWAHD7Q        56018869      32661                 8.0   \n",
       "UC295-Dw_tDNtZXFeAPAW6Aw        60600000       3591                 9.0   \n",
       "UCJ5v_MCY6GNUBTO8-D3XoAg        48400000      43421                11.0   \n",
       "\n",
       "                          weights                  binned_subs  \n",
       "channel                                                         \n",
       "UC-lHJZR3Gqxm24_Vd_AJ5Yw    2.087  [1000000.0, 100000000000.0)  \n",
       "UCbCmjCuTUZos6Inko4u57UQ    2.087  [1000000.0, 100000000000.0)  \n",
       "UCpEhnqL0y41EpW2TvWAHD7Q    2.087  [1000000.0, 100000000000.0)  \n",
       "UC295-Dw_tDNtZXFeAPAW6Aw    2.087  [1000000.0, 100000000000.0)  \n",
       "UCJ5v_MCY6GNUBTO8-D3XoAg    2.087  [1000000.0, 100000000000.0)  "
      ]
     },
     "execution_count": 27,
     "metadata": {},
     "output_type": "execute_result"
    }
   ],
   "source": [
    "df_channels_binned = df_channels_en.copy(deep = True)\n",
    "df_channels_binned[\"binned_subs\"] = pd.cut(x = df_channels_binned[\"subscribers_cc\"], \n",
    "                                           bins = [0, 5e2, 1e4, 5e4, 1e6, 1e11],\n",
    "                                           right = False, include_lowest = True)\n",
    "df_channels_binned.head()"
   ]
  },
  {
   "cell_type": "code",
   "execution_count": 28,
   "id": "4c9a8255",
   "metadata": {},
   "outputs": [],
   "source": [
    "df_channels_binned = df_channels_binned.groupby(by = \"binned_subs\").size()\n",
    "df_channels_binned = pd.DataFrame(df_channels_binned.values.flatten(), index = [\"tiny\", \"very small\", \"small\", \"big\", \"mega\"], columns = [\"channel number\"])"
   ]
  },
  {
   "cell_type": "code",
   "execution_count": 40,
   "id": "7bd976f4",
   "metadata": {},
   "outputs": [
    {
     "data": {
      "image/png": "[encoded data removed]",
      "text/plain": [
       "<Figure size 432x288 with 1 Axes>"
      ]
     },
     "metadata": {
      "needs_background": "light"
     },
     "output_type": "display_data"
    }
   ],
   "source": [
    "df_channels_binned.plot.barh(log = True, legend = None)\n",
    "plt.title(\"Distribution of channels with various following categories\")\n",
    "plt.xlim([1e3, 1e5])\n",
    "plt.xlabel(\"Subscriber count\")\n",
    "plt.ylabel(\"Following category\")\n",
    "plt.show()"
   ]
  },
  {
   "cell_type": "markdown",
   "id": "be9fbb63",
   "metadata": {},
   "source": [
    "#### 1.3 Observations\n",
    "\n",
    "- We can see from these graphs that all channels in the dataset have over 10'000 subscribers, meaning that our analysis will be restricted to channels with at least 10'000 subscribers.\n",
    "- Due to the linear shape of the log-log graph above, we can deduce that the subscribers count comes from a heavy-tailed distribution.\n",
    "- There are less \"mega\" channels than big and small channels, but the difference is only of about one order of magnitude ! This means that although arbitrary, our choice of bins for the discretization is not so bad."
   ]
  },
  {
   "cell_type": "markdown",
   "id": "5f6b2444-7806-448e-b115-3f84cd716729",
   "metadata": {},
   "source": [
    "### 2. Total views per channel, with df_metadata\n",
    "\n",
    "An interesting feature we would like to consider and use is the total amount of views a channel has accumulated across all of its videos. This could be a good measure of how much the channel \"has been seen\" in the past.\n",
    "\n",
    "#### 2.1 Computation of new feature"
   ]
  },
  {
   "cell_type": "code",
   "execution_count": 30,
   "id": "aa1b828a-1ec7-4d6f-bd61-95dedfa63254",
   "metadata": {},
   "outputs": [],
   "source": [
    "total_views_metadata = df_channels_en.merge(df_metadata, left_index=True, right_on=\"channel_id\").groupby(by=[\"channel_id\", \"name_cc\"])[\"view_count\"].sum()"
   ]
  },
  {
   "cell_type": "markdown",
   "id": "0fe6a8c9",
   "metadata": {},
   "source": [
    "#### 2.2 Log-log graph with equal width bins"
   ]
  },
  {
   "cell_type": "code",
   "execution_count": 31,
   "id": "ef427212",
   "metadata": {},
   "outputs": [
    {
     "data": {
      "text/plain": [
       "Text(0.5, 1.0, 'Total views distribution over channels (metadata)')"
      ]
     },
     "execution_count": 31,
     "metadata": {},
     "output_type": "execute_result"
    },
    {
     "data": {
      "image/png": "[encoded data removed]",
      "text/plain": [
       "<Figure size 432x288 with 1 Axes>"
      ]
     },
     "metadata": {
      "needs_background": "light"
     },
     "output_type": "display_data"
    }
   ],
   "source": [
    "total_views_metadata.plot(kind=\"hist\", bins=10000, loglog=True)\n",
    "plt.xlabel(\"Total views\")\n",
    "plt.ylabel(\"Count\")\n",
    "plt.title(\"Total views distribution over channels (metadata)\")"
   ]
  },
  {
   "cell_type": "markdown",
   "id": "8c3a6fef",
   "metadata": {},
   "source": [
    "#### 2.3 Discretization of  the total number of views"
   ]
  },
  {
   "cell_type": "markdown",
   "id": "0cea43fd",
   "metadata": {},
   "source": [
    "Again, it could be interesting to discretize this variable, as the precise number of total views might not be very important and the magnitude would suffice. The proposed classification for the number of total views per channel is : \n",
    "- [0,5000] for a \"tiny\" viewership, where the creator might know all people that have viewed his videos\n",
    "- [5000, 100'000] for a \"very small\" viewership, the creator cannot know all of the people that have seen his videos, but still has a relatively small viewership\n",
    "- [100'000, 500'000] for a \"small\" viewership, these channels are starting to get a relatively big viewership, but are still not by any means well known\n",
    "- [500'000, 10'000'000] for a \"big\" viewership, the channels could have a big following and could be very well known across small regions, or by people that are scattered all around the world, but not by everyone\n",
    "- [10'000'000, $\\infty$) for \"mega\" viewerships, the channels with which could be known in entire countries or by tons of people all around the world\n",
    "\n",
    "These ranges were chosen arbitrarily, but were still carefully chosen to respect some characteristics denoted by their respective descriptions. The idea behind the  bounds is that they correspond to the situation where channels with the corresponding labels defined in 1.2 had published 10 videos which were each seen once by each of their subscribers. The chosen ranges might change in the future depending on their future use and salience. "
   ]
  },
  {
   "cell_type": "code",
   "execution_count": 44,
   "id": "893c6297",
   "metadata": {},
   "outputs": [
    {
     "data": {
      "text/html": [
       "<div>\n",
       "<style scoped>\n",
       "    .dataframe tbody tr th:only-of-type {\n",
       "        vertical-align: middle;\n",
       "    }\n",
       "\n",
       "    .dataframe tbody tr th {\n",
       "        vertical-align: top;\n",
       "    }\n",
       "\n",
       "    .dataframe thead th {\n",
       "        text-align: right;\n",
       "    }\n",
       "</style>\n",
       "<table border=\"1\" class=\"dataframe\">\n",
       "  <thead>\n",
       "    <tr style=\"text-align: right;\">\n",
       "      <th></th>\n",
       "      <th></th>\n",
       "      <th>view_count</th>\n",
       "      <th>binned_views</th>\n",
       "    </tr>\n",
       "    <tr>\n",
       "      <th>channel_id</th>\n",
       "      <th>name_cc</th>\n",
       "      <th></th>\n",
       "      <th></th>\n",
       "    </tr>\n",
       "  </thead>\n",
       "  <tbody>\n",
       "    <tr>\n",
       "      <th>UC--24Q3_ZQeFmgJE-Um5QZQ</th>\n",
       "      <th>Winded Voyage Sailin...</th>\n",
       "      <td>3291383.0</td>\n",
       "      <td>[500000.0, 10000000.0)</td>\n",
       "    </tr>\n",
       "    <tr>\n",
       "      <th>UC--2EbuIuBOGgGqPiJxi3rg</th>\n",
       "      <th>The Night Fury</th>\n",
       "      <td>7999515.0</td>\n",
       "      <td>[500000.0, 10000000.0)</td>\n",
       "    </tr>\n",
       "    <tr>\n",
       "      <th>UC--3c8RqSfAqYBdDjIG3UNA</th>\n",
       "      <th>Red Bull Surfing</th>\n",
       "      <td>63626751.0</td>\n",
       "      <td>[10000000.0, 1000000000000000.0)</td>\n",
       "    </tr>\n",
       "    <tr>\n",
       "      <th>UC--3ozenTzry39-xMqAPQlw</th>\n",
       "      <th>Heidi Joubert</th>\n",
       "      <td>5192527.0</td>\n",
       "      <td>[500000.0, 10000000.0)</td>\n",
       "    </tr>\n",
       "    <tr>\n",
       "      <th>UC--6E6EpybocdaNlPhvK_9A</th>\n",
       "      <th>MR JC</th>\n",
       "      <td>9317278.0</td>\n",
       "      <td>[500000.0, 10000000.0)</td>\n",
       "    </tr>\n",
       "  </tbody>\n",
       "</table>\n",
       "</div>"
      ],
      "text/plain": [
       "                                                  view_count  \\\n",
       "channel_id               name_cc                               \n",
       "UC--24Q3_ZQeFmgJE-Um5QZQ Winded Voyage Sailin...   3291383.0   \n",
       "UC--2EbuIuBOGgGqPiJxi3rg The Night Fury            7999515.0   \n",
       "UC--3c8RqSfAqYBdDjIG3UNA Red Bull Surfing         63626751.0   \n",
       "UC--3ozenTzry39-xMqAPQlw Heidi Joubert             5192527.0   \n",
       "UC--6E6EpybocdaNlPhvK_9A MR JC                     9317278.0   \n",
       "\n",
       "                                                                      binned_views  \n",
       "channel_id               name_cc                                                    \n",
       "UC--24Q3_ZQeFmgJE-Um5QZQ Winded Voyage Sailin...            [500000.0, 10000000.0)  \n",
       "UC--2EbuIuBOGgGqPiJxi3rg The Night Fury                     [500000.0, 10000000.0)  \n",
       "UC--3c8RqSfAqYBdDjIG3UNA Red Bull Surfing         [10000000.0, 1000000000000000.0)  \n",
       "UC--3ozenTzry39-xMqAPQlw Heidi Joubert                      [500000.0, 10000000.0)  \n",
       "UC--6E6EpybocdaNlPhvK_9A MR JC                              [500000.0, 10000000.0)  "
      ]
     },
     "execution_count": 44,
     "metadata": {},
     "output_type": "execute_result"
    }
   ],
   "source": [
    "total_views_binned = pd.DataFrame(total_views_metadata)\n",
    "total_views_binned[\"binned_views\"] = pd.cut(x = total_views_binned[\"view_count\"], bins = [0, 5e3, 1e5, 5e5, 1e7, 1e15], right = False, include_lowest = True)\n",
    "total_views_binned.head()"
   ]
  },
  {
   "cell_type": "code",
   "execution_count": 45,
   "id": "2523e6e2",
   "metadata": {},
   "outputs": [],
   "source": [
    "total_views_binned = total_views_binned.groupby(by = \"binned_views\").size()\n",
    "total_views_binned = pd.DataFrame(total_views_binned.values.flatten(), index = [\"tiny\", \"very small\", \"small\", \"big\", \"mega\"], columns = [\"channel id\"])"
   ]
  },
  {
   "cell_type": "code",
   "execution_count": 46,
   "id": "938f2a0f",
   "metadata": {},
   "outputs": [
    {
     "data": {
      "image/png": "[encoded data removed]",
      "text/plain": [
       "<Figure size 432x288 with 1 Axes>"
      ]
     },
     "metadata": {
      "needs_background": "light"
     },
     "output_type": "display_data"
    }
   ],
   "source": [
    "total_views_binned.plot.barh(log = True, legend = None)\n",
    "plt.title(\"Distribution of channels with various numbers of total views\")\n",
    "plt.xlim([1e2, 1e5])\n",
    "plt.xlabel(\"Count\")\n",
    "plt.ylabel(\"Viewership category\")\n",
    "plt.show()"
   ]
  },
  {
   "cell_type": "markdown",
   "id": "f51de1bf",
   "metadata": {},
   "source": [
    "#### 2.4 Observations\n",
    "- Due to the linear shape of the log-log graph above, we can deduce that the total views count comes from a heavy-tailed distribution.\n",
    "- We can see from these graphs that there are still channels with \"tiny\" and \"very small\" viewerships, even though there are no tiny and very small channels. This could be explained by the fact that some channels might have large followings without it being due to their videos; maybe the creators were already well known on other platforms, and simply created their channel without positing many videos. \n",
    "- Even though the aforementionned viewership categories can be observed, they are still not very prominent. The three biggest categories are the last three, i.e. \"small\", \"big\" and \"mega\", the difference between the three being of about 2 orders of magnitude which is acceptable."
   ]
  },
  {
   "cell_type": "markdown",
   "id": "965634b0-b7f6-4702-823f-cbc651b8036b",
   "metadata": {},
   "source": [
    "### 3. Total views per channel with df_timeseries\n",
    "\n",
    "We actually noticed that we could compute the total number of views in 2 separate ways, the second one being by using the timeseries data, which we do here.\n",
    "\n",
    "#### 3.1 Computation of new feature"
   ]
  },
  {
   "cell_type": "code",
   "execution_count": 47,
   "id": "2ba7e8f9-9a35-4143-be0b-91bf06b0d8aa",
   "metadata": {},
   "outputs": [],
   "source": [
    "total_views = df_channels_en.merge(df_timeseries, left_index=True, right_on=\"channel\").groupby(by=[\"channel\", \"name_cc\"])[\"views\"].max()"
   ]
  },
  {
   "cell_type": "markdown",
   "id": "894ca327",
   "metadata": {},
   "source": [
    "#### 3.2 Log-log graph with equal width bins"
   ]
  },
  {
   "cell_type": "code",
   "execution_count": 50,
   "id": "cdde8a3b-4ba6-452f-a8b5-edaf84739b51",
   "metadata": {},
   "outputs": [
    {
     "data": {
      "text/plain": [
       "Text(0.5, 1.0, 'Total views distribution over channels (timeseries)')"
      ]
     },
     "execution_count": 50,
     "metadata": {},
     "output_type": "execute_result"
    },
    {
     "data": {
      "image/png": "[encoded data removed]",
      "text/plain": [
       "<Figure size 432x288 with 1 Axes>"
      ]
     },
     "metadata": {
      "needs_background": "light"
     },
     "output_type": "display_data"
    }
   ],
   "source": [
    "total_views.plot(kind=\"hist\", bins=10000, loglog=True)\n",
    "plt.xlabel(\"Total views\")\n",
    "plt.ylabel(\"Count\")\n",
    "plt.title(\"Total views distribution over channels (timeseries)\")"
   ]
  },
  {
   "cell_type": "markdown",
   "id": "0d434c3d-fb72-43b0-b6a1-142b7eb682f6",
   "metadata": {},
   "source": [
    "#### 3.3 Realize that total views differ in the two datasets\n",
    "\n",
    "As demonstrated by the following cells of code, we noticed that the computed total views differ depending on which data is used."
   ]
  },
  {
   "cell_type": "code",
   "execution_count": 51,
   "id": "1e9d5f6c-d45e-4c6d-b738-a7d86d3f037b",
   "metadata": {},
   "outputs": [],
   "source": [
    "# concatenate both dataframes\n",
    "both = pd.concat([total_views, total_views_metadata])"
   ]
  },
  {
   "cell_type": "code",
   "execution_count": 53,
   "id": "16fd1ec7-7489-4f94-be35-96b336c011b0",
   "metadata": {},
   "outputs": [
    {
     "data": {
      "text/plain": [
       "channel                   name_cc                \n",
       "UC--24Q3_ZQeFmgJE-Um5QZQ  Winded Voyage Sailin...    4.356804e+06\n",
       "UC--2EbuIuBOGgGqPiJxi3rg  The Night Fury             7.951972e+06\n",
       "UC--3c8RqSfAqYBdDjIG3UNA  Red Bull Surfing           5.798712e+07\n",
       "UC--3ozenTzry39-xMqAPQlw  Heidi Joubert              1.455123e+07\n",
       "UC--6E6EpybocdaNlPhvK_9A  MR JC                      9.166274e+06\n",
       "                                                         ...     \n",
       "UCzztaOtjmaZoiLvWLagq7bg  Def Noodles                2.554022e+07\n",
       "UCzzyt9Z70MBX9RQAFVSNlpQ  CherryGumz Gacha           4.939140e+06\n",
       "UCzzzPMh9fZHxc7gxPRB2LHQ  Elisa Jane Tarot Car...    1.279275e+07\n",
       "UCzzzUN8yvD2LRAnY-lhzyLQ  DropNight                  8.335020e+07\n",
       "UCzzzZ3-icktxbC3j7hkWqRw  Citalia                    1.131340e+07\n",
       "Length: 267032, dtype: float64"
      ]
     },
     "execution_count": 53,
     "metadata": {},
     "output_type": "execute_result"
    }
   ],
   "source": [
    "# keep only the channels for which we have data in both the dataframes\n",
    "both[both.index.duplicated(keep=False)]"
   ]
  },
  {
   "cell_type": "code",
   "execution_count": 54,
   "id": "b4cdb485-b796-475f-9ee4-376978666e83",
   "metadata": {},
   "outputs": [
    {
     "data": {
      "text/plain": [
       "name_cc\n",
       "AH2128    8.671292e+06\n",
       "AH2128    9.049810e+06\n",
       "dtype: float64"
      ]
     },
     "execution_count": 54,
     "metadata": {},
     "output_type": "execute_result"
    }
   ],
   "source": [
    "# look at the values for a specific channel in both dataframes\n",
    "both[both.index.duplicated(keep=False)][\"UCrUsv6k8WEcHVsiN8t1T33A\"]"
   ]
  },
  {
   "cell_type": "markdown",
   "id": "ecb1b97a",
   "metadata": {},
   "source": [
    "We can see that depending on what data is used, the total number of views differs ! This is due to two things :\n",
    "- df_metadata contains videos created between 2005 and 2019, whereas df_timeseries contains videos created between January 2015 and September 2019\n",
    "- Not all channels in df_timeseries have the complete time frame.\n",
    "\n",
    "Therefore, we still have to decide which of the values (or maybe, both) will be used in further analysis."
   ]
  },
  {
   "cell_type": "markdown",
   "id": "5acf7d6e",
   "metadata": {},
   "source": [
    "### 4. Average durations of videos\n",
    "\n",
    "Another metric we can try to compute is the average duration of the videos."
   ]
  },
  {
   "cell_type": "code",
   "execution_count": 61,
   "id": "5698fbe4",
   "metadata": {},
   "outputs": [],
   "source": [
    "avg_durations = df_metadata.groupby(by=[\"channel_id\"])[\"duration\"].mean()"
   ]
  },
  {
   "cell_type": "code",
   "execution_count": 67,
   "id": "012593b7",
   "metadata": {},
   "outputs": [
    {
     "data": {
      "text/plain": [
       "Text(0.5, 1.0, 'Average video duration distribution over channels')"
      ]
     },
     "execution_count": 67,
     "metadata": {},
     "output_type": "execute_result"
    },
    {
     "data": {
      "image/png": "[encoded data removed]",
      "text/plain": [
       "<Figure size 432x288 with 1 Axes>"
      ]
     },
     "metadata": {
      "needs_background": "light"
     },
     "output_type": "display_data"
    }
   ],
   "source": [
    "avg_durations.plot(kind=\"hist\", bins=100)\n",
    "plt.xlabel(\"Average duration\")\n",
    "plt.ylabel(\"Count\")\n",
    "plt.title(\"Average video duration distribution over channels\")"
   ]
  },
  {
   "cell_type": "code",
   "execution_count": 68,
   "id": "e5518ca7",
   "metadata": {},
   "outputs": [
    {
     "data": {
      "text/plain": [
       "Text(0.5, 1.0, 'Average video duration distribution over channels')"
      ]
     },
     "execution_count": 68,
     "metadata": {},
     "output_type": "execute_result"
    },
    {
     "data": {
      "image/png": "[encoded data removed]",
      "text/plain": [
       "<Figure size 432x288 with 1 Axes>"
      ]
     },
     "metadata": {
      "needs_background": "light"
     },
     "output_type": "display_data"
    }
   ],
   "source": [
    "avg_durations.plot(kind=\"hist\", bins=100, loglog=True)\n",
    "plt.xlabel(\"Average duration\")\n",
    "plt.ylabel(\"Count\")\n",
    "plt.title(\"Average video duration distribution over channels\")"
   ]
  },
  {
   "cell_type": "markdown",
   "id": "be51e443",
   "metadata": {},
   "source": [
    "The data again seems heavy-tailed ! We could again try to discretize this variable as was done before, although this doesn't seem quite as interesting (how do we define short, medium, long videos?), or we could also try to log transform the values for further use. "
   ]
  },
  {
   "cell_type": "markdown",
   "id": "6d0b3a29",
   "metadata": {},
   "source": [
    "### 5. Average activity of channels\n",
    "\n",
    "We also try to see whether the average activity of channels could be interesting."
   ]
  },
  {
   "cell_type": "code",
   "execution_count": 64,
   "id": "7667067a",
   "metadata": {},
   "outputs": [],
   "source": [
    "avg_activity = df_timeseries.groupby(by=[\"channel\"])[\"activity\"].mean()"
   ]
  },
  {
   "cell_type": "code",
   "execution_count": 69,
   "id": "b9061b99",
   "metadata": {},
   "outputs": [
    {
     "data": {
      "text/plain": [
       "Text(0.5, 1.0, 'Average activity distribution over channels')"
      ]
     },
     "execution_count": 69,
     "metadata": {},
     "output_type": "execute_result"
    },
    {
     "data": {
      "image/png": "[encoded data removed]",
      "text/plain": [
       "<Figure size 432x288 with 1 Axes>"
      ]
     },
     "metadata": {
      "needs_background": "light"
     },
     "output_type": "display_data"
    }
   ],
   "source": [
    "avg_activity.plot(kind=\"hist\", bins=100)\n",
    "plt.xlabel(\"Average activity\")\n",
    "plt.ylabel(\"Count\")\n",
    "plt.title(\"Average activity distribution over channels\")"
   ]
  },
  {
   "cell_type": "code",
   "execution_count": 70,
   "id": "ffca54d8",
   "metadata": {},
   "outputs": [
    {
     "data": {
      "text/plain": [
       "Text(0.5, 1.0, 'Average activity distribution over channels')"
      ]
     },
     "execution_count": 70,
     "metadata": {},
     "output_type": "execute_result"
    },
    {
     "data": {
      "image/png": "[encoded data removed]",
      "text/plain": [
       "<Figure size 432x288 with 1 Axes>"
      ]
     },
     "metadata": {
      "needs_background": "light"
     },
     "output_type": "display_data"
    }
   ],
   "source": [
    "avg_activity.plot(kind=\"hist\", bins=100, loglog=True)\n",
    "plt.xlabel(\"Average activity\")\n",
    "plt.ylabel(\"Count\")\n",
    "plt.title(\"Average activity distribution over channels\")"
   ]
  },
  {
   "cell_type": "markdown",
   "id": "6fd9d0ea",
   "metadata": {},
   "source": [
    "Again the data looks heavy-tailed ! We could again try to discretize this variable as was done before, although again this doesn't seem quite as interesting (how do we define small, medium, big activity?), or we could also try to log transform the values for further use. "
   ]
  },
  {
   "cell_type": "markdown",
   "id": "405d828a",
   "metadata": {},
   "source": [
    "### 6. Video type distributions \n",
    "\n",
    "Looking at the video type distributions can be interesting for seeing what type of content might have the biggest like count. In general :"
   ]
  },
  {
   "cell_type": "code",
   "execution_count": 78,
   "id": "4707658d",
   "metadata": {},
   "outputs": [
    {
     "data": {
      "text/plain": [
       "categories\n",
       "Unknown                      1522\n",
       "Autos & Vehicles          2256967\n",
       "Comedy                    1172503\n",
       "Education                 3795564\n",
       "Entertainment            12276397\n",
       "Film & Animation          2359736\n",
       "Gaming                   13720303\n",
       "Howto & Style             3968127\n",
       "Movies                          5\n",
       "Music                     8305003\n",
       "News & Politics           8881022\n",
       "Nonprofits & Activism      777449\n",
       "People & Blogs            6910666\n",
       "Pets & Animals             645508\n",
       "Science & Technology      2403004\n",
       "Shows                          41\n",
       "Sports                    4354412\n",
       "Travel & Events           1096565\n",
       "dtype: int64"
      ]
     },
     "execution_count": 78,
     "metadata": {},
     "output_type": "execute_result"
    }
   ],
   "source": [
    "df_metadata.groupby(\"categories\").size().rename(index = {'':'Unknown'})"
   ]
  },
  {
   "cell_type": "markdown",
   "id": "acd31730",
   "metadata": {},
   "source": [
    "Now, for the top channels, the distribution drastically changes :"
   ]
  },
  {
   "cell_type": "code",
   "execution_count": 77,
   "id": "7d356afd",
   "metadata": {},
   "outputs": [
    {
     "data": {
      "text/plain": [
       "categories\n",
       "Autos & Vehicles           1\n",
       "Comedy                    15\n",
       "Education                 13\n",
       "Entertainment             68\n",
       "Film & Animation           7\n",
       "Gaming                     8\n",
       "Howto & Style              3\n",
       "Music                    864\n",
       "News & Politics            2\n",
       "Nonprofits & Activism      1\n",
       "People & Blogs            10\n",
       "Science & Technology       1\n",
       "Sports                     7\n",
       "dtype: int64"
      ]
     },
     "execution_count": 77,
     "metadata": {},
     "output_type": "execute_result"
    }
   ],
   "source": [
    "df_metadata.sort_values(by = \"like_count\", ascending = False)[0:1000].groupby(['categories']).size()"
   ]
  },
  {
   "cell_type": "markdown",
   "id": "0def7415",
   "metadata": {},
   "source": [
    "We can for example see that from the 1000 most liked videos, 864 are of \"Music\" category. "
   ]
  },
  {
   "cell_type": "markdown",
   "id": "aefd1c21",
   "metadata": {},
   "source": [
    "### 7. Small notes on further feature transformations\n",
    "\n",
    "Some additional feature transformations were needed as we wanted to consider some additional features when looking at correlations in the next section. Mainly, this involved transforming non-numeric features into numeric ones so we could use the \".corr\" method for data frames. As these feature transformations were only used in the following subsection, they were left there for now (and are highlighted in bold for better identification!)"
   ]
  },
  {
   "cell_type": "markdown",
   "id": "9f6a04a0",
   "metadata": {},
   "source": [
    "## Correlations\n",
    "\n",
    "In the following subsection we look at the correlation between some of the variables of some of the dataframes that were provided. This was done only for df_channels_en."
   ]
  },
  {
   "cell_type": "code",
   "execution_count": 50,
   "id": "a725f660",
   "metadata": {},
   "outputs": [
    {
     "data": {
      "text/html": [
       "<div>\n",
       "<style scoped>\n",
       "    .dataframe tbody tr th:only-of-type {\n",
       "        vertical-align: middle;\n",
       "    }\n",
       "\n",
       "    .dataframe tbody tr th {\n",
       "        vertical-align: top;\n",
       "    }\n",
       "\n",
       "    .dataframe thead th {\n",
       "        text-align: right;\n",
       "    }\n",
       "</style>\n",
       "<table border=\"1\" class=\"dataframe\">\n",
       "  <thead>\n",
       "    <tr style=\"text-align: right;\">\n",
       "      <th></th>\n",
       "      <th>subscribers_cc</th>\n",
       "      <th>videos_cc</th>\n",
       "      <th>subscriber_rank_sb</th>\n",
       "      <th>weights</th>\n",
       "    </tr>\n",
       "  </thead>\n",
       "  <tbody>\n",
       "    <tr>\n",
       "      <th>subscribers_cc</th>\n",
       "      <td>1.000000</td>\n",
       "      <td>0.086100</td>\n",
       "      <td>-0.241136</td>\n",
       "      <td>-0.172285</td>\n",
       "    </tr>\n",
       "    <tr>\n",
       "      <th>videos_cc</th>\n",
       "      <td>0.086100</td>\n",
       "      <td>1.000000</td>\n",
       "      <td>-0.062582</td>\n",
       "      <td>-0.043246</td>\n",
       "    </tr>\n",
       "    <tr>\n",
       "      <th>subscriber_rank_sb</th>\n",
       "      <td>-0.241136</td>\n",
       "      <td>-0.062582</td>\n",
       "      <td>1.000000</td>\n",
       "      <td>0.738400</td>\n",
       "    </tr>\n",
       "    <tr>\n",
       "      <th>weights</th>\n",
       "      <td>-0.172285</td>\n",
       "      <td>-0.043246</td>\n",
       "      <td>0.738400</td>\n",
       "      <td>1.000000</td>\n",
       "    </tr>\n",
       "  </tbody>\n",
       "</table>\n",
       "</div>"
      ],
      "text/plain": [
       "                    subscribers_cc  videos_cc  subscriber_rank_sb   weights\n",
       "subscribers_cc            1.000000   0.086100           -0.241136 -0.172285\n",
       "videos_cc                 0.086100   1.000000           -0.062582 -0.043246\n",
       "subscriber_rank_sb       -0.241136  -0.062582            1.000000  0.738400\n",
       "weights                  -0.172285  -0.043246            0.738400  1.000000"
      ]
     },
     "execution_count": 50,
     "metadata": {},
     "output_type": "execute_result"
    }
   ],
   "source": [
    "# Here we want to drop all rows with missing values so they aren't used\n",
    "curr_df = df_channels_en.dropna()\n",
    "curr_df.corr(method = \"pearson\")"
   ]
  },
  {
   "cell_type": "markdown",
   "id": "2b78bb57",
   "metadata": {},
   "source": [
    "We can see that the correlations only happen between numerical values. A metric that could be interesting even though not numerical in the data frame is the join date. Joining YouTube earlier could have an impact. Therefore, the following function can be coded so that we can transform the join date in a numerical variable (i.e. the number of days between the reference date and the join date) (**first feature transformation**) :"
   ]
  },
  {
   "cell_type": "code",
   "execution_count": 51,
   "id": "dc9dbe4d",
   "metadata": {},
   "outputs": [],
   "source": [
    "def transform_date(date_tbt, ref_date) :\n",
    "    \"\"\"\n",
    "    Args :\n",
    "        date_tbt :  (str), contains the date we want to transform with format \"year-month-day\"\n",
    "        ref_date :  (str), contains reference date with format \"year-month-day\"\n",
    "        \n",
    "    Returns :\n",
    "        res_str :   (int), number of days between reference data and given date\n",
    "    \"\"\"\n",
    "    if(isinstance(date_tbt, float)) :\n",
    "        print(date_tbt)\n",
    "    ref_date_list = ref_date.split(sep = \"-\")\n",
    "    date_tbt_list = date_tbt.split(sep = \"-\")\n",
    "    return (date(int(date_tbt_list[0]), int(date_tbt_list[1]), int(date_tbt_list[2])) - date(int(ref_date_list[0]), int(ref_date_list[1]), int(ref_date_list[2]))).days"
   ]
  },
  {
   "cell_type": "markdown",
   "id": "795eb71a",
   "metadata": {},
   "source": [
    "As the first data that we have is from the 2005, we will use the 1st of January 2005 as the reference date. We then get :"
   ]
  },
  {
   "cell_type": "code",
   "execution_count": 52,
   "id": "1b94a168",
   "metadata": {
    "scrolled": false
   },
   "outputs": [
    {
     "name": "stderr",
     "output_type": "stream",
     "text": [
      "C:\\Users\\sande\\AppData\\Local\\Temp/ipykernel_5512/985236246.py:2: SettingWithCopyWarning: \n",
      "A value is trying to be set on a copy of a slice from a DataFrame.\n",
      "Try using .loc[row_indexer,col_indexer] = value instead\n",
      "\n",
      "See the caveats in the documentation: https://pandas.pydata.org/pandas-docs/stable/user_guide/indexing.html#returning-a-view-versus-a-copy\n",
      "  curr_df[\"existance_days\"] = [transform_date(date_tbt, ref_date) for date_tbt in curr_df[\"join_date\"].values]\n",
      "C:\\Users\\sande\\anaconda3\\lib\\site-packages\\pandas\\core\\frame.py:4906: SettingWithCopyWarning: \n",
      "A value is trying to be set on a copy of a slice from a DataFrame\n",
      "\n",
      "See the caveats in the documentation: https://pandas.pydata.org/pandas-docs/stable/user_guide/indexing.html#returning-a-view-versus-a-copy\n",
      "  return super().drop(\n"
     ]
    },
    {
     "data": {
      "text/html": [
       "<div>\n",
       "<style scoped>\n",
       "    .dataframe tbody tr th:only-of-type {\n",
       "        vertical-align: middle;\n",
       "    }\n",
       "\n",
       "    .dataframe tbody tr th {\n",
       "        vertical-align: top;\n",
       "    }\n",
       "\n",
       "    .dataframe thead th {\n",
       "        text-align: right;\n",
       "    }\n",
       "</style>\n",
       "<table border=\"1\" class=\"dataframe\">\n",
       "  <thead>\n",
       "    <tr style=\"text-align: right;\">\n",
       "      <th></th>\n",
       "      <th>category_cc</th>\n",
       "      <th>name_cc</th>\n",
       "      <th>subscribers_cc</th>\n",
       "      <th>videos_cc</th>\n",
       "      <th>subscriber_rank_sb</th>\n",
       "      <th>weights</th>\n",
       "      <th>existance_days</th>\n",
       "    </tr>\n",
       "    <tr>\n",
       "      <th>channel</th>\n",
       "      <th></th>\n",
       "      <th></th>\n",
       "      <th></th>\n",
       "      <th></th>\n",
       "      <th></th>\n",
       "      <th></th>\n",
       "      <th></th>\n",
       "    </tr>\n",
       "  </thead>\n",
       "  <tbody>\n",
       "    <tr>\n",
       "      <th>UC-lHJZR3Gqxm24_Vd_AJ5Yw</th>\n",
       "      <td>Gaming</td>\n",
       "      <td>PewDiePie</td>\n",
       "      <td>101000000</td>\n",
       "      <td>3956</td>\n",
       "      <td>3.0</td>\n",
       "      <td>2.0870</td>\n",
       "      <td>1579</td>\n",
       "    </tr>\n",
       "    <tr>\n",
       "      <th>UCbCmjCuTUZos6Inko4u57UQ</th>\n",
       "      <td>Education</td>\n",
       "      <td>Cocomelon - Nursery ...</td>\n",
       "      <td>60100000</td>\n",
       "      <td>458</td>\n",
       "      <td>7.0</td>\n",
       "      <td>2.0870</td>\n",
       "      <td>243</td>\n",
       "    </tr>\n",
       "    <tr>\n",
       "      <th>UCpEhnqL0y41EpW2TvWAHD7Q</th>\n",
       "      <td>Entertainment</td>\n",
       "      <td>SET India</td>\n",
       "      <td>56018869</td>\n",
       "      <td>32661</td>\n",
       "      <td>8.0</td>\n",
       "      <td>2.0870</td>\n",
       "      <td>262</td>\n",
       "    </tr>\n",
       "    <tr>\n",
       "      <th>UC295-Dw_tDNtZXFeAPAW6Aw</th>\n",
       "      <td>Howto &amp; Style</td>\n",
       "      <td>5-Minute Crafts</td>\n",
       "      <td>60600000</td>\n",
       "      <td>3591</td>\n",
       "      <td>9.0</td>\n",
       "      <td>2.0870</td>\n",
       "      <td>3971</td>\n",
       "    </tr>\n",
       "    <tr>\n",
       "      <th>UCJ5v_MCY6GNUBTO8-D3XoAg</th>\n",
       "      <td>Sports</td>\n",
       "      <td>WWE</td>\n",
       "      <td>48400000</td>\n",
       "      <td>43421</td>\n",
       "      <td>11.0</td>\n",
       "      <td>2.0870</td>\n",
       "      <td>495</td>\n",
       "    </tr>\n",
       "    <tr>\n",
       "      <th>...</th>\n",
       "      <td>...</td>\n",
       "      <td>...</td>\n",
       "      <td>...</td>\n",
       "      <td>...</td>\n",
       "      <td>...</td>\n",
       "      <td>...</td>\n",
       "      <td>...</td>\n",
       "    </tr>\n",
       "    <tr>\n",
       "      <th>UCuM-9AajUOwKw6ipOzu2DRQ</th>\n",
       "      <td>Music</td>\n",
       "      <td>GONE.Fludd - Topic</td>\n",
       "      <td>10128</td>\n",
       "      <td>105</td>\n",
       "      <td>1008139.0</td>\n",
       "      <td>53.1435</td>\n",
       "      <td>3931</td>\n",
       "    </tr>\n",
       "    <tr>\n",
       "      <th>UCtW9jp5TH0YrgYpwiRf9t-Q</th>\n",
       "      <td>People &amp; Blogs</td>\n",
       "      <td>saidthestory</td>\n",
       "      <td>10100</td>\n",
       "      <td>352</td>\n",
       "      <td>1008644.0</td>\n",
       "      <td>53.1435</td>\n",
       "      <td>2846</td>\n",
       "    </tr>\n",
       "    <tr>\n",
       "      <th>UCTsxFTIUs8vFDzGccDm6i7Q</th>\n",
       "      <td>Gaming</td>\n",
       "      <td>Omni H</td>\n",
       "      <td>10000</td>\n",
       "      <td>475</td>\n",
       "      <td>1009505.0</td>\n",
       "      <td>53.1435</td>\n",
       "      <td>3414</td>\n",
       "    </tr>\n",
       "    <tr>\n",
       "      <th>UC1HOArgRCMGPjlcmkThERwA</th>\n",
       "      <td>Music</td>\n",
       "      <td>TĀLĀ</td>\n",
       "      <td>10000</td>\n",
       "      <td>15</td>\n",
       "      <td>1025119.0</td>\n",
       "      <td>53.1435</td>\n",
       "      <td>1928</td>\n",
       "    </tr>\n",
       "    <tr>\n",
       "      <th>UCITKvry4fW50iU4FSw9WERQ</th>\n",
       "      <td>People &amp; Blogs</td>\n",
       "      <td>Tangleblog</td>\n",
       "      <td>10000</td>\n",
       "      <td>159</td>\n",
       "      <td>1030844.0</td>\n",
       "      <td>53.1435</td>\n",
       "      <td>314</td>\n",
       "    </tr>\n",
       "  </tbody>\n",
       "</table>\n",
       "<p>136331 rows × 7 columns</p>\n",
       "</div>"
      ],
      "text/plain": [
       "                             category_cc                  name_cc  \\\n",
       "channel                                                             \n",
       "UC-lHJZR3Gqxm24_Vd_AJ5Yw          Gaming                PewDiePie   \n",
       "UCbCmjCuTUZos6Inko4u57UQ       Education  Cocomelon - Nursery ...   \n",
       "UCpEhnqL0y41EpW2TvWAHD7Q   Entertainment                SET India   \n",
       "UC295-Dw_tDNtZXFeAPAW6Aw   Howto & Style          5-Minute Crafts   \n",
       "UCJ5v_MCY6GNUBTO8-D3XoAg          Sports                      WWE   \n",
       "...                                  ...                      ...   \n",
       "UCuM-9AajUOwKw6ipOzu2DRQ           Music       GONE.Fludd - Topic   \n",
       "UCtW9jp5TH0YrgYpwiRf9t-Q  People & Blogs             saidthestory   \n",
       "UCTsxFTIUs8vFDzGccDm6i7Q          Gaming                   Omni H   \n",
       "UC1HOArgRCMGPjlcmkThERwA           Music                     TĀLĀ   \n",
       "UCITKvry4fW50iU4FSw9WERQ  People & Blogs               Tangleblog   \n",
       "\n",
       "                          subscribers_cc  videos_cc  subscriber_rank_sb  \\\n",
       "channel                                                                   \n",
       "UC-lHJZR3Gqxm24_Vd_AJ5Yw       101000000       3956                 3.0   \n",
       "UCbCmjCuTUZos6Inko4u57UQ        60100000        458                 7.0   \n",
       "UCpEhnqL0y41EpW2TvWAHD7Q        56018869      32661                 8.0   \n",
       "UC295-Dw_tDNtZXFeAPAW6Aw        60600000       3591                 9.0   \n",
       "UCJ5v_MCY6GNUBTO8-D3XoAg        48400000      43421                11.0   \n",
       "...                                  ...        ...                 ...   \n",
       "UCuM-9AajUOwKw6ipOzu2DRQ           10128        105           1008139.0   \n",
       "UCtW9jp5TH0YrgYpwiRf9t-Q           10100        352           1008644.0   \n",
       "UCTsxFTIUs8vFDzGccDm6i7Q           10000        475           1009505.0   \n",
       "UC1HOArgRCMGPjlcmkThERwA           10000         15           1025119.0   \n",
       "UCITKvry4fW50iU4FSw9WERQ           10000        159           1030844.0   \n",
       "\n",
       "                          weights  existance_days  \n",
       "channel                                            \n",
       "UC-lHJZR3Gqxm24_Vd_AJ5Yw   2.0870            1579  \n",
       "UCbCmjCuTUZos6Inko4u57UQ   2.0870             243  \n",
       "UCpEhnqL0y41EpW2TvWAHD7Q   2.0870             262  \n",
       "UC295-Dw_tDNtZXFeAPAW6Aw   2.0870            3971  \n",
       "UCJ5v_MCY6GNUBTO8-D3XoAg   2.0870             495  \n",
       "...                           ...             ...  \n",
       "UCuM-9AajUOwKw6ipOzu2DRQ  53.1435            3931  \n",
       "UCtW9jp5TH0YrgYpwiRf9t-Q  53.1435            2846  \n",
       "UCTsxFTIUs8vFDzGccDm6i7Q  53.1435            3414  \n",
       "UC1HOArgRCMGPjlcmkThERwA  53.1435            1928  \n",
       "UCITKvry4fW50iU4FSw9WERQ  53.1435             314  \n",
       "\n",
       "[136331 rows x 7 columns]"
      ]
     },
     "execution_count": 52,
     "metadata": {},
     "output_type": "execute_result"
    }
   ],
   "source": [
    "ref_date = \"2005-1-1\"\n",
    "curr_df[\"existance_days\"] = [transform_date(date_tbt, ref_date) for date_tbt in curr_df[\"join_date\"].values]\n",
    "curr_df.drop(\"join_date\", inplace = True, axis = 1)\n",
    "curr_df"
   ]
  },
  {
   "cell_type": "markdown",
   "id": "2ffddf89",
   "metadata": {},
   "source": [
    "Another interesting feature that could be interesting to include is the channel category. Let's use dummy variables for this (**second feature transformation**) :"
   ]
  },
  {
   "cell_type": "code",
   "execution_count": 53,
   "id": "fa12c280",
   "metadata": {},
   "outputs": [],
   "source": [
    "dummies_df = pd.get_dummies(curr_df[\"category_cc\"])\n",
    "full_df = curr_df.merge(dummies_df, left_index=True, right_on=\"channel\")\n",
    "full_df.drop(\"category_cc\", inplace = True, axis = 1)"
   ]
  },
  {
   "cell_type": "markdown",
   "id": "198939c7",
   "metadata": {},
   "source": [
    "We can't do much with the channel names, so let's remove them for now. "
   ]
  },
  {
   "cell_type": "code",
   "execution_count": 54,
   "id": "f87b5d1d",
   "metadata": {},
   "outputs": [],
   "source": [
    "full_df.drop(\"name_cc\", inplace = True, axis = 1)"
   ]
  },
  {
   "cell_type": "markdown",
   "id": "e14417c3",
   "metadata": {},
   "source": [
    "We now look at the linear correlation between the different features, keeping only the strong (>0.7, [source](https://journals.lww.com/anesthesia-analgesia/fulltext/2018/05000/correlation_coefficients__appropriate_use_and.50.aspx)) and significant ones."
   ]
  },
  {
   "cell_type": "code",
   "execution_count": 55,
   "id": "8f976644",
   "metadata": {},
   "outputs": [
    {
     "name": "stdout",
     "output_type": "stream",
     "text": [
      "Pearson correlation is significant between subscriber_rank_sb and weights. The p-value is 0.0 and the correlation coefficient is 0.7383999363445934\n",
      "\n"
     ]
    }
   ],
   "source": [
    "for i in range(len(full_df.columns)) :\n",
    "    for j in range(i, len(full_df.columns)) :\n",
    "        if(abs(i-j) > 0 and not(i > 5 and j > 5)) :\n",
    "            r, pval = stats.pearsonr(full_df[full_df.columns[i]].values, full_df[full_df.columns[j]].values)\n",
    "            if(pval < 0.05 and abs(r) > 0.7) :\n",
    "                print(\"Pearson correlation is significant between \" + full_df.columns[i] + \" and \" + full_df.columns[j] + \n",
    "                      \". The p-value is \" + str(pval) + \" and the correlation coefficient is \" + str(r))\n",
    "                print()"
   ]
  },
  {
   "cell_type": "code",
   "execution_count": 56,
   "id": "3fcbaa00",
   "metadata": {},
   "outputs": [
    {
     "name": "stdout",
     "output_type": "stream",
     "text": [
      "Pearson correlation is significant between subscribers_cc and subscriber_rank_sb. The p-value is 0.0 and the correlation coefficient is -0.9937197228151681\n",
      "\n",
      "Pearson correlation is significant between subscribers_cc and weights. The p-value is 0.0 and the correlation coefficient is -0.9609484981665265\n",
      "\n",
      "Pearson correlation is significant between subscriber_rank_sb and weights. The p-value is 0.0 and the correlation coefficient is 0.9650708046186821\n",
      "\n"
     ]
    }
   ],
   "source": [
    "for i in range(len(full_df.columns)) :\n",
    "    for j in range(i, len(full_df.columns)) :\n",
    "        if(abs(i-j) > 0 and not(i > 5 and j > 5)) :\n",
    "            r, pval = stats.spearmanr(full_df[full_df.columns[i]].values, full_df[full_df.columns[j]].values)\n",
    "            if(pval < 0.05 and abs(r) > 0.7) :\n",
    "                print(\"Spearman correlation is significant between \" + full_df.columns[i] + \" and \" + full_df.columns[j] + \n",
    "                      \". The p-value is \" + str(pval) + \" and the correlation coefficient is \" + str(r))\n",
    "                print()"
   ]
  },
  {
   "cell_type": "markdown",
   "id": "67887b66",
   "metadata": {},
   "source": [
    "We can see that the \"subscribers_cc\", \"subscriber_rank_sb\" and \"weights\" features are strongly (coefficients > 0.95) and significantly (p-values < 0.05) correlated. This makes as they are all three related to the number of subscribers a particular channel has. "
   ]
  },
  {
   "cell_type": "markdown",
   "id": "5b62c228-9e92-405a-a864-da2878bf1cd9",
   "metadata": {},
   "source": [
    "# Studying \"buzz\"\n",
    "\n",
    "In the following section, we start our actual analysis and interpretation of the data, and try to start getting to the heart of our project. However, this is still a work in progress.\n",
    "\n",
    "## Finding \"buzz\" channels"
   ]
  },
  {
   "cell_type": "code",
   "execution_count": 63,
   "id": "3b403c36-18d5-4fa1-b2b7-bdac79009fc9",
   "metadata": {},
   "outputs": [
    {
     "data": {
      "text/html": [
       "<div>\n",
       "<style scoped>\n",
       "    .dataframe tbody tr th:only-of-type {\n",
       "        vertical-align: middle;\n",
       "    }\n",
       "\n",
       "    .dataframe tbody tr th {\n",
       "        vertical-align: top;\n",
       "    }\n",
       "\n",
       "    .dataframe thead th {\n",
       "        text-align: right;\n",
       "    }\n",
       "</style>\n",
       "<table border=\"1\" class=\"dataframe\">\n",
       "  <thead>\n",
       "    <tr style=\"text-align: right;\">\n",
       "      <th></th>\n",
       "      <th>views</th>\n",
       "      <th>delta_views</th>\n",
       "      <th>subs</th>\n",
       "      <th>delta_subs</th>\n",
       "      <th>videos</th>\n",
       "      <th>delta_videos</th>\n",
       "      <th>activity</th>\n",
       "      <th>buzz</th>\n",
       "    </tr>\n",
       "    <tr>\n",
       "      <th>channel</th>\n",
       "      <th></th>\n",
       "      <th></th>\n",
       "      <th></th>\n",
       "      <th></th>\n",
       "      <th></th>\n",
       "      <th></th>\n",
       "      <th></th>\n",
       "      <th></th>\n",
       "    </tr>\n",
       "  </thead>\n",
       "  <tbody>\n",
       "    <tr>\n",
       "      <th>UCthGJarCVyno_iRNGCWwTJg</th>\n",
       "      <td>7.987945e+07</td>\n",
       "      <td>2.329690e+06</td>\n",
       "      <td>24.000000</td>\n",
       "      <td>0.000000</td>\n",
       "      <td>0</td>\n",
       "      <td>0</td>\n",
       "      <td>0</td>\n",
       "      <td>3.328310e+06</td>\n",
       "    </tr>\n",
       "    <tr>\n",
       "      <th>UC4xXB0x5qXQAagFDnsAl8tg</th>\n",
       "      <td>4.377455e+07</td>\n",
       "      <td>2.550937e+06</td>\n",
       "      <td>16.760417</td>\n",
       "      <td>1.178346</td>\n",
       "      <td>0</td>\n",
       "      <td>0</td>\n",
       "      <td>0</td>\n",
       "      <td>2.611782e+06</td>\n",
       "    </tr>\n",
       "    <tr>\n",
       "      <th>UCme84UhHwLSVg-eH0O-yl_g</th>\n",
       "      <td>1.965372e+07</td>\n",
       "      <td>1.174699e+06</td>\n",
       "      <td>16.000000</td>\n",
       "      <td>0.875000</td>\n",
       "      <td>0</td>\n",
       "      <td>0</td>\n",
       "      <td>0</td>\n",
       "      <td>1.228358e+06</td>\n",
       "    </tr>\n",
       "    <tr>\n",
       "      <th>UCuQbG58vgoHRcEHMRhWPzTQ</th>\n",
       "      <td>3.020381e+06</td>\n",
       "      <td>8.149162e+04</td>\n",
       "      <td>10.000000</td>\n",
       "      <td>0.600000</td>\n",
       "      <td>0</td>\n",
       "      <td>0</td>\n",
       "      <td>0</td>\n",
       "      <td>3.020381e+05</td>\n",
       "    </tr>\n",
       "    <tr>\n",
       "      <th>UCn0D62zdV2qEv9ziv-_DGxA</th>\n",
       "      <td>7.978240e+06</td>\n",
       "      <td>9.697992e+05</td>\n",
       "      <td>114.754300</td>\n",
       "      <td>9.013889</td>\n",
       "      <td>12</td>\n",
       "      <td>3</td>\n",
       "      <td>4</td>\n",
       "      <td>6.952454e+04</td>\n",
       "    </tr>\n",
       "    <tr>\n",
       "      <th>...</th>\n",
       "      <td>...</td>\n",
       "      <td>...</td>\n",
       "      <td>...</td>\n",
       "      <td>...</td>\n",
       "      <td>...</td>\n",
       "      <td>...</td>\n",
       "      <td>...</td>\n",
       "      <td>...</td>\n",
       "    </tr>\n",
       "    <tr>\n",
       "      <th>UCfNWf9YsYrnZZtiTSqL9f6w</th>\n",
       "      <td>1.981018e+03</td>\n",
       "      <td>2.109468e+02</td>\n",
       "      <td>13582.222222</td>\n",
       "      <td>2847.444444</td>\n",
       "      <td>119</td>\n",
       "      <td>17</td>\n",
       "      <td>26</td>\n",
       "      <td>1.458537e-01</td>\n",
       "    </tr>\n",
       "    <tr>\n",
       "      <th>UCBN5uTeKYOdrrHEqRhhtkww</th>\n",
       "      <td>2.915800e+03</td>\n",
       "      <td>3.694444e+01</td>\n",
       "      <td>20458.300000</td>\n",
       "      <td>0.000000</td>\n",
       "      <td>14</td>\n",
       "      <td>2</td>\n",
       "      <td>4</td>\n",
       "      <td>1.425241e-01</td>\n",
       "    </tr>\n",
       "    <tr>\n",
       "      <th>UCeoJb2SjcLWHGZWfiD9sM-w</th>\n",
       "      <td>2.677521e+04</td>\n",
       "      <td>3.023125e+03</td>\n",
       "      <td>210005.952381</td>\n",
       "      <td>1472.875000</td>\n",
       "      <td>15</td>\n",
       "      <td>12</td>\n",
       "      <td>12</td>\n",
       "      <td>1.274974e-01</td>\n",
       "    </tr>\n",
       "    <tr>\n",
       "      <th>UCrCNiy-dsWgqCybxgb_IkPQ</th>\n",
       "      <td>1.321657e+04</td>\n",
       "      <td>1.074071e+03</td>\n",
       "      <td>139000.000000</td>\n",
       "      <td>0.000000</td>\n",
       "      <td>32</td>\n",
       "      <td>1</td>\n",
       "      <td>3</td>\n",
       "      <td>9.508325e-02</td>\n",
       "    </tr>\n",
       "    <tr>\n",
       "      <th>UCrhm9qz84903DOOSOphykaw</th>\n",
       "      <td>1.717500e+03</td>\n",
       "      <td>9.887500e+01</td>\n",
       "      <td>30904.000000</td>\n",
       "      <td>0.000000</td>\n",
       "      <td>19</td>\n",
       "      <td>2</td>\n",
       "      <td>10</td>\n",
       "      <td>5.557533e-02</td>\n",
       "    </tr>\n",
       "  </tbody>\n",
       "</table>\n",
       "<p>153550 rows × 8 columns</p>\n",
       "</div>"
      ],
      "text/plain": [
       "                                 views   delta_views           subs  \\\n",
       "channel                                                               \n",
       "UCthGJarCVyno_iRNGCWwTJg  7.987945e+07  2.329690e+06      24.000000   \n",
       "UC4xXB0x5qXQAagFDnsAl8tg  4.377455e+07  2.550937e+06      16.760417   \n",
       "UCme84UhHwLSVg-eH0O-yl_g  1.965372e+07  1.174699e+06      16.000000   \n",
       "UCuQbG58vgoHRcEHMRhWPzTQ  3.020381e+06  8.149162e+04      10.000000   \n",
       "UCn0D62zdV2qEv9ziv-_DGxA  7.978240e+06  9.697992e+05     114.754300   \n",
       "...                                ...           ...            ...   \n",
       "UCfNWf9YsYrnZZtiTSqL9f6w  1.981018e+03  2.109468e+02   13582.222222   \n",
       "UCBN5uTeKYOdrrHEqRhhtkww  2.915800e+03  3.694444e+01   20458.300000   \n",
       "UCeoJb2SjcLWHGZWfiD9sM-w  2.677521e+04  3.023125e+03  210005.952381   \n",
       "UCrCNiy-dsWgqCybxgb_IkPQ  1.321657e+04  1.074071e+03  139000.000000   \n",
       "UCrhm9qz84903DOOSOphykaw  1.717500e+03  9.887500e+01   30904.000000   \n",
       "\n",
       "                           delta_subs  videos  delta_videos  activity  \\\n",
       "channel                                                                 \n",
       "UCthGJarCVyno_iRNGCWwTJg     0.000000       0             0         0   \n",
       "UC4xXB0x5qXQAagFDnsAl8tg     1.178346       0             0         0   \n",
       "UCme84UhHwLSVg-eH0O-yl_g     0.875000       0             0         0   \n",
       "UCuQbG58vgoHRcEHMRhWPzTQ     0.600000       0             0         0   \n",
       "UCn0D62zdV2qEv9ziv-_DGxA     9.013889      12             3         4   \n",
       "...                               ...     ...           ...       ...   \n",
       "UCfNWf9YsYrnZZtiTSqL9f6w  2847.444444     119            17        26   \n",
       "UCBN5uTeKYOdrrHEqRhhtkww     0.000000      14             2         4   \n",
       "UCeoJb2SjcLWHGZWfiD9sM-w  1472.875000      15            12        12   \n",
       "UCrCNiy-dsWgqCybxgb_IkPQ     0.000000      32             1         3   \n",
       "UCrhm9qz84903DOOSOphykaw     0.000000      19             2        10   \n",
       "\n",
       "                                  buzz  \n",
       "channel                                 \n",
       "UCthGJarCVyno_iRNGCWwTJg  3.328310e+06  \n",
       "UC4xXB0x5qXQAagFDnsAl8tg  2.611782e+06  \n",
       "UCme84UhHwLSVg-eH0O-yl_g  1.228358e+06  \n",
       "UCuQbG58vgoHRcEHMRhWPzTQ  3.020381e+05  \n",
       "UCn0D62zdV2qEv9ziv-_DGxA  6.952454e+04  \n",
       "...                                ...  \n",
       "UCfNWf9YsYrnZZtiTSqL9f6w  1.458537e-01  \n",
       "UCBN5uTeKYOdrrHEqRhhtkww  1.425241e-01  \n",
       "UCeoJb2SjcLWHGZWfiD9sM-w  1.274974e-01  \n",
       "UCrCNiy-dsWgqCybxgb_IkPQ  9.508325e-02  \n",
       "UCrhm9qz84903DOOSOphykaw  5.557533e-02  \n",
       "\n",
       "[153550 rows x 8 columns]"
      ]
     },
     "execution_count": 63,
     "metadata": {},
     "output_type": "execute_result"
    }
   ],
   "source": [
    "timeseries_buzz = df_timeseries_raw.groupby(\"channel\").max(\"views\")\n",
    "timeseries_buzz[\"buzz\"] = timeseries_buzz[\"views\"]/timeseries_buzz[\"subs\"]\n",
    "channels_buzz_sorted = timeseries_buzz.sort_values(\"buzz\", ascending=False)\n",
    "channels_buzz_sorted"
   ]
  },
  {
   "cell_type": "markdown",
   "id": "f71b24a0-3c6c-432e-87de-5a241e404069",
   "metadata": {
    "tags": []
   },
   "source": [
    "## Finding buzz videos"
   ]
  },
  {
   "cell_type": "code",
   "execution_count": 64,
   "id": "e4be2d6b-e7c5-4602-9d1f-d408f4a32b52",
   "metadata": {},
   "outputs": [
    {
     "data": {
      "text/html": [
       "<div>\n",
       "<style scoped>\n",
       "    .dataframe tbody tr th:only-of-type {\n",
       "        vertical-align: middle;\n",
       "    }\n",
       "\n",
       "    .dataframe tbody tr th {\n",
       "        vertical-align: top;\n",
       "    }\n",
       "\n",
       "    .dataframe thead th {\n",
       "        text-align: right;\n",
       "    }\n",
       "</style>\n",
       "<table border=\"1\" class=\"dataframe\">\n",
       "  <thead>\n",
       "    <tr style=\"text-align: right;\">\n",
       "      <th></th>\n",
       "      <th>channel</th>\n",
       "      <th>category</th>\n",
       "      <th>datetime</th>\n",
       "      <th>views</th>\n",
       "      <th>delta_views</th>\n",
       "      <th>subs</th>\n",
       "      <th>delta_subs</th>\n",
       "      <th>videos</th>\n",
       "      <th>delta_videos</th>\n",
       "      <th>activity</th>\n",
       "    </tr>\n",
       "  </thead>\n",
       "  <tbody>\n",
       "    <tr>\n",
       "      <th>658890</th>\n",
       "      <td>UCz0yhTJVJoN20-e5FKJhkeg</td>\n",
       "      <td>Film and Animation</td>\n",
       "      <td>2017-06-19 01:00:00</td>\n",
       "      <td>1.053009e+08</td>\n",
       "      <td>1.711349e+07</td>\n",
       "      <td>17.000</td>\n",
       "      <td>0.0</td>\n",
       "      <td>0</td>\n",
       "      <td>0</td>\n",
       "      <td>0</td>\n",
       "    </tr>\n",
       "    <tr>\n",
       "      <th>7362811</th>\n",
       "      <td>UCjTtxUhrLl5Arwv1k36MS-g</td>\n",
       "      <td>People &amp; Blogs</td>\n",
       "      <td>2018-01-15 00:00:00</td>\n",
       "      <td>4.476940e+07</td>\n",
       "      <td>4.476218e+07</td>\n",
       "      <td>38.125</td>\n",
       "      <td>0.0</td>\n",
       "      <td>1</td>\n",
       "      <td>0</td>\n",
       "      <td>1</td>\n",
       "    </tr>\n",
       "    <tr>\n",
       "      <th>18607300</th>\n",
       "      <td>UC96TwRI_I8Xi8g96CzIgR6Q</td>\n",
       "      <td>Entertainment</td>\n",
       "      <td>2017-10-23 00:00:00</td>\n",
       "      <td>5.684212e+07</td>\n",
       "      <td>1.432957e+07</td>\n",
       "      <td>11.000</td>\n",
       "      <td>0.0</td>\n",
       "      <td>0</td>\n",
       "      <td>0</td>\n",
       "      <td>0</td>\n",
       "    </tr>\n",
       "  </tbody>\n",
       "</table>\n",
       "</div>"
      ],
      "text/plain": [
       "                           channel            category             datetime  \\\n",
       "658890    UCz0yhTJVJoN20-e5FKJhkeg  Film and Animation  2017-06-19 01:00:00   \n",
       "7362811   UCjTtxUhrLl5Arwv1k36MS-g      People & Blogs  2018-01-15 00:00:00   \n",
       "18607300  UC96TwRI_I8Xi8g96CzIgR6Q       Entertainment  2017-10-23 00:00:00   \n",
       "\n",
       "                 views   delta_views    subs  delta_subs  videos  \\\n",
       "658890    1.053009e+08  1.711349e+07  17.000         0.0       0   \n",
       "7362811   4.476940e+07  4.476218e+07  38.125         0.0       1   \n",
       "18607300  5.684212e+07  1.432957e+07  11.000         0.0       0   \n",
       "\n",
       "          delta_videos  activity  \n",
       "658890               0         0  \n",
       "7362811              0         1  \n",
       "18607300             0         0  "
      ]
     },
     "execution_count": 64,
     "metadata": {},
     "output_type": "execute_result"
    }
   ],
   "source": [
    "buzz = df_timeseries_raw[df_timeseries_raw[\"delta_views\"]/df_timeseries_raw[\"subs\"] > 1000000]\n",
    "buzz"
   ]
  },
  {
   "cell_type": "code",
   "execution_count": 65,
   "id": "0def93dc-1172-4a51-985c-a7a66746d153",
   "metadata": {},
   "outputs": [
    {
     "data": {
      "text/plain": [
       "channel\n",
       "UCz0yhTJVJoN20-e5FKJhkeg    KIDS ZONE TV RHYMES\n",
       "UCjTtxUhrLl5Arwv1k36MS-g       Guka Family Show\n",
       "UC96TwRI_I8Xi8g96CzIgR6Q               FiveKidz\n",
       "Name: name_cc, dtype: object"
      ]
     },
     "execution_count": 65,
     "metadata": {},
     "output_type": "execute_result"
    }
   ],
   "source": [
    "df_channels_raw.loc[buzz[\"channel\"]][\"name_cc\"]"
   ]
  },
  {
   "cell_type": "code",
   "execution_count": 66,
   "id": "7b8fcdc3-d4c6-419b-a9bb-d9da211612a9",
   "metadata": {},
   "outputs": [],
   "source": [
    "merged = df_channels_raw.merge(df_metadata, left_index=True, right_on=\"channel_id\")\n",
    "merged[\"buzz\"] = merged[\"view_count\"]/merged[\"subscribers_cc\"]\n",
    "buzz_sorted = merged.sort_values(\"buzz\", ascending=False)"
   ]
  },
  {
   "cell_type": "code",
   "execution_count": 67,
   "id": "cc55e569-73f8-45f9-846d-0e69cf56b228",
   "metadata": {},
   "outputs": [
    {
     "name": "stdout",
     "output_type": "stream",
     "text": [
      "Duration means:\n",
      "    Total   : 12.627935625936313\n",
      "    Buzz    : 6.04105\n",
      "    Not buzz: 14.084166666666667\n"
     ]
    }
   ],
   "source": [
    "print(\"Duration means:\")\n",
    "print(\"    Total   : \" + str(buzz_sorted[\"duration\"].mean()/60))\n",
    "print(\"    Buzz    : \" + str(buzz_sorted[:1000][\"duration\"].mean()/60))\n",
    "print(\"    Not buzz: \" + str(buzz_sorted[-1000:][\"duration\"].mean()/60))"
   ]
  },
  {
   "cell_type": "code",
   "execution_count": 68,
   "id": "92482150-df48-49e4-84f7-0296b5eb3057",
   "metadata": {},
   "outputs": [
    {
     "name": "stdout",
     "output_type": "stream",
     "text": [
      "Duration medians:\n",
      "    Total   : 4.733333333333333\n",
      "    Buzz    : 3.566666666666667\n",
      "    Not buzz: 4.983333333333333\n"
     ]
    }
   ],
   "source": [
    "print(\"Duration medians:\")\n",
    "print(\"    Total   : \" + str(buzz_sorted[\"duration\"].median()/60))\n",
    "print(\"    Buzz    : \" + str(buzz_sorted[:1000][\"duration\"].median()/60))\n",
    "print(\"    Not buzz: \" + str(buzz_sorted[-1000:][\"duration\"].median()/60))"
   ]
  },
  {
   "cell_type": "code",
   "execution_count": 69,
   "id": "62583cd2-7770-4e84-af15-24fcf6807a33",
   "metadata": {},
   "outputs": [
    {
     "name": "stdout",
     "output_type": "stream",
     "text": [
      "Likes/views ratio means:\n",
      "    Total   : 2.411879246744238\n",
      "    Buzz    : 0.5001628628791016\n",
      "    Not buzz: 14.568785304451662\n"
     ]
    }
   ],
   "source": [
    "with_likes = buzz_sorted[(buzz_sorted[\"like_count\"] > 0) & (buzz_sorted[\"view_count\"] > 0)]\n",
    "print(\"Likes/views ratio means:\")\n",
    "print(\"    Total   : \" + str((with_likes[\"like_count\"] / with_likes[\"view_count\"]).mean() * 100))\n",
    "print(\"    Buzz    : \" + str((with_likes[:1000][\"like_count\"] / with_likes[:1000][\"view_count\"]).mean() * 100))\n",
    "print(\"    Not buzz: \" + str((with_likes[-1000:][\"like_count\"] / with_likes[-1000:][\"view_count\"]).mean() * 100))"
   ]
  },
  {
   "cell_type": "code",
   "execution_count": 70,
   "id": "3ea12274-9c1c-4da8-a601-be4d8f45fc24",
   "metadata": {},
   "outputs": [
    {
     "name": "stdout",
     "output_type": "stream",
     "text": [
      "Likes/views ratio medians:\n",
      "    Total   : 1.5544041450777202\n",
      "    Buzz    : 0.4258255931238914\n",
      "    Not buzz: 4.761904761904762\n"
     ]
    }
   ],
   "source": [
    "print(\"Likes/views ratio medians:\")\n",
    "print(\"    Total   : \" + str((with_likes[\"like_count\"] / with_likes[\"view_count\"]).median() * 100))\n",
    "print(\"    Buzz    : \" + str((with_likes[:1000][\"like_count\"] / with_likes[:1000][\"view_count\"]).median() * 100))\n",
    "print(\"    Not buzz: \" + str((with_likes[-1000:][\"like_count\"] / with_likes[-1000:][\"view_count\"]).median() * 100))"
   ]
  },
  {
   "cell_type": "markdown",
   "id": "4c78d8ed-b4f5-4d8a-b344-64a80d37d3f8",
   "metadata": {},
   "source": [
    "# Compare video counts vs actual number of videos in dataset\n",
    "\n",
    "In this final section, we look at some other unusual observations and incoherences between the df_channels_en data frame and df_timeseries data frame, and try to see how many channels actually have matching data in both. "
   ]
  },
  {
   "cell_type": "code",
   "execution_count": 71,
   "id": "3a833fc3-a68d-428d-a845-7c123a5949a9",
   "metadata": {},
   "outputs": [
    {
     "data": {
      "text/html": [
       "<div>\n",
       "<style scoped>\n",
       "    .dataframe tbody tr th:only-of-type {\n",
       "        vertical-align: middle;\n",
       "    }\n",
       "\n",
       "    .dataframe tbody tr th {\n",
       "        vertical-align: top;\n",
       "    }\n",
       "\n",
       "    .dataframe thead th {\n",
       "        text-align: right;\n",
       "    }\n",
       "</style>\n",
       "<table border=\"1\" class=\"dataframe\">\n",
       "  <thead>\n",
       "    <tr style=\"text-align: right;\">\n",
       "      <th></th>\n",
       "      <th>category_cc</th>\n",
       "      <th>join_date</th>\n",
       "      <th>name_cc</th>\n",
       "      <th>subscribers_cc</th>\n",
       "      <th>videos_cc</th>\n",
       "      <th>subscriber_rank_sb</th>\n",
       "      <th>weights</th>\n",
       "    </tr>\n",
       "    <tr>\n",
       "      <th>channel</th>\n",
       "      <th></th>\n",
       "      <th></th>\n",
       "      <th></th>\n",
       "      <th></th>\n",
       "      <th></th>\n",
       "      <th></th>\n",
       "      <th></th>\n",
       "    </tr>\n",
       "  </thead>\n",
       "  <tbody>\n",
       "    <tr>\n",
       "      <th>UCHTK-2W11Vh1V4uwofOfR4w</th>\n",
       "      <td>News &amp; Politics</td>\n",
       "      <td>2015-06-17</td>\n",
       "      <td>AP Archive</td>\n",
       "      <td>1770000</td>\n",
       "      <td>461923</td>\n",
       "      <td>6059.0</td>\n",
       "      <td>2.4625</td>\n",
       "    </tr>\n",
       "    <tr>\n",
       "      <th>UCNE227nPPd04KCtOK7_T7UQ</th>\n",
       "      <td>Howto &amp; Style</td>\n",
       "      <td>2012-11-05</td>\n",
       "      <td>Emma Saying</td>\n",
       "      <td>512000</td>\n",
       "      <td>332703</td>\n",
       "      <td>34549.0</td>\n",
       "      <td>3.1865</td>\n",
       "    </tr>\n",
       "    <tr>\n",
       "      <th>UCqYw-CTd1dU2yGI71sEyqNw</th>\n",
       "      <td>News &amp; Politics</td>\n",
       "      <td>2007-10-29</td>\n",
       "      <td>GMA News</td>\n",
       "      <td>4436635</td>\n",
       "      <td>308522</td>\n",
       "      <td>1596.0</td>\n",
       "      <td>2.0870</td>\n",
       "    </tr>\n",
       "    <tr>\n",
       "      <th>UCoLrcjPV5PbUrUyXq5mjc_A</th>\n",
       "      <td>Sports</td>\n",
       "      <td>2005-12-25</td>\n",
       "      <td>MLB</td>\n",
       "      <td>2130000</td>\n",
       "      <td>278430</td>\n",
       "      <td>5812.0</td>\n",
       "      <td>2.4645</td>\n",
       "    </tr>\n",
       "    <tr>\n",
       "      <th>UCEaTAQbuyJ_FWOOQ5OsbK5A</th>\n",
       "      <td>Howto &amp; Style</td>\n",
       "      <td>2008-12-11</td>\n",
       "      <td>Shop Zappos</td>\n",
       "      <td>65000</td>\n",
       "      <td>258643</td>\n",
       "      <td>221575.0</td>\n",
       "      <td>5.9680</td>\n",
       "    </tr>\n",
       "    <tr>\n",
       "      <th>...</th>\n",
       "      <td>...</td>\n",
       "      <td>...</td>\n",
       "      <td>...</td>\n",
       "      <td>...</td>\n",
       "      <td>...</td>\n",
       "      <td>...</td>\n",
       "      <td>...</td>\n",
       "    </tr>\n",
       "    <tr>\n",
       "      <th>UCyxLCaVDZJlphhMS1iudS8g</th>\n",
       "      <td>People &amp; Blogs</td>\n",
       "      <td>2018-11-20</td>\n",
       "      <td>ItzGacha Krista</td>\n",
       "      <td>15200</td>\n",
       "      <td>10</td>\n",
       "      <td>669409.0</td>\n",
       "      <td>9.2315</td>\n",
       "    </tr>\n",
       "    <tr>\n",
       "      <th>UC8_QEmzaN97pPbCIMGLZtag</th>\n",
       "      <td>Music</td>\n",
       "      <td>2015-12-28</td>\n",
       "      <td>Squadra Officiel</td>\n",
       "      <td>167419</td>\n",
       "      <td>10</td>\n",
       "      <td>96544.0</td>\n",
       "      <td>3.5610</td>\n",
       "    </tr>\n",
       "    <tr>\n",
       "      <th>UCKWs5SmYtZ1ERpw_o3QyeCg</th>\n",
       "      <td>Film and Animation</td>\n",
       "      <td>2015-09-18</td>\n",
       "      <td>Last Enemy</td>\n",
       "      <td>15200</td>\n",
       "      <td>10</td>\n",
       "      <td>669440.0</td>\n",
       "      <td>9.2460</td>\n",
       "    </tr>\n",
       "    <tr>\n",
       "      <th>UCRWj86vcw5owjOkLFxEAD8g</th>\n",
       "      <td>People &amp; Blogs</td>\n",
       "      <td>2017-08-17</td>\n",
       "      <td>Erik Hedenfalk</td>\n",
       "      <td>28000</td>\n",
       "      <td>10</td>\n",
       "      <td>294834.0</td>\n",
       "      <td>5.0950</td>\n",
       "    </tr>\n",
       "    <tr>\n",
       "      <th>UClwooJkFYXzkfIB0Q5TBMhw</th>\n",
       "      <td>People &amp; Blogs</td>\n",
       "      <td>2016-01-12</td>\n",
       "      <td>TheGameHoose</td>\n",
       "      <td>47100</td>\n",
       "      <td>10</td>\n",
       "      <td>284501.0</td>\n",
       "      <td>7.0095</td>\n",
       "    </tr>\n",
       "  </tbody>\n",
       "</table>\n",
       "<p>136470 rows × 7 columns</p>\n",
       "</div>"
      ],
      "text/plain": [
       "                                 category_cc   join_date           name_cc  \\\n",
       "channel                                                                      \n",
       "UCHTK-2W11Vh1V4uwofOfR4w     News & Politics  2015-06-17        AP Archive   \n",
       "UCNE227nPPd04KCtOK7_T7UQ       Howto & Style  2012-11-05       Emma Saying   \n",
       "UCqYw-CTd1dU2yGI71sEyqNw     News & Politics  2007-10-29          GMA News   \n",
       "UCoLrcjPV5PbUrUyXq5mjc_A              Sports  2005-12-25               MLB   \n",
       "UCEaTAQbuyJ_FWOOQ5OsbK5A       Howto & Style  2008-12-11       Shop Zappos   \n",
       "...                                      ...         ...               ...   \n",
       "UCyxLCaVDZJlphhMS1iudS8g      People & Blogs  2018-11-20   ItzGacha Krista   \n",
       "UC8_QEmzaN97pPbCIMGLZtag               Music  2015-12-28  Squadra Officiel   \n",
       "UCKWs5SmYtZ1ERpw_o3QyeCg  Film and Animation  2015-09-18        Last Enemy   \n",
       "UCRWj86vcw5owjOkLFxEAD8g      People & Blogs  2017-08-17    Erik Hedenfalk   \n",
       "UClwooJkFYXzkfIB0Q5TBMhw      People & Blogs  2016-01-12      TheGameHoose   \n",
       "\n",
       "                          subscribers_cc  videos_cc  subscriber_rank_sb  \\\n",
       "channel                                                                   \n",
       "UCHTK-2W11Vh1V4uwofOfR4w         1770000     461923              6059.0   \n",
       "UCNE227nPPd04KCtOK7_T7UQ          512000     332703             34549.0   \n",
       "UCqYw-CTd1dU2yGI71sEyqNw         4436635     308522              1596.0   \n",
       "UCoLrcjPV5PbUrUyXq5mjc_A         2130000     278430              5812.0   \n",
       "UCEaTAQbuyJ_FWOOQ5OsbK5A           65000     258643            221575.0   \n",
       "...                                  ...        ...                 ...   \n",
       "UCyxLCaVDZJlphhMS1iudS8g           15200         10            669409.0   \n",
       "UC8_QEmzaN97pPbCIMGLZtag          167419         10             96544.0   \n",
       "UCKWs5SmYtZ1ERpw_o3QyeCg           15200         10            669440.0   \n",
       "UCRWj86vcw5owjOkLFxEAD8g           28000         10            294834.0   \n",
       "UClwooJkFYXzkfIB0Q5TBMhw           47100         10            284501.0   \n",
       "\n",
       "                          weights  \n",
       "channel                            \n",
       "UCHTK-2W11Vh1V4uwofOfR4w   2.4625  \n",
       "UCNE227nPPd04KCtOK7_T7UQ   3.1865  \n",
       "UCqYw-CTd1dU2yGI71sEyqNw   2.0870  \n",
       "UCoLrcjPV5PbUrUyXq5mjc_A   2.4645  \n",
       "UCEaTAQbuyJ_FWOOQ5OsbK5A   5.9680  \n",
       "...                           ...  \n",
       "UCyxLCaVDZJlphhMS1iudS8g   9.2315  \n",
       "UC8_QEmzaN97pPbCIMGLZtag   3.5610  \n",
       "UCKWs5SmYtZ1ERpw_o3QyeCg   9.2460  \n",
       "UCRWj86vcw5owjOkLFxEAD8g   5.0950  \n",
       "UClwooJkFYXzkfIB0Q5TBMhw   7.0095  \n",
       "\n",
       "[136470 rows x 7 columns]"
      ]
     },
     "execution_count": 71,
     "metadata": {},
     "output_type": "execute_result"
    }
   ],
   "source": [
    "df_channels_en.sort_values(\"videos_cc\", ascending=False)"
   ]
  },
  {
   "cell_type": "code",
   "execution_count": 72,
   "id": "4a1f8b3d-4936-404e-9af1-904f1b29ab92",
   "metadata": {},
   "outputs": [
    {
     "name": "stdout",
     "output_type": "stream",
     "text": [
      "AP Archive: 33204 videos in df_metadata, 461923 indicated in df_channels_en.\n"
     ]
    }
   ],
   "source": [
    "for index, channel in df_channels_en.sort_values(\"videos_cc\", ascending=False).iterrows():\n",
    "    videos = df_metadata[df_metadata[\"channel_id\"] == channel.name]\n",
    "    if len(videos) > 0:\n",
    "        print(f\"{channel['name_cc']}: {len(videos)} videos in df_metadata, {channel['videos_cc']} indicated in df_channels_en.\")\n",
    "        break"
   ]
  },
  {
   "cell_type": "markdown",
   "id": "a24fb7fe",
   "metadata": {},
   "source": [
    "We have to check for which channels id the number of video we compute using the channels,timeseries and metadata dataset are rougly the same: "
   ]
  },
  {
   "cell_type": "code",
   "execution_count": 8,
   "id": "3977c701",
   "metadata": {},
   "outputs": [],
   "source": [
    "video_count=df_metadata.groupby('channel_id').count()\n",
    "video_count=video_count['categories'].rename('count_metadata')"
   ]
  },
  {
   "cell_type": "code",
   "execution_count": 9,
   "id": "6fa17709",
   "metadata": {},
   "outputs": [],
   "source": [
    "video_count2=df_timeseries.sort_values(by='datetime').groupby('channel').last()['videos']\n",
    "video_count2=video_count2.rename('count_timeseries')"
   ]
  },
  {
   "cell_type": "code",
   "execution_count": 10,
   "id": "3482efa1",
   "metadata": {},
   "outputs": [
    {
     "name": "stdout",
     "output_type": "stream",
     "text": [
      "There are  2954 channel in the metadata datasets but not in the timeseries dataset\n",
      "There are  0 channel in the timeseries datasets but not in the metadata dataset\n",
      "There are  0 channel in the metadata datasets but not in the channel dataset\n",
      "There are  0 channel in the channel datasets but not in the metadata dataset\n"
     ]
    }
   ],
   "source": [
    "#Checking channels id present in metadata but not in timeseries \n",
    "print('There are ',len(set(list(video_count.index))-set(list(video_count2.index))),'channel in the metadata datasets but not in the timeseries dataset')\n",
    "print('There are ',len(set(list(video_count2.index))-set(list(video_count.index))),'channel in the timeseries datasets but not in the metadata dataset')\n",
    "print('There are ',len(set(list(video_count.index))-set(list(df_channels_en.index))),'channel in the metadata datasets but not in the channel dataset')\n",
    "print('There are ',len(set(list(df_channels_en.index))-set(list(video_count.index))),'channel in the channel datasets but not in the metadata dataset')"
   ]
  },
  {
   "cell_type": "markdown",
   "id": "3135bc50",
   "metadata": {},
   "source": [
    "We thus decide to only keep channel id present in both metadata and time serires dataset:"
   ]
  },
  {
   "cell_type": "code",
   "execution_count": 11,
   "id": "bcdda4b0",
   "metadata": {},
   "outputs": [],
   "source": [
    "video_count_filtered=video_count.filter(items = list(video_count2.index), axis=0)"
   ]
  },
  {
   "cell_type": "code",
   "execution_count": 12,
   "id": "1e3e3fba",
   "metadata": {},
   "outputs": [
    {
     "name": "stdout",
     "output_type": "stream",
     "text": [
      "There are  0  different(s) index(es)\n"
     ]
    }
   ],
   "source": [
    "#Checking that our indexes match\n",
    "print('There are ',(video_count_filtered.index!=video_count2.index).sum(),' different(s) index(es)')"
   ]
  },
  {
   "cell_type": "code",
   "execution_count": 13,
   "id": "1f87dffd",
   "metadata": {},
   "outputs": [
    {
     "data": {
      "text/html": [
       "<div>\n",
       "<style scoped>\n",
       "    .dataframe tbody tr th:only-of-type {\n",
       "        vertical-align: middle;\n",
       "    }\n",
       "\n",
       "    .dataframe tbody tr th {\n",
       "        vertical-align: top;\n",
       "    }\n",
       "\n",
       "    .dataframe thead th {\n",
       "        text-align: right;\n",
       "    }\n",
       "</style>\n",
       "<table border=\"1\" class=\"dataframe\">\n",
       "  <thead>\n",
       "    <tr style=\"text-align: right;\">\n",
       "      <th></th>\n",
       "      <th>count_metadata</th>\n",
       "      <th>count_timeseries</th>\n",
       "    </tr>\n",
       "  </thead>\n",
       "  <tbody>\n",
       "    <tr>\n",
       "      <th>UC--24Q3_ZQeFmgJE-Um5QZQ</th>\n",
       "      <td>189</td>\n",
       "      <td>188</td>\n",
       "    </tr>\n",
       "    <tr>\n",
       "      <th>UC--2EbuIuBOGgGqPiJxi3rg</th>\n",
       "      <td>60</td>\n",
       "      <td>60</td>\n",
       "    </tr>\n",
       "    <tr>\n",
       "      <th>UC--3c8RqSfAqYBdDjIG3UNA</th>\n",
       "      <td>333</td>\n",
       "      <td>333</td>\n",
       "    </tr>\n",
       "    <tr>\n",
       "      <th>UC--3ozenTzry39-xMqAPQlw</th>\n",
       "      <td>43</td>\n",
       "      <td>43</td>\n",
       "    </tr>\n",
       "    <tr>\n",
       "      <th>UC--6E6EpybocdaNlPhvK_9A</th>\n",
       "      <td>31</td>\n",
       "      <td>31</td>\n",
       "    </tr>\n",
       "  </tbody>\n",
       "</table>\n",
       "</div>"
      ],
      "text/plain": [
       "                          count_metadata  count_timeseries\n",
       "UC--24Q3_ZQeFmgJE-Um5QZQ             189               188\n",
       "UC--2EbuIuBOGgGqPiJxi3rg              60                60\n",
       "UC--3c8RqSfAqYBdDjIG3UNA             333               333\n",
       "UC--3ozenTzry39-xMqAPQlw              43                43\n",
       "UC--6E6EpybocdaNlPhvK_9A              31                31"
      ]
     },
     "execution_count": 13,
     "metadata": {},
     "output_type": "execute_result"
    }
   ],
   "source": [
    "count_concat=pd.concat([video_count_filtered,video_count2],axis=1)\n",
    "count_concat.head()"
   ]
  },
  {
   "cell_type": "markdown",
   "id": "45c80289",
   "metadata": {},
   "source": [
    "To use the time series dataset with the metadata one and keep a reasonable amount of data, we decide to keep only the channel ids for which the number of video according to the metadata dataset has an an absolute difference with the number of video according to the timeseries dataset of 3 at most. "
   ]
  },
  {
   "cell_type": "code",
   "execution_count": 14,
   "id": "4cf26c38",
   "metadata": {},
   "outputs": [
    {
     "data": {
      "text/plain": [
       "UC--24Q3_ZQeFmgJE-Um5QZQ    1\n",
       "UC--2EbuIuBOGgGqPiJxi3rg    0\n",
       "UC--3c8RqSfAqYBdDjIG3UNA    0\n",
       "UC--3ozenTzry39-xMqAPQlw    0\n",
       "UC--6E6EpybocdaNlPhvK_9A    0\n",
       "                           ..\n",
       "UCzzsKg4jPGBL05t2w3HfHBA    0\n",
       "UCzzt-UNlRHbEFY3rEpFpuXw    0\n",
       "UCzztaOtjmaZoiLvWLagq7bg    1\n",
       "UCzzyt9Z70MBX9RQAFVSNlpQ    0\n",
       "UCzzzZ3-icktxbC3j7hkWqRw    0\n",
       "Length: 120168, dtype: int32"
      ]
     },
     "execution_count": 14,
     "metadata": {},
     "output_type": "execute_result"
    }
   ],
   "source": [
    "diff_video_count=count_concat['count_metadata']-count_concat['count_timeseries']\n",
    "diff_video_count_abs=diff_video_count.apply(lambda x: np.abs(x))\n",
    "diff_video_count_abs[diff_video_count_abs<=3]"
   ]
  },
  {
   "cell_type": "code",
   "execution_count": 15,
   "id": "b36268bb",
   "metadata": {},
   "outputs": [],
   "source": [
    "new_channel_ids=list(diff_video_count_abs[diff_video_count_abs<=3].index)"
   ]
  },
  {
   "cell_type": "code",
   "execution_count": 16,
   "id": "7ce03a71",
   "metadata": {},
   "outputs": [],
   "source": [
    "df_metadata_clean=df_metadata[df_metadata['channel_id'].isin(new_channel_ids)]"
   ]
  },
  {
   "cell_type": "code",
   "execution_count": 17,
   "id": "75eae372",
   "metadata": {},
   "outputs": [],
   "source": [
    "df_channels_en_clean=df_channels_en.filter(items = new_channel_ids,axis=0)"
   ]
  },
  {
   "cell_type": "code",
   "execution_count": 130,
   "id": "a0fe0560",
   "metadata": {},
   "outputs": [],
   "source": [
    "with open(DATA + \"df_metadata_clean.pickle\", \"wb\") as f:\n",
    "    pickle.dump(df_metadata_clean, f)\n",
    "with open(DATA + \"df_channels_en_clean.pickle\", \"wb\") as f:\n",
    "    pickle.dump(df_channels_en_clean, f)"
   ]
  },
  {
   "cell_type": "code",
   "execution_count": 21,
   "id": "3abeceea",
   "metadata": {},
   "outputs": [],
   "source": [
    "count_concat=count_concat.filter(items=new_channel_ids,axis=0)"
   ]
  },
  {
   "cell_type": "code",
   "execution_count": 22,
   "id": "0c4d9222",
   "metadata": {},
   "outputs": [
    {
     "data": {
      "text/html": [
       "<div>\n",
       "<style scoped>\n",
       "    .dataframe tbody tr th:only-of-type {\n",
       "        vertical-align: middle;\n",
       "    }\n",
       "\n",
       "    .dataframe tbody tr th {\n",
       "        vertical-align: top;\n",
       "    }\n",
       "\n",
       "    .dataframe thead th {\n",
       "        text-align: right;\n",
       "    }\n",
       "</style>\n",
       "<table border=\"1\" class=\"dataframe\">\n",
       "  <thead>\n",
       "    <tr style=\"text-align: right;\">\n",
       "      <th></th>\n",
       "      <th>count_channel</th>\n",
       "      <th>count_metadata</th>\n",
       "      <th>count_timeseries</th>\n",
       "    </tr>\n",
       "  </thead>\n",
       "  <tbody>\n",
       "    <tr>\n",
       "      <th>UC--24Q3_ZQeFmgJE-Um5QZQ</th>\n",
       "      <td>192</td>\n",
       "      <td>189</td>\n",
       "      <td>188</td>\n",
       "    </tr>\n",
       "    <tr>\n",
       "      <th>UC--2EbuIuBOGgGqPiJxi3rg</th>\n",
       "      <td>62</td>\n",
       "      <td>60</td>\n",
       "      <td>60</td>\n",
       "    </tr>\n",
       "    <tr>\n",
       "      <th>UC--3c8RqSfAqYBdDjIG3UNA</th>\n",
       "      <td>337</td>\n",
       "      <td>333</td>\n",
       "      <td>333</td>\n",
       "    </tr>\n",
       "    <tr>\n",
       "      <th>UC--3ozenTzry39-xMqAPQlw</th>\n",
       "      <td>81</td>\n",
       "      <td>43</td>\n",
       "      <td>43</td>\n",
       "    </tr>\n",
       "    <tr>\n",
       "      <th>UC--6E6EpybocdaNlPhvK_9A</th>\n",
       "      <td>31</td>\n",
       "      <td>31</td>\n",
       "      <td>31</td>\n",
       "    </tr>\n",
       "    <tr>\n",
       "      <th>...</th>\n",
       "      <td>...</td>\n",
       "      <td>...</td>\n",
       "      <td>...</td>\n",
       "    </tr>\n",
       "    <tr>\n",
       "      <th>UCzzsKg4jPGBL05t2w3HfHBA</th>\n",
       "      <td>14</td>\n",
       "      <td>14</td>\n",
       "      <td>14</td>\n",
       "    </tr>\n",
       "    <tr>\n",
       "      <th>UCzzt-UNlRHbEFY3rEpFpuXw</th>\n",
       "      <td>288</td>\n",
       "      <td>282</td>\n",
       "      <td>282</td>\n",
       "    </tr>\n",
       "    <tr>\n",
       "      <th>UCzztaOtjmaZoiLvWLagq7bg</th>\n",
       "      <td>372</td>\n",
       "      <td>298</td>\n",
       "      <td>297</td>\n",
       "    </tr>\n",
       "    <tr>\n",
       "      <th>UCzzyt9Z70MBX9RQAFVSNlpQ</th>\n",
       "      <td>22</td>\n",
       "      <td>22</td>\n",
       "      <td>22</td>\n",
       "    </tr>\n",
       "    <tr>\n",
       "      <th>UCzzzZ3-icktxbC3j7hkWqRw</th>\n",
       "      <td>43</td>\n",
       "      <td>43</td>\n",
       "      <td>43</td>\n",
       "    </tr>\n",
       "  </tbody>\n",
       "</table>\n",
       "<p>120168 rows × 3 columns</p>\n",
       "</div>"
      ],
      "text/plain": [
       "                          count_channel  count_metadata  count_timeseries\n",
       "UC--24Q3_ZQeFmgJE-Um5QZQ            192             189               188\n",
       "UC--2EbuIuBOGgGqPiJxi3rg             62              60                60\n",
       "UC--3c8RqSfAqYBdDjIG3UNA            337             333               333\n",
       "UC--3ozenTzry39-xMqAPQlw             81              43                43\n",
       "UC--6E6EpybocdaNlPhvK_9A             31              31                31\n",
       "...                                 ...             ...               ...\n",
       "UCzzsKg4jPGBL05t2w3HfHBA             14              14                14\n",
       "UCzzt-UNlRHbEFY3rEpFpuXw            288             282               282\n",
       "UCzztaOtjmaZoiLvWLagq7bg            372             298               297\n",
       "UCzzyt9Z70MBX9RQAFVSNlpQ             22              22                22\n",
       "UCzzzZ3-icktxbC3j7hkWqRw             43              43                43\n",
       "\n",
       "[120168 rows x 3 columns]"
      ]
     },
     "execution_count": 22,
     "metadata": {},
     "output_type": "execute_result"
    }
   ],
   "source": [
    "count_concat2=pd.concat([df_channels_en_clean['videos_cc'].rename('count_channel'),count_concat],axis=1)\n",
    "count_concat2"
   ]
  },
  {
   "cell_type": "code",
   "execution_count": 26,
   "id": "f43045b6",
   "metadata": {},
   "outputs": [],
   "source": [
    "#Computing absolute difference between count form channel and count from timeseries and metadata\n",
    "count_concat2['channel_minus_metadata']=(count_concat2['count_channel']-count_concat2['count_metadata']).apply(lambda x:np.abs(x))\n",
    "count_concat2['channel_minus_timeseries']=(count_concat2['count_channel']-count_concat2['count_timeseries']).apply(lambda x:np.abs(x))"
   ]
  },
  {
   "cell_type": "code",
   "execution_count": 30,
   "id": "af1a3224",
   "metadata": {},
   "outputs": [
    {
     "data": {
      "text/html": [
       "<div>\n",
       "<style scoped>\n",
       "    .dataframe tbody tr th:only-of-type {\n",
       "        vertical-align: middle;\n",
       "    }\n",
       "\n",
       "    .dataframe tbody tr th {\n",
       "        vertical-align: top;\n",
       "    }\n",
       "\n",
       "    .dataframe thead th {\n",
       "        text-align: right;\n",
       "    }\n",
       "</style>\n",
       "<table border=\"1\" class=\"dataframe\">\n",
       "  <thead>\n",
       "    <tr style=\"text-align: right;\">\n",
       "      <th></th>\n",
       "      <th>count_channel</th>\n",
       "      <th>count_metadata</th>\n",
       "      <th>count_timeseries</th>\n",
       "      <th>channel_minus_metadata</th>\n",
       "      <th>channel_minus_timeseries</th>\n",
       "    </tr>\n",
       "  </thead>\n",
       "  <tbody>\n",
       "    <tr>\n",
       "      <th>UC--24Q3_ZQeFmgJE-Um5QZQ</th>\n",
       "      <td>192</td>\n",
       "      <td>189</td>\n",
       "      <td>188</td>\n",
       "      <td>3</td>\n",
       "      <td>4</td>\n",
       "    </tr>\n",
       "    <tr>\n",
       "      <th>UC--2EbuIuBOGgGqPiJxi3rg</th>\n",
       "      <td>62</td>\n",
       "      <td>60</td>\n",
       "      <td>60</td>\n",
       "      <td>2</td>\n",
       "      <td>2</td>\n",
       "    </tr>\n",
       "    <tr>\n",
       "      <th>UC--6E6EpybocdaNlPhvK_9A</th>\n",
       "      <td>31</td>\n",
       "      <td>31</td>\n",
       "      <td>31</td>\n",
       "      <td>0</td>\n",
       "      <td>0</td>\n",
       "    </tr>\n",
       "    <tr>\n",
       "      <th>UC--70ql_IxJmhmqXqrkJrWQ</th>\n",
       "      <td>247</td>\n",
       "      <td>245</td>\n",
       "      <td>243</td>\n",
       "      <td>2</td>\n",
       "      <td>4</td>\n",
       "    </tr>\n",
       "    <tr>\n",
       "      <th>UC--94OGFAzYDOJb0eXgMjew</th>\n",
       "      <td>42</td>\n",
       "      <td>43</td>\n",
       "      <td>42</td>\n",
       "      <td>1</td>\n",
       "      <td>0</td>\n",
       "    </tr>\n",
       "    <tr>\n",
       "      <th>...</th>\n",
       "      <td>...</td>\n",
       "      <td>...</td>\n",
       "      <td>...</td>\n",
       "      <td>...</td>\n",
       "      <td>...</td>\n",
       "    </tr>\n",
       "    <tr>\n",
       "      <th>UCzzgEOi0xR9SuflkXmTQv6g</th>\n",
       "      <td>121</td>\n",
       "      <td>118</td>\n",
       "      <td>118</td>\n",
       "      <td>3</td>\n",
       "      <td>3</td>\n",
       "    </tr>\n",
       "    <tr>\n",
       "      <th>UCzzqd0yx7h1PuC3KJVqeJgw</th>\n",
       "      <td>271</td>\n",
       "      <td>272</td>\n",
       "      <td>271</td>\n",
       "      <td>1</td>\n",
       "      <td>0</td>\n",
       "    </tr>\n",
       "    <tr>\n",
       "      <th>UCzzsKg4jPGBL05t2w3HfHBA</th>\n",
       "      <td>14</td>\n",
       "      <td>14</td>\n",
       "      <td>14</td>\n",
       "      <td>0</td>\n",
       "      <td>0</td>\n",
       "    </tr>\n",
       "    <tr>\n",
       "      <th>UCzzyt9Z70MBX9RQAFVSNlpQ</th>\n",
       "      <td>22</td>\n",
       "      <td>22</td>\n",
       "      <td>22</td>\n",
       "      <td>0</td>\n",
       "      <td>0</td>\n",
       "    </tr>\n",
       "    <tr>\n",
       "      <th>UCzzzZ3-icktxbC3j7hkWqRw</th>\n",
       "      <td>43</td>\n",
       "      <td>43</td>\n",
       "      <td>43</td>\n",
       "      <td>0</td>\n",
       "      <td>0</td>\n",
       "    </tr>\n",
       "  </tbody>\n",
       "</table>\n",
       "<p>91042 rows × 5 columns</p>\n",
       "</div>"
      ],
      "text/plain": [
       "                          count_channel  count_metadata  count_timeseries  \\\n",
       "UC--24Q3_ZQeFmgJE-Um5QZQ            192             189               188   \n",
       "UC--2EbuIuBOGgGqPiJxi3rg             62              60                60   \n",
       "UC--6E6EpybocdaNlPhvK_9A             31              31                31   \n",
       "UC--70ql_IxJmhmqXqrkJrWQ            247             245               243   \n",
       "UC--94OGFAzYDOJb0eXgMjew             42              43                42   \n",
       "...                                 ...             ...               ...   \n",
       "UCzzgEOi0xR9SuflkXmTQv6g            121             118               118   \n",
       "UCzzqd0yx7h1PuC3KJVqeJgw            271             272               271   \n",
       "UCzzsKg4jPGBL05t2w3HfHBA             14              14                14   \n",
       "UCzzyt9Z70MBX9RQAFVSNlpQ             22              22                22   \n",
       "UCzzzZ3-icktxbC3j7hkWqRw             43              43                43   \n",
       "\n",
       "                          channel_minus_metadata  channel_minus_timeseries  \n",
       "UC--24Q3_ZQeFmgJE-Um5QZQ                       3                         4  \n",
       "UC--2EbuIuBOGgGqPiJxi3rg                       2                         2  \n",
       "UC--6E6EpybocdaNlPhvK_9A                       0                         0  \n",
       "UC--70ql_IxJmhmqXqrkJrWQ                       2                         4  \n",
       "UC--94OGFAzYDOJb0eXgMjew                       1                         0  \n",
       "...                                          ...                       ...  \n",
       "UCzzgEOi0xR9SuflkXmTQv6g                       3                         3  \n",
       "UCzzqd0yx7h1PuC3KJVqeJgw                       1                         0  \n",
       "UCzzsKg4jPGBL05t2w3HfHBA                       0                         0  \n",
       "UCzzyt9Z70MBX9RQAFVSNlpQ                       0                         0  \n",
       "UCzzzZ3-icktxbC3j7hkWqRw                       0                         0  \n",
       "\n",
       "[91042 rows x 5 columns]"
      ]
     },
     "execution_count": 30,
     "metadata": {},
     "output_type": "execute_result"
    }
   ],
   "source": [
    "#If we allow for a difference of at most three, we get 91402 channel ids\n",
    "count_concat2[(count_concat2['channel_minus_metadata']<=3) |(count_concat2['channel_minus_timeseries']<=3)]"
   ]
  },
  {
   "cell_type": "code",
   "execution_count": 31,
   "id": "34a9d148",
   "metadata": {
    "scrolled": true
   },
   "outputs": [
    {
     "data": {
      "text/html": [
       "<div>\n",
       "<style scoped>\n",
       "    .dataframe tbody tr th:only-of-type {\n",
       "        vertical-align: middle;\n",
       "    }\n",
       "\n",
       "    .dataframe tbody tr th {\n",
       "        vertical-align: top;\n",
       "    }\n",
       "\n",
       "    .dataframe thead th {\n",
       "        text-align: right;\n",
       "    }\n",
       "</style>\n",
       "<table border=\"1\" class=\"dataframe\">\n",
       "  <thead>\n",
       "    <tr style=\"text-align: right;\">\n",
       "      <th></th>\n",
       "      <th>count_channel</th>\n",
       "      <th>count_metadata</th>\n",
       "      <th>count_timeseries</th>\n",
       "      <th>channel_minus_metadata</th>\n",
       "      <th>channel_minus_timeseries</th>\n",
       "    </tr>\n",
       "  </thead>\n",
       "  <tbody>\n",
       "    <tr>\n",
       "      <th>UC--6E6EpybocdaNlPhvK_9A</th>\n",
       "      <td>31</td>\n",
       "      <td>31</td>\n",
       "      <td>31</td>\n",
       "      <td>0</td>\n",
       "      <td>0</td>\n",
       "    </tr>\n",
       "    <tr>\n",
       "      <th>UC--EwQJeJ6SKlJdswehQH4g</th>\n",
       "      <td>51</td>\n",
       "      <td>51</td>\n",
       "      <td>51</td>\n",
       "      <td>0</td>\n",
       "      <td>0</td>\n",
       "    </tr>\n",
       "    <tr>\n",
       "      <th>UC--bRDxn5YWEiqs3p8zzvlw</th>\n",
       "      <td>142</td>\n",
       "      <td>142</td>\n",
       "      <td>142</td>\n",
       "      <td>0</td>\n",
       "      <td>0</td>\n",
       "    </tr>\n",
       "    <tr>\n",
       "      <th>UC--g_wJaqDjFx57RPrtSpow</th>\n",
       "      <td>15</td>\n",
       "      <td>15</td>\n",
       "      <td>15</td>\n",
       "      <td>0</td>\n",
       "      <td>0</td>\n",
       "    </tr>\n",
       "    <tr>\n",
       "      <th>UC--lqu1v7hxajuC1TlmtT0Q</th>\n",
       "      <td>39</td>\n",
       "      <td>39</td>\n",
       "      <td>39</td>\n",
       "      <td>0</td>\n",
       "      <td>0</td>\n",
       "    </tr>\n",
       "    <tr>\n",
       "      <th>...</th>\n",
       "      <td>...</td>\n",
       "      <td>...</td>\n",
       "      <td>...</td>\n",
       "      <td>...</td>\n",
       "      <td>...</td>\n",
       "    </tr>\n",
       "    <tr>\n",
       "      <th>UCzzUx3uOjiRM-FsBH027O9w</th>\n",
       "      <td>49</td>\n",
       "      <td>49</td>\n",
       "      <td>49</td>\n",
       "      <td>0</td>\n",
       "      <td>0</td>\n",
       "    </tr>\n",
       "    <tr>\n",
       "      <th>UCzzbaQY1nPim5yroAjtXRTw</th>\n",
       "      <td>81</td>\n",
       "      <td>81</td>\n",
       "      <td>81</td>\n",
       "      <td>0</td>\n",
       "      <td>0</td>\n",
       "    </tr>\n",
       "    <tr>\n",
       "      <th>UCzzsKg4jPGBL05t2w3HfHBA</th>\n",
       "      <td>14</td>\n",
       "      <td>14</td>\n",
       "      <td>14</td>\n",
       "      <td>0</td>\n",
       "      <td>0</td>\n",
       "    </tr>\n",
       "    <tr>\n",
       "      <th>UCzzyt9Z70MBX9RQAFVSNlpQ</th>\n",
       "      <td>22</td>\n",
       "      <td>22</td>\n",
       "      <td>22</td>\n",
       "      <td>0</td>\n",
       "      <td>0</td>\n",
       "    </tr>\n",
       "    <tr>\n",
       "      <th>UCzzzZ3-icktxbC3j7hkWqRw</th>\n",
       "      <td>43</td>\n",
       "      <td>43</td>\n",
       "      <td>43</td>\n",
       "      <td>0</td>\n",
       "      <td>0</td>\n",
       "    </tr>\n",
       "  </tbody>\n",
       "</table>\n",
       "<p>34609 rows × 5 columns</p>\n",
       "</div>"
      ],
      "text/plain": [
       "                          count_channel  count_metadata  count_timeseries  \\\n",
       "UC--6E6EpybocdaNlPhvK_9A             31              31                31   \n",
       "UC--EwQJeJ6SKlJdswehQH4g             51              51                51   \n",
       "UC--bRDxn5YWEiqs3p8zzvlw            142             142               142   \n",
       "UC--g_wJaqDjFx57RPrtSpow             15              15                15   \n",
       "UC--lqu1v7hxajuC1TlmtT0Q             39              39                39   \n",
       "...                                 ...             ...               ...   \n",
       "UCzzUx3uOjiRM-FsBH027O9w             49              49                49   \n",
       "UCzzbaQY1nPim5yroAjtXRTw             81              81                81   \n",
       "UCzzsKg4jPGBL05t2w3HfHBA             14              14                14   \n",
       "UCzzyt9Z70MBX9RQAFVSNlpQ             22              22                22   \n",
       "UCzzzZ3-icktxbC3j7hkWqRw             43              43                43   \n",
       "\n",
       "                          channel_minus_metadata  channel_minus_timeseries  \n",
       "UC--6E6EpybocdaNlPhvK_9A                       0                         0  \n",
       "UC--EwQJeJ6SKlJdswehQH4g                       0                         0  \n",
       "UC--bRDxn5YWEiqs3p8zzvlw                       0                         0  \n",
       "UC--g_wJaqDjFx57RPrtSpow                       0                         0  \n",
       "UC--lqu1v7hxajuC1TlmtT0Q                       0                         0  \n",
       "...                                          ...                       ...  \n",
       "UCzzUx3uOjiRM-FsBH027O9w                       0                         0  \n",
       "UCzzbaQY1nPim5yroAjtXRTw                       0                         0  \n",
       "UCzzsKg4jPGBL05t2w3HfHBA                       0                         0  \n",
       "UCzzyt9Z70MBX9RQAFVSNlpQ                       0                         0  \n",
       "UCzzzZ3-icktxbC3j7hkWqRw                       0                         0  \n",
       "\n",
       "[34609 rows x 5 columns]"
      ]
     },
     "execution_count": 31,
     "metadata": {},
     "output_type": "execute_result"
    }
   ],
   "source": [
    "count_concat2[(count_concat2['count_channel']==count_concat2['count_metadata']) & (count_concat2['count_metadata']==count_concat2['count_timeseries'])]"
   ]
  },
  {
   "cell_type": "markdown",
   "id": "2e333cd4",
   "metadata": {},
   "source": [
    "There are only 34609 channels id for which the video counts match! In further analysis, we might consider using only these, or also the others, depending on the application !"
   ]
  }
 ],
 "metadata": {
  "kernelspec": {
   "display_name": "Python 3 (ipykernel)",
   "language": "python",
   "name": "python3"
  },
  "language_info": {
   "codemirror_mode": {
    "name": "ipython",
    "version": 3
   },
   "file_extension": ".py",
   "mimetype": "text/x-python",
   "name": "python",
   "nbconvert_exporter": "python",
   "pygments_lexer": "ipython3",
   "version": "3.9.7"
  }
 },
 "nbformat": 4,
 "nbformat_minor": 5
}
